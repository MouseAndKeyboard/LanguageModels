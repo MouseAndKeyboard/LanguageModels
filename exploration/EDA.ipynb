{
 "cells": [
  {
   "cell_type": "code",
   "execution_count": 1,
   "id": "e4104253",
   "metadata": {
    "ExecuteTime": {
     "end_time": "2022-05-14T08:54:01.848432Z",
     "start_time": "2022-05-14T08:54:01.836020Z"
    }
   },
   "outputs": [],
   "source": [
    "import numpy as np\n",
    "import pandas as pd\n",
    "import sys\n",
    "import functools\n",
    "import matplotlib.pyplot as plt\n",
    "import ftfy\n",
    "from time import time\n",
    "import matplotlib\n",
    "matplotlib.rcParams['figure.figsize'] = (20, 10)\n",
    "\n",
    "from sklearn.model_selection import train_test_split\n",
    "from sklearn.feature_extraction.text import TfidfVectorizer\n",
    "\n",
    "import gensim\n",
    "from gensim.corpora import Dictionary\n",
    "import gensim.downloader as api\n",
    "\n",
    "def get_summary(pipeline_func):\n",
    "    @functools.wraps(pipeline_func)\n",
    "    def wrapper(*args, **kwargs):\n",
    "        assert isinstance(args[0], pd.core.frame.DataFrame)\n",
    "        result_df = pipeline_func(*args, **kwargs)\n",
    "        assert isinstance(result_df, pd.core.frame.DataFrame)\n",
    "        print(result_df.shape)\n",
    "\n",
    "        return result_df\n",
    "\n",
    "    return wrapper\n",
    "\n",
    "def get_data(filepath):\n",
    "    print(f\"reading from {filepath}\")\n",
    "    try:\n",
    "        df = pd.read_csv(filepath)\n",
    "        return df\n",
    "    except:\n",
    "        print(\"couldn't read data\")\n",
    "        return pd.DataFrame()\n",
    "\n",
    "def pipeline(df, fns, name):\n",
    "    intermediate = df\n",
    "    assert isinstance(intermediate, pd.core.frame.DataFrame)\n",
    "    print(f\"RUNNING {name}\")\n",
    "    for i, fn in enumerate(fns):\n",
    "        print(f\"STEP {i+1}: {str(fn)}\")\n",
    "        intermediate = fn(intermediate)\n",
    "        assert isinstance(intermediate, pd.core.frame.DataFrame)\n",
    "        intermediate.reset_index(drop=True, inplace=True)\n",
    "    print(\"[DONE] ------------\\n\")\n",
    "    return intermediate\n",
    "\n",
    "@get_summary\n",
    "def initial(df):\n",
    "    print(df.keys())\n",
    "    return df\n",
    "\n",
    "@get_summary\n",
    "def top2k(df):\n",
    "    return df[:2000]\n",
    "\n",
    "@get_summary\n",
    "def drop_columns(df):\n",
    "    result = df[[\"category\", \"job_description\", \"is_fulltime\"]]\n",
    "    return result\n",
    "\n",
    "@get_summary\n",
    "def create_binary_job(df):\n",
    "    df.loc[:, \"is_fulltime\"] = df.job_type == 'Full Time'\n",
    "    return df\n",
    "\n",
    "@get_summary\n",
    "def task1_fields(df):\n",
    "    return df[[\"job_description\", \"is_fulltime\", \"tfidf10\"]]\n",
    "\n",
    "def get_category_proportions(df):\n",
    "    print(df.category.value_counts() / sum(df.category.value_counts()))\n",
    "    return df\n",
    "\n",
    "@get_summary\n",
    "def stratified_undersample_fulltime(df):\n",
    "    other_count = len(df) - sum(df.is_fulltime)\n",
    "    assert other_count == sum(~df.is_fulltime)\n",
    "    \n",
    "    all_indices = np.arange(len(df))\n",
    "    fulltime_indices = all_indices[df.is_fulltime]\n",
    "    other_indices = all_indices[~df.is_fulltime]\n",
    "    \n",
    "    # we need to select other_count indices out of the fulltime_indices list without replacement\n",
    "    \n",
    "    category_counts = other_count * (df.category.value_counts() / sum(df.category.value_counts()))\n",
    "    category_counts = category_counts.astype(int)\n",
    "    resulting_indices = []\n",
    "    for category in df.category.unique():\n",
    "        in_category_and_fulltime = all_indices[(df.is_fulltime) & (df.category == category)]\n",
    "        choices = np.random.choice(in_category_and_fulltime, category_counts[category])\n",
    "        resulting_indices.extend(choices)\n",
    "        \n",
    "    new_df = df.loc[[*resulting_indices, *other_indices]]\n",
    "    return new_df\n",
    "    \n",
    "def display_category_count_stats(df):\n",
    "    print(f\"Category counts: {round(df.category.value_counts().mean(), 2)} ± {round(df.category.value_counts().std(), 2)}\")\n",
    "    return df\n",
    "    \n",
    "@get_summary\n",
    "def delete_dupes(df):\n",
    "    # Considers duplicate if job description is identical\n",
    "    df = df.drop_duplicates(subset=[\"job_description\"], keep='first')\n",
    "    return df\n",
    "\n",
    "def replace_empty_with_nan(df):\n",
    "    df['job_description'].replace('', np.nan, inplace=True)\n",
    "    return df\n",
    "\n",
    "def which_na(df):\n",
    "    print(df[df.job_description.isna()].category.value_counts())\n",
    "    print(df[df.job_description.isna()].company_name.value_counts())\n",
    "    return df\n",
    "    \n",
    "@get_summary\n",
    "def delete_na(df):\n",
    "    df.dropna(subset=['job_description'], inplace=True)\n",
    "    return df\n",
    "    \n",
    "@get_summary\n",
    "def random_undersample_categories(df):\n",
    "    MAXIMUM_CLASS_COUNT = 1289\n",
    "    \n",
    "    undersampled_frame = pd.DataFrame()\n",
    "    \n",
    "    for class_name in df.category.unique():\n",
    "        class_count = sum(df.category == class_name)\n",
    "        if class_count > MAXIMUM_CLASS_COUNT:\n",
    "            # Need to undersample this class\n",
    "            undersampled = df[df.category == class_name].sample(MAXIMUM_CLASS_COUNT)\n",
    "            undersampled_frame = pd.concat([undersampled_frame, undersampled])\n",
    "        else:\n",
    "            undersampled_frame = pd.concat([undersampled_frame, df[df.category == class_name]])\n",
    "    \n",
    "    return undersampled_frame\n",
    "\n",
    "@get_summary\n",
    "def random_oversample_categories(df):\n",
    "    MINIMUM_CLASS_COUNT = 502\n",
    "    \n",
    "    oversampled_frame = pd.DataFrame()\n",
    "    \n",
    "    for class_name in df.category.unique():\n",
    "        class_count = sum(df.category == class_name)\n",
    "        if class_count < MINIMUM_CLASS_COUNT:\n",
    "            # Need to oversample this class\n",
    "            required_to_add = MINIMUM_CLASS_COUNT - class_count\n",
    "            additional = df[df.category == class_name].sample(required_to_add, replace=True)\n",
    "            oversampled_frame = pd.concat([oversampled_frame, additional])\n",
    "        oversampled_frame = pd.concat([oversampled_frame, df[df.category == class_name]])\n",
    "            \n",
    "    return oversampled_frame\n",
    "    \n",
    "@get_summary\n",
    "def naive_undersample_fulltime(df):\n",
    "    other_count = len(df) - sum(df.is_fulltime)\n",
    "    all_indices = np.arange(len(df))\n",
    "    fulltime_indices = all_indices[df.is_fulltime]\n",
    "    other_indices = all_indices[~df.is_fulltime]\n",
    "    new_df = df.loc[[*np.random.choice(fulltime_indices, other_count), *other_indices]] \n",
    "    \n",
    "    return new_df\n",
    "    \n",
    "def tokenise(df):\n",
    "    df['job_description'] = df.job_description.apply(lambda entry: gensim.utils.simple_preprocess(str(entry), deacc=True)) \n",
    "    return df\n",
    "    \n",
    "@get_summary\n",
    "def task2_fields(df):\n",
    "    return df[[\"job_description\", \"category\", \"tfidf10\"]]\n",
    "\n",
    "def display_balance(df):\n",
    "    fulltime_prop = sum(df.is_fulltime) / len(df)\n",
    "    print(f\"FULL TIME %: {round(fulltime_prop * 100, 2)}%\")\n",
    "    print(f\"OTHER %: {round((1 - fulltime_prop) * 100, 2)}%\")\n",
    "    return df\n",
    "\n",
    "def fix_encoding(df):\n",
    "    df.loc[:, 'job_description'] = [ftfy.fix_text(jd) for jd in df.job_description]\n",
    "    return df\n",
    "    \n",
    "def add_tfidf_top10(df):\n",
    "    \n",
    "    tfidf_vectorizer = TfidfVectorizer()\n",
    "    tfidf_vectorizer_vectors = tfidf_vectorizer.fit_transform([' '.join(jd) for jd in df.job_description])\n",
    "\n",
    "    names = tfidf_vectorizer.get_feature_names_out()\n",
    "    top10s = []\n",
    "    for i in range(tfidf_vectorizer_vectors.shape[0]):\n",
    "        if i % 10000 == 0:\n",
    "            print(f\"{i} records done\")\n",
    "        vector = tfidf_vectorizer_vectors[i].toarray()[0]\n",
    "        top10 = np.argpartition(vector, -10)[-10:]\n",
    "        top10s.append(names[top10])\n",
    "    \n",
    "    df['tfidf10'] = pd.Series(top10s)\n",
    "    \n",
    "    return df\n",
    "\n",
    "def train_val_test(data, train, val, test):\n",
    "    assert train + val + test == 1\n",
    "    training, other = train_test_split(data, train_size=train, shuffle=True)\n",
    "    validate, testing = train_test_split(data, train_size=val, test_size=test, shuffle=True)\n",
    "    \n",
    "    return training, validate, testing"
   ]
  },
  {
   "cell_type": "markdown",
   "id": "2c69bc1d",
   "metadata": {},
   "source": [
    "# Preprocessing Pipeline"
   ]
  },
  {
   "cell_type": "code",
   "execution_count": 2,
   "id": "2623bfc9",
   "metadata": {
    "ExecuteTime": {
     "end_time": "2022-05-14T08:53:48.116196Z",
     "start_time": "2022-05-14T08:53:47.670078Z"
    },
    "scrolled": false
   },
   "outputs": [
    {
     "name": "stdout",
     "output_type": "stream",
     "text": [
      "reading from ../data/seek_australia.csv\n",
      "RUNNING Initial pipeline\n",
      "STEP 1: <function initial at 0x7f3415eaea60>\n",
      "Index(['category', 'city', 'company_name', 'geo', 'job_board',\n",
      "       'job_description', 'job_title', 'job_type', 'post_date',\n",
      "       'salary_offered', 'state', 'url'],\n",
      "      dtype='object')\n",
      "(30000, 12)\n",
      "STEP 2: <function create_binary_job at 0x7f3415eaedc0>\n",
      "(30000, 13)\n",
      "STEP 3: <function replace_empty_with_nan at 0x7f3415eb4310>\n",
      "STEP 4: <function which_na at 0x7f3415eb43a0>\n",
      "Information & Communication Technology    38\n",
      "Manufacturing, Transport & Logistics      36\n",
      "Trades & Services                         35\n",
      "Legal                                     25\n",
      "Healthcare & Medical                      25\n",
      "Administration & Office Support           25\n",
      "Marketing & Communications                21\n",
      "Sales                                     20\n",
      "Education & Training                      14\n",
      "Hospitality & Tourism                     14\n",
      "Government & Defence                      14\n",
      "Construction                              10\n",
      "Call Centre & Customer Service            10\n",
      "Retail & Consumer Products                10\n",
      "Human Resources & Recruitment             10\n",
      "Engineering                                8\n",
      "Advertising, Arts & Media                  6\n",
      "Community Services & Development           6\n",
      "Mining, Resources & Energy                 5\n",
      "Banking & Financial Services               3\n",
      "Accounting                                 3\n",
      "Real Estate & Property                     3\n",
      "Farming, Animals & Conservation            1\n",
      "Insurance & Superannuation                 1\n",
      "CEO & General Management                   1\n",
      "Science & Technology                       1\n",
      "Name: category, dtype: int64\n",
      "Kaleidoscope Legal Recruitment          23\n",
      "Excel Recruitment                       16\n",
      "Private Advertiser                      11\n",
      "Department of Education and Training    10\n",
      "Melbourne Water                          7\n",
      "                                        ..\n",
      "Genea                                    1\n",
      "Platinum People Solutions                1\n",
      "Camnet                                   1\n",
      "Blue Line Cruises                        1\n",
      "Metro Ice Cream Distribution Pty Ltd     1\n",
      "Name: company_name, Length: 170, dtype: int64\n",
      "STEP 5: <function delete_na at 0x7f3415eb44c0>\n",
      "(29655, 13)\n",
      "STEP 6: <function fix_encoding at 0x7f3415eb4af0>\n",
      "STEP 7: <function delete_dupes at 0x7f3415eb4280>\n",
      "(26742, 13)\n",
      "STEP 8: <function drop_columns at 0x7f3415eaeca0>\n",
      "(26742, 3)\n",
      "STEP 9: <function tokenise at 0x7f3415eb48b0>\n",
      "STEP 10: <function add_tfidf_top10 at 0x7f3415eb4ca0>\n",
      "0 records done\n",
      "10000 records done\n",
      "20000 records done\n",
      "[DONE] ------------\n",
      "\n",
      "RUNNING Task 1 pipeline\n",
      "STEP 1: <function display_balance at 0x7f3415eb4a60>\n",
      "FULL TIME %: 66.82%\n",
      "OTHER %: 33.18%\n",
      "STEP 2: <function stratified_undersample_fulltime at 0x7f3415eb40d0>\n",
      "(17731, 4)\n",
      "STEP 3: <function display_balance at 0x7f3415eb4a60>\n",
      "FULL TIME %: 49.96%\n",
      "OTHER %: 50.04%\n",
      "STEP 4: <function task1_fields at 0x7f3415eaeee0>\n",
      "(17731, 3)\n",
      "[DONE] ------------\n",
      "\n",
      "RUNNING Task 2 pipeline\n",
      "STEP 1: <function task2_fields at 0x7f3415eb49d0>\n",
      "(26742, 3)\n",
      "STEP 2: <function display_category_count_stats at 0x7f3415eb4160>\n",
      "Category counts: 891.4 ± 784.31\n",
      "STEP 3: <function random_undersample_categories at 0x7f3415eb45e0>\n",
      "(21384, 3)\n",
      "STEP 4: <function random_oversample_categories at 0x7f3415eb4700>\n",
      "(24713, 3)\n",
      "[DONE] ------------\n",
      "\n"
     ]
    }
   ],
   "source": [
    "origin_df = get_data('../data/seek_australia.csv')\n",
    "result = pipeline(origin_df, [initial, create_binary_job, replace_empty_with_nan, which_na, delete_na, fix_encoding, delete_dupes, drop_columns, tokenise, add_tfidf_top10], \"Initial pipeline\")\n",
    "task1_result = pipeline(result, [display_balance, stratified_undersample_fulltime, display_balance, task1_fields], \"Task 1 pipeline\")\n",
    "task2_result = pipeline(result, [task2_fields, display_category_count_stats, random_undersample_categories, random_oversample_categories], \"Task 2 pipeline\")"
   ]
  },
  {
   "cell_type": "code",
   "execution_count": 3,
   "id": "f8e1149e",
   "metadata": {
    "ExecuteTime": {
     "end_time": "2022-05-14T06:14:50.831948Z",
     "start_time": "2022-05-14T06:14:50.829574Z"
    },
    "scrolled": false
   },
   "outputs": [],
   "source": [
    "def save_split(train, val, test, name):\n",
    "    train.to_csv(f'../data/{name}-train.csv')\n",
    "    test.to_csv(f'../data/{name}-test.csv')\n",
    "    val.to_csv(f'../data/{name}-val.csv')\n",
    "    \n",
    "    \n",
    "def save_results(results):\n",
    "    for name,result in results.items():\n",
    "        result.to_csv(f'../data/{name}.csv')\n",
    "        train, val, test = train_val_test(result, 0.7, 0.1, 0.2)\n",
    "        save_split(train, val, test, name)\n",
    "\n",
    "# t1_train, t1_val, t1_test = train_val_test(task1_result, 0.7, 0.1, 0.2)\n",
    "# t2_train, t2_val, t2_test = train_val_test(task2_result, 0.7, 0.1, 0.2)\n",
    "\n",
    "# save_split(t1_train, t1_val, t1_test, \"task_1\")\n",
    "# save_split(t2_train, t2_val, t2_test, \"task_2\")"
   ]
  },
  {
   "cell_type": "code",
   "execution_count": 4,
   "id": "0a566ec5",
   "metadata": {
    "ExecuteTime": {
     "end_time": "2022-05-14T06:15:08.739157Z",
     "start_time": "2022-05-14T06:15:04.141723Z"
    }
   },
   "outputs": [],
   "source": [
    "save_results(\n",
    "    {\n",
    "        \"task1\": task1_result,\n",
    "        \"task2\": task2_result\n",
    "    }\n",
    ")"
   ]
  },
  {
   "cell_type": "code",
   "execution_count": 5,
   "id": "f25de761",
   "metadata": {
    "ExecuteTime": {
     "end_time": "2022-05-14T05:41:10.269187Z",
     "start_time": "2022-05-14T05:41:10.261414Z"
    }
   },
   "outputs": [
    {
     "data": {
      "text/html": [
       "<div>\n",
       "<style scoped>\n",
       "    .dataframe tbody tr th:only-of-type {\n",
       "        vertical-align: middle;\n",
       "    }\n",
       "\n",
       "    .dataframe tbody tr th {\n",
       "        vertical-align: top;\n",
       "    }\n",
       "\n",
       "    .dataframe thead th {\n",
       "        text-align: right;\n",
       "    }\n",
       "</style>\n",
       "<table border=\"1\" class=\"dataframe\">\n",
       "  <thead>\n",
       "    <tr style=\"text-align: right;\">\n",
       "      <th></th>\n",
       "      <th>job_description</th>\n",
       "      <th>category</th>\n",
       "      <th>tfidf10</th>\n",
       "    </tr>\n",
       "  </thead>\n",
       "  <tbody>\n",
       "    <tr>\n",
       "      <th>0</th>\n",
       "      <td>[have, you, had, years, experience, in, fresh,...</td>\n",
       "      <td>Retail &amp; Consumer Products</td>\n",
       "      <td>[the, sebastian, produce, and, for, store, wad...</td>\n",
       "    </tr>\n",
       "    <tr>\n",
       "      <th>1</th>\n",
       "      <td>[about, us, retail, safari, as, part, of, cpm,...</td>\n",
       "      <td>Retail &amp; Consumer Products</td>\n",
       "      <td>[safari, cpm, conversational, engaging, person...</td>\n",
       "    </tr>\n",
       "    <tr>\n",
       "      <th>2</th>\n",
       "      <td>[work, with, brand, you, love, wear, generous,...</td>\n",
       "      <td>Retail &amp; Consumer Products</td>\n",
       "      <td>[know, and, store, wear, sneakers, you, star, ...</td>\n",
       "    </tr>\n",
       "    <tr>\n",
       "      <th>3</th>\n",
       "      <td>[about, the, company, forever, new, is, one, o...</td>\n",
       "      <td>Retail &amp; Consumer Products</td>\n",
       "      <td>[late, new, to, beauty, her, forever, the, cel...</td>\n",
       "    </tr>\n",
       "    <tr>\n",
       "      <th>4</th>\n",
       "      <td>[sunglass, hut, is, global, retailer, with, st...</td>\n",
       "      <td>Retail &amp; Consumer Products</td>\n",
       "      <td>[chanel, ban, dolce, prada, oakley, gabbana, s...</td>\n",
       "    </tr>\n",
       "    <tr>\n",
       "      <th>...</th>\n",
       "      <td>...</td>\n",
       "      <td>...</td>\n",
       "      <td>...</td>\n",
       "    </tr>\n",
       "    <tr>\n",
       "      <th>24708</th>\n",
       "      <td>[job, no, queensland, brain, institute, the, q...</td>\n",
       "      <td>Science &amp; Technology</td>\n",
       "      <td>[zhaoyu, qbi, and, cell, research, neuroscienc...</td>\n",
       "    </tr>\n",
       "    <tr>\n",
       "      <th>24709</th>\n",
       "      <td>[to, support, company, growth, my, client, are...</td>\n",
       "      <td>Science &amp; Technology</td>\n",
       "      <td>[pic, gmp, ensure, manage, qa, approval, valid...</td>\n",
       "    </tr>\n",
       "    <tr>\n",
       "      <th>24710</th>\n",
       "      <td>[school, of, biomedical, sciences, the, univer...</td>\n",
       "      <td>Science &amp; Technology</td>\n",
       "      <td>[therapeutics, nanotechnology, school, biomedi...</td>\n",
       "    </tr>\n",
       "    <tr>\n",
       "      <th>24711</th>\n",
       "      <td>[job, no, location, clayton, campus, employmen...</td>\n",
       "      <td>Science &amp; Technology</td>\n",
       "      <td>[to, feeling, science, dean, of, monash, and, ...</td>\n",
       "    </tr>\n",
       "    <tr>\n",
       "      <th>24712</th>\n",
       "      <td>[are, you, looking, for, lead, assessor, or, c...</td>\n",
       "      <td>Science &amp; Technology</td>\n",
       "      <td>[association, of, technical, assessments, cali...</td>\n",
       "    </tr>\n",
       "  </tbody>\n",
       "</table>\n",
       "<p>24713 rows × 3 columns</p>\n",
       "</div>"
      ],
      "text/plain": [
       "                                         job_description  \\\n",
       "0      [have, you, had, years, experience, in, fresh,...   \n",
       "1      [about, us, retail, safari, as, part, of, cpm,...   \n",
       "2      [work, with, brand, you, love, wear, generous,...   \n",
       "3      [about, the, company, forever, new, is, one, o...   \n",
       "4      [sunglass, hut, is, global, retailer, with, st...   \n",
       "...                                                  ...   \n",
       "24708  [job, no, queensland, brain, institute, the, q...   \n",
       "24709  [to, support, company, growth, my, client, are...   \n",
       "24710  [school, of, biomedical, sciences, the, univer...   \n",
       "24711  [job, no, location, clayton, campus, employmen...   \n",
       "24712  [are, you, looking, for, lead, assessor, or, c...   \n",
       "\n",
       "                         category  \\\n",
       "0      Retail & Consumer Products   \n",
       "1      Retail & Consumer Products   \n",
       "2      Retail & Consumer Products   \n",
       "3      Retail & Consumer Products   \n",
       "4      Retail & Consumer Products   \n",
       "...                           ...   \n",
       "24708        Science & Technology   \n",
       "24709        Science & Technology   \n",
       "24710        Science & Technology   \n",
       "24711        Science & Technology   \n",
       "24712        Science & Technology   \n",
       "\n",
       "                                                 tfidf10  \n",
       "0      [the, sebastian, produce, and, for, store, wad...  \n",
       "1      [safari, cpm, conversational, engaging, person...  \n",
       "2      [know, and, store, wear, sneakers, you, star, ...  \n",
       "3      [late, new, to, beauty, her, forever, the, cel...  \n",
       "4      [chanel, ban, dolce, prada, oakley, gabbana, s...  \n",
       "...                                                  ...  \n",
       "24708  [zhaoyu, qbi, and, cell, research, neuroscienc...  \n",
       "24709  [pic, gmp, ensure, manage, qa, approval, valid...  \n",
       "24710  [therapeutics, nanotechnology, school, biomedi...  \n",
       "24711  [to, feeling, science, dean, of, monash, and, ...  \n",
       "24712  [association, of, technical, assessments, cali...  \n",
       "\n",
       "[24713 rows x 3 columns]"
      ]
     },
     "execution_count": 5,
     "metadata": {},
     "output_type": "execute_result"
    }
   ],
   "source": [
    "task2_result"
   ]
  },
  {
   "cell_type": "markdown",
   "id": "5f1a15cb",
   "metadata": {},
   "source": [
    "# Job description-less jobs:\n",
    "\n",
    "There are a few companies (170 unique companies) which have made job listings with no job description. Unfortunately, these listings will be removed from the dataset.\n",
    "\n",
    "Here's a small subsection of the companies and how many empty job listings they've made so that we're aware of the bias we're introducing:\n",
    "```\n",
    "Kaleidoscope Legal Recruitment          23\n",
    "Excel Recruitment                       16\n",
    "Private Advertiser                      11\n",
    "Department of Education and Training    10\n",
    "Melbourne Water                          7\n",
    "...\n",
    "Genea                                    1\n",
    "Platinum People Solutions                1\n",
    "Camnet                                   1\n",
    "Blue Line Cruises                        1\n",
    "Metro Ice Cream Distribution Pty Ltd     1\n",
    "```"
   ]
  },
  {
   "cell_type": "markdown",
   "id": "22fcfa8e",
   "metadata": {},
   "source": [
    "# Dealing with Data Imbalance\n",
    "\n",
    "## Task 1\n",
    "\n",
    "### Undersampling\n",
    "In our case, some classes appear more frequently than others. (e.g. there are more full time jobs than any other kind). We want to try to ensure an equal balance between our classes. Since our dataset is relatively large, we can afford to undersample, this is the process where we intentionally remove samples from our larger class, reducing the overall size of our dataset.\n",
    "Naively undersampling the `is_fulltime` field will result in a biased dataset. This is because we are ignoring our knowledge of the various job categories. By naively undersampling we are probably going to change the proportion of the different job categories, e.g. we just happen to (by bad luck) disproporitonately remove a bunch of law firm jobs. This will hence skew the `job_description` data. In an attempt to mitigate this issue, we will attempt to keep the category proporitions the same when we undersample from the `is_fulltime` column. Hence we will perform a **stratified** sample of the data where the strata are the various categories.\n",
    "\n",
    "## Task 2\n",
    "\n",
    "### Undersampling & Oversampling\n",
    "Will perform over and undersampling to try and improve class balance. The mean number of data points per class is calculated above (895.03) and the standard deviation is too (787.01). Based purely on intuition, I will resample so that the maximum number of data points per class is is  \n",
    "`895 + 0.5 * 787 = 1289` and the minimum number is `895 - 0.5 * 787 = 502`. So in total, our range of data point counts per class will span from 36 to 98 (still unideal, but better than initially). 895.03 ± 787.01"
   ]
  },
  {
   "cell_type": "markdown",
   "id": "4adcb46e",
   "metadata": {},
   "source": [
    "# What the datasets look like now:"
   ]
  },
  {
   "cell_type": "code",
   "execution_count": 6,
   "id": "fdf51ed9",
   "metadata": {
    "ExecuteTime": {
     "end_time": "2022-05-14T05:41:20.374941Z",
     "start_time": "2022-05-14T05:41:20.366412Z"
    }
   },
   "outputs": [
    {
     "data": {
      "text/html": [
       "<div>\n",
       "<style scoped>\n",
       "    .dataframe tbody tr th:only-of-type {\n",
       "        vertical-align: middle;\n",
       "    }\n",
       "\n",
       "    .dataframe tbody tr th {\n",
       "        vertical-align: top;\n",
       "    }\n",
       "\n",
       "    .dataframe thead th {\n",
       "        text-align: right;\n",
       "    }\n",
       "</style>\n",
       "<table border=\"1\" class=\"dataframe\">\n",
       "  <thead>\n",
       "    <tr style=\"text-align: right;\">\n",
       "      <th></th>\n",
       "      <th>job_description</th>\n",
       "      <th>is_fulltime</th>\n",
       "      <th>tfidf10</th>\n",
       "    </tr>\n",
       "  </thead>\n",
       "  <tbody>\n",
       "    <tr>\n",
       "      <th>0</th>\n",
       "      <td>[about, us, world, renowned, in, jewellery, an...</td>\n",
       "      <td>True</td>\n",
       "      <td>[objection, maison, and, service, legends, cre...</td>\n",
       "    </tr>\n",
       "    <tr>\n",
       "      <th>1</th>\n",
       "      <td>[multi, site, customer, service, officer, bond...</td>\n",
       "      <td>True</td>\n",
       "      <td>[and, the, stores, customers, to, touch, heari...</td>\n",
       "    </tr>\n",
       "    <tr>\n",
       "      <th>2</th>\n",
       "      <td>[higher, solution, specialists, is, privately,...</td>\n",
       "      <td>True</td>\n",
       "      <td>[hss, and, ensuring, sales, jewellery, luxury,...</td>\n",
       "    </tr>\n",
       "    <tr>\n",
       "      <th>3</th>\n",
       "      <td>[about, the, company, thorn, is, one, of, aust...</td>\n",
       "      <td>True</td>\n",
       "      <td>[pool, sales, store, driven, radio, and, thorn...</td>\n",
       "    </tr>\n",
       "    <tr>\n",
       "      <th>4</th>\n",
       "      <td>[retail, management, roles, up, for, grabs, op...</td>\n",
       "      <td>True</td>\n",
       "      <td>[sassine, bonuses, street, manaer, wetherill, ...</td>\n",
       "    </tr>\n",
       "    <tr>\n",
       "      <th>...</th>\n",
       "      <td>...</td>\n",
       "      <td>...</td>\n",
       "      <td>...</td>\n",
       "    </tr>\n",
       "    <tr>\n",
       "      <th>17726</th>\n",
       "      <td>[about, us, kaplan, australia, is, one, of, th...</td>\n",
       "      <td>False</td>\n",
       "      <td>[education, campus, to, of, the, student, and,...</td>\n",
       "    </tr>\n",
       "    <tr>\n",
       "      <th>17727</th>\n",
       "      <td>[full, time, maximum, term, position, months, ...</td>\n",
       "      <td>False</td>\n",
       "      <td>[of, implementation, review, business, system,...</td>\n",
       "    </tr>\n",
       "    <tr>\n",
       "      <th>17728</th>\n",
       "      <td>[mondelez, international, is, currently, seeki...</td>\n",
       "      <td>False</td>\n",
       "      <td>[the, international, merchandiser, outlet, to,...</td>\n",
       "    </tr>\n",
       "    <tr>\n",
       "      <th>17729</th>\n",
       "      <td>[long, term, contract, for, months, with, poss...</td>\n",
       "      <td>False</td>\n",
       "      <td>[department, managers, agencies, and, grant, g...</td>\n",
       "    </tr>\n",
       "    <tr>\n",
       "      <th>17730</th>\n",
       "      <td>[customer, service, representative, west, wyal...</td>\n",
       "      <td>False</td>\n",
       "      <td>[customer, and, gov, iworkfor, pm, to, nsw, ap...</td>\n",
       "    </tr>\n",
       "  </tbody>\n",
       "</table>\n",
       "<p>17731 rows × 3 columns</p>\n",
       "</div>"
      ],
      "text/plain": [
       "                                         job_description  is_fulltime  \\\n",
       "0      [about, us, world, renowned, in, jewellery, an...         True   \n",
       "1      [multi, site, customer, service, officer, bond...         True   \n",
       "2      [higher, solution, specialists, is, privately,...         True   \n",
       "3      [about, the, company, thorn, is, one, of, aust...         True   \n",
       "4      [retail, management, roles, up, for, grabs, op...         True   \n",
       "...                                                  ...          ...   \n",
       "17726  [about, us, kaplan, australia, is, one, of, th...        False   \n",
       "17727  [full, time, maximum, term, position, months, ...        False   \n",
       "17728  [mondelez, international, is, currently, seeki...        False   \n",
       "17729  [long, term, contract, for, months, with, poss...        False   \n",
       "17730  [customer, service, representative, west, wyal...        False   \n",
       "\n",
       "                                                 tfidf10  \n",
       "0      [objection, maison, and, service, legends, cre...  \n",
       "1      [and, the, stores, customers, to, touch, heari...  \n",
       "2      [hss, and, ensuring, sales, jewellery, luxury,...  \n",
       "3      [pool, sales, store, driven, radio, and, thorn...  \n",
       "4      [sassine, bonuses, street, manaer, wetherill, ...  \n",
       "...                                                  ...  \n",
       "17726  [education, campus, to, of, the, student, and,...  \n",
       "17727  [of, implementation, review, business, system,...  \n",
       "17728  [the, international, merchandiser, outlet, to,...  \n",
       "17729  [department, managers, agencies, and, grant, g...  \n",
       "17730  [customer, and, gov, iworkfor, pm, to, nsw, ap...  \n",
       "\n",
       "[17731 rows x 3 columns]"
      ]
     },
     "execution_count": 6,
     "metadata": {},
     "output_type": "execute_result"
    }
   ],
   "source": [
    "task1_result"
   ]
  },
  {
   "cell_type": "code",
   "execution_count": 7,
   "id": "19e8c6fd",
   "metadata": {
    "ExecuteTime": {
     "end_time": "2022-05-14T05:41:21.630775Z",
     "start_time": "2022-05-14T05:41:21.622512Z"
    }
   },
   "outputs": [
    {
     "data": {
      "text/html": [
       "<div>\n",
       "<style scoped>\n",
       "    .dataframe tbody tr th:only-of-type {\n",
       "        vertical-align: middle;\n",
       "    }\n",
       "\n",
       "    .dataframe tbody tr th {\n",
       "        vertical-align: top;\n",
       "    }\n",
       "\n",
       "    .dataframe thead th {\n",
       "        text-align: right;\n",
       "    }\n",
       "</style>\n",
       "<table border=\"1\" class=\"dataframe\">\n",
       "  <thead>\n",
       "    <tr style=\"text-align: right;\">\n",
       "      <th></th>\n",
       "      <th>job_description</th>\n",
       "      <th>category</th>\n",
       "      <th>tfidf10</th>\n",
       "    </tr>\n",
       "  </thead>\n",
       "  <tbody>\n",
       "    <tr>\n",
       "      <th>0</th>\n",
       "      <td>[have, you, had, years, experience, in, fresh,...</td>\n",
       "      <td>Retail &amp; Consumer Products</td>\n",
       "      <td>[the, sebastian, produce, and, for, store, wad...</td>\n",
       "    </tr>\n",
       "    <tr>\n",
       "      <th>1</th>\n",
       "      <td>[about, us, retail, safari, as, part, of, cpm,...</td>\n",
       "      <td>Retail &amp; Consumer Products</td>\n",
       "      <td>[safari, cpm, conversational, engaging, person...</td>\n",
       "    </tr>\n",
       "    <tr>\n",
       "      <th>2</th>\n",
       "      <td>[work, with, brand, you, love, wear, generous,...</td>\n",
       "      <td>Retail &amp; Consumer Products</td>\n",
       "      <td>[know, and, store, wear, sneakers, you, star, ...</td>\n",
       "    </tr>\n",
       "    <tr>\n",
       "      <th>3</th>\n",
       "      <td>[about, the, company, forever, new, is, one, o...</td>\n",
       "      <td>Retail &amp; Consumer Products</td>\n",
       "      <td>[late, new, to, beauty, her, forever, the, cel...</td>\n",
       "    </tr>\n",
       "    <tr>\n",
       "      <th>4</th>\n",
       "      <td>[sunglass, hut, is, global, retailer, with, st...</td>\n",
       "      <td>Retail &amp; Consumer Products</td>\n",
       "      <td>[chanel, ban, dolce, prada, oakley, gabbana, s...</td>\n",
       "    </tr>\n",
       "    <tr>\n",
       "      <th>...</th>\n",
       "      <td>...</td>\n",
       "      <td>...</td>\n",
       "      <td>...</td>\n",
       "    </tr>\n",
       "    <tr>\n",
       "      <th>24708</th>\n",
       "      <td>[job, no, queensland, brain, institute, the, q...</td>\n",
       "      <td>Science &amp; Technology</td>\n",
       "      <td>[zhaoyu, qbi, and, cell, research, neuroscienc...</td>\n",
       "    </tr>\n",
       "    <tr>\n",
       "      <th>24709</th>\n",
       "      <td>[to, support, company, growth, my, client, are...</td>\n",
       "      <td>Science &amp; Technology</td>\n",
       "      <td>[pic, gmp, ensure, manage, qa, approval, valid...</td>\n",
       "    </tr>\n",
       "    <tr>\n",
       "      <th>24710</th>\n",
       "      <td>[school, of, biomedical, sciences, the, univer...</td>\n",
       "      <td>Science &amp; Technology</td>\n",
       "      <td>[therapeutics, nanotechnology, school, biomedi...</td>\n",
       "    </tr>\n",
       "    <tr>\n",
       "      <th>24711</th>\n",
       "      <td>[job, no, location, clayton, campus, employmen...</td>\n",
       "      <td>Science &amp; Technology</td>\n",
       "      <td>[to, feeling, science, dean, of, monash, and, ...</td>\n",
       "    </tr>\n",
       "    <tr>\n",
       "      <th>24712</th>\n",
       "      <td>[are, you, looking, for, lead, assessor, or, c...</td>\n",
       "      <td>Science &amp; Technology</td>\n",
       "      <td>[association, of, technical, assessments, cali...</td>\n",
       "    </tr>\n",
       "  </tbody>\n",
       "</table>\n",
       "<p>24713 rows × 3 columns</p>\n",
       "</div>"
      ],
      "text/plain": [
       "                                         job_description  \\\n",
       "0      [have, you, had, years, experience, in, fresh,...   \n",
       "1      [about, us, retail, safari, as, part, of, cpm,...   \n",
       "2      [work, with, brand, you, love, wear, generous,...   \n",
       "3      [about, the, company, forever, new, is, one, o...   \n",
       "4      [sunglass, hut, is, global, retailer, with, st...   \n",
       "...                                                  ...   \n",
       "24708  [job, no, queensland, brain, institute, the, q...   \n",
       "24709  [to, support, company, growth, my, client, are...   \n",
       "24710  [school, of, biomedical, sciences, the, univer...   \n",
       "24711  [job, no, location, clayton, campus, employmen...   \n",
       "24712  [are, you, looking, for, lead, assessor, or, c...   \n",
       "\n",
       "                         category  \\\n",
       "0      Retail & Consumer Products   \n",
       "1      Retail & Consumer Products   \n",
       "2      Retail & Consumer Products   \n",
       "3      Retail & Consumer Products   \n",
       "4      Retail & Consumer Products   \n",
       "...                           ...   \n",
       "24708        Science & Technology   \n",
       "24709        Science & Technology   \n",
       "24710        Science & Technology   \n",
       "24711        Science & Technology   \n",
       "24712        Science & Technology   \n",
       "\n",
       "                                                 tfidf10  \n",
       "0      [the, sebastian, produce, and, for, store, wad...  \n",
       "1      [safari, cpm, conversational, engaging, person...  \n",
       "2      [know, and, store, wear, sneakers, you, star, ...  \n",
       "3      [late, new, to, beauty, her, forever, the, cel...  \n",
       "4      [chanel, ban, dolce, prada, oakley, gabbana, s...  \n",
       "...                                                  ...  \n",
       "24708  [zhaoyu, qbi, and, cell, research, neuroscienc...  \n",
       "24709  [pic, gmp, ensure, manage, qa, approval, valid...  \n",
       "24710  [therapeutics, nanotechnology, school, biomedi...  \n",
       "24711  [to, feeling, science, dean, of, monash, and, ...  \n",
       "24712  [association, of, technical, assessments, cali...  \n",
       "\n",
       "[24713 rows x 3 columns]"
      ]
     },
     "execution_count": 7,
     "metadata": {},
     "output_type": "execute_result"
    }
   ],
   "source": [
    "task2_result"
   ]
  },
  {
   "cell_type": "code",
   "execution_count": 8,
   "id": "89640249",
   "metadata": {
    "ExecuteTime": {
     "end_time": "2022-05-14T05:41:32.328202Z",
     "start_time": "2022-05-14T05:41:32.273882Z"
    }
   },
   "outputs": [
    {
     "data": {
      "text/plain": [
       "Text(0.5, 0, 'Class')"
      ]
     },
     "execution_count": 8,
     "metadata": {},
     "output_type": "execute_result"
    },
    {
     "data": {
      "image/png": "[encoded data removed]",
      "text/plain": [
       "<Figure size 1440x720 with 1 Axes>"
      ]
     },
     "metadata": {
      "needs_background": "light"
     },
     "output_type": "display_data"
    }
   ],
   "source": [
    "task1_result.is_fulltime.value_counts().plot.bar()\n",
    "plt.title(\"Class distribution for Task 1\")\n",
    "plt.ylabel(\"Quantity\")\n",
    "plt.xlabel(\"Class\")"
   ]
  },
  {
   "cell_type": "code",
   "execution_count": 9,
   "id": "5ef1d6be",
   "metadata": {
    "ExecuteTime": {
     "start_time": "2022-05-14T06:10:36.615Z"
    }
   },
   "outputs": [
    {
     "data": {
      "text/plain": [
       "<AxesSubplot:>"
      ]
     },
     "execution_count": 9,
     "metadata": {},
     "output_type": "execute_result"
    },
    {
     "data": {
      "image/png": "[encoded data removed]",
      "text/plain": [
       "<Figure size 1440x720 with 1 Axes>"
      ]
     },
     "metadata": {
      "needs_background": "light"
     },
     "output_type": "display_data"
    }
   ],
   "source": [
    "task2_result.category.value_counts().plot.bar()"
   ]
  },
  {
   "cell_type": "code",
   "execution_count": 10,
   "id": "64a4da93",
   "metadata": {
    "ExecuteTime": {
     "end_time": "2022-05-14T05:41:35.963580Z",
     "start_time": "2022-05-14T05:41:35.961422Z"
    }
   },
   "outputs": [],
   "source": [
    "from gensim.models import Word2Vec\n",
    "from nltk.corpus import stopwords\n",
    "from sklearn.manifold import TSNE\n",
    "from bokeh.plotting import figure, show\n",
    "from bokeh.io import push_notebook, output_notebook\n",
    "from bokeh.models import ColumnDataSource, LabelSet\n",
    "from bokeh.plotting import figure, show\n",
    "from bokeh.io import push_notebook, output_notebook\n",
    "from bokeh.models import ColumnDataSource, LabelSet\n",
    "import pandas as pd"
   ]
  },
  {
   "cell_type": "code",
   "execution_count": 11,
   "id": "89413d6c",
   "metadata": {
    "ExecuteTime": {
     "end_time": "2022-05-14T07:20:12.274122Z",
     "start_time": "2022-05-14T07:20:12.268031Z"
    }
   },
   "outputs": [],
   "source": [
    "def interactive_tsne(text_labels, tsne_array):\n",
    "    '''makes an interactive scatter plot with text labels for each point'''\n",
    "\n",
    "    # Define a dataframe to be used by bokeh context\n",
    "    bokeh_df = pd.DataFrame(tsne_array, text_labels, columns=['x','y'])\n",
    "    bokeh_df['text_labels'] = bokeh_df.index\n",
    "\n",
    "    # interactive controls to include to the plot\n",
    "    TOOLS=\"hover, zoom_in, zoom_out, box_zoom, undo, redo, reset, box_select\"\n",
    "\n",
    "    p = figure(tools=TOOLS, plot_width=700, plot_height=700)\n",
    "\n",
    "    # define data source for the plot\n",
    "    source = ColumnDataSource(bokeh_df)\n",
    "\n",
    "    # scatter plot\n",
    "    p.scatter('x', 'y', source=source, fill_alpha=0.6,\n",
    "              fill_color=\"#8724B5\",\n",
    "              line_color=None)\n",
    "\n",
    "    # text labels\n",
    "    labels = LabelSet(x='x', y='y', text='text_labels', y_offset=8,\n",
    "                      text_font_size=\"8pt\", text_color=\"#555555\",\n",
    "                      source=source, text_align='center')\n",
    "\n",
    "    p.add_layout(labels)\n",
    "\n",
    "    # show plot inline\n",
    "    output_notebook()\n",
    "    show(p)\n",
    "\n",
    "def model_base():\n",
    "    cores = 4\n",
    "    model = Word2Vec(min_count=1,\n",
    "                     window=2,\n",
    "                     vector_size=100,\n",
    "                     sample=6e-5, \n",
    "                     alpha=0.03, \n",
    "                     min_alpha=0.0007, \n",
    "                     negative=20,\n",
    "                     workers=cores-1)\n",
    "    return model\n",
    "\n",
    "def build_vocab(model, job_descriptions):\n",
    "    t = time()\n",
    "    model.build_vocab(job_descriptions, progress_per=10)\n",
    "    print('Time to build vocab: {} mins'.format(round((time() - t) / 60, 2)))\n",
    "\n",
    "def train_model(model, job_descriptions):\n",
    "    t = time()\n",
    "    model.train(job_descriptions, total_examples=model.corpus_count, epochs=50, report_delay=1)\n",
    "    print('Time to train : {} mins'.format(round((time() - t) / 60, 2)))\n",
    "    \n",
    "def create_model(load_path=None):\n",
    "    if not load_path:\n",
    "        model = model_base()\n",
    "        build_vocab(model, result.job_description)\n",
    "        train_model(model, result.job_description)\n",
    "    else:\n",
    "        model = gensim.models.KeyedVectors.load(load_path)\n",
    "\n",
    "    return model\n",
    "\n",
    "def convert(tup, dicti):\n",
    "    for a, b in tup:\n",
    "        dicti[a] = b\n",
    "    return dicti\n",
    "    \n",
    "def visualise_document(document, model):\n",
    "    print('starting')\n",
    "    dictionary = Dictionary()\n",
    "    BoW_corpus = dictionary.doc2bow(document, allow_update=True)\n",
    "    BoW_corpus = [(dictionary[id], freq) for id, freq in BoW_corpus]\n",
    "    BoW_corpus_dict = dict()\n",
    "    convert(BoW_corpus, BoW_corpus_dict)\n",
    "    print('bow created')\n",
    "    vocab_sorted = dict(sorted(BoW_corpus_dict.items(), key=lambda item: item[1], reverse=True))\n",
    "    sw = stopwords.words('english')\n",
    "    print('sorted vocab')\n",
    "    input_vocab =  [word for word in vocab_sorted if word in model.wv.key_to_index.keys() and word not in sw]\n",
    "    points = len(input_vocab)\n",
    "    print('starting tsne')\n",
    "    tsne = TSNE(n_components=2, random_state=0)\n",
    "    X = model.wv[input_vocab]\n",
    "    X_tsne = tsne.fit_transform(X[:points])\n",
    "    print('tsne done')\n",
    "    interactive_tsne(list(input_vocab)[:points], X_tsne)\n",
    "    "
   ]
  },
  {
   "cell_type": "code",
   "execution_count": null,
   "id": "4f97d86b",
   "metadata": {
    "ExecuteTime": {
     "end_time": "2022-05-14T07:23:07.078923Z",
     "start_time": "2022-05-14T07:20:12.775902Z"
    }
   },
   "outputs": [
    {
     "name": "stdout",
     "output_type": "stream",
     "text": [
      "Time to build vocab: 0.03 mins\n"
     ]
    }
   ],
   "source": [
    "corpus = [item for sublist in result.job_description[:50] for item in sublist]\n",
    "# model = create_model('./my_model.xyz')\n",
    "model = create_model()\n",
    "visualise_document(corpus, model)"
   ]
  },
  {
   "cell_type": "markdown",
   "id": "65fb3d27",
   "metadata": {},
   "source": [
    "# Create 3 different model types:\n",
    "## Domain specific\n",
    "Already written above"
   ]
  },
  {
   "cell_type": "markdown",
   "id": "f6d6b72b",
   "metadata": {},
   "source": [
    "## Pretrained"
   ]
  },
  {
   "cell_type": "code",
   "execution_count": null,
   "id": "6b4a6df7",
   "metadata": {
    "ExecuteTime": {
     "end_time": "2022-05-14T06:04:36.017293Z",
     "start_time": "2022-05-14T06:04:36.015552Z"
    }
   },
   "outputs": [],
   "source": [
    "import gensim.downloader as api\n",
    "\n",
    "def create_pretrained(load_path=None):\n",
    "    if not load_path:\n",
    "        pretrained_w2v = api.load('word2vec-google-news-300')\n",
    "        return pretrained_w2v\n",
    "    else:\n",
    "        return gensim.models.KeyedVectors.load(load_path)"
   ]
  },
  {
   "cell_type": "code",
   "execution_count": null,
   "id": "29c996d4",
   "metadata": {
    "ExecuteTime": {
     "end_time": "2022-05-14T06:10:49.634004Z",
     "start_time": "2022-05-14T06:04:58.849893Z"
    }
   },
   "outputs": [],
   "source": [
    "# pretrained_w2v = create_pretrained('./pretrained_w2v.xyz')\n",
    "pretrained_w2v = create_pretrained()"
   ]
  },
  {
   "cell_type": "markdown",
   "id": "a02eb0c5",
   "metadata": {},
   "source": [
    "## One-Hot vectoriser"
   ]
  },
  {
   "cell_type": "code",
   "execution_count": 40,
   "id": "44111c26",
   "metadata": {
    "ExecuteTime": {
     "end_time": "2022-05-14T06:10:49.706038Z",
     "start_time": "2022-05-14T06:10:49.704417Z"
    }
   },
   "outputs": [],
   "source": [
    "def get_one_hot_vectoriser(corpus):\n",
    "    dictionary = Dictionary(corpus)\n",
    "    \n",
    "    def one_hot_vectoriser(word):\n",
    "        indx = dictionary.token2id[word]\n",
    "        # could throw an exception here I guess\n",
    "        vec = np.zeros(2928)\n",
    "        vec[indx] = 1\n",
    "        return vec\n",
    "    \n",
    "    return one_hot_vectoriser"
   ]
  },
  {
   "cell_type": "code",
   "execution_count": 41,
   "id": "f1bf1a90",
   "metadata": {
    "ExecuteTime": {
     "end_time": "2022-05-14T06:10:49.822824Z",
     "start_time": "2022-05-14T06:10:49.775197Z"
    }
   },
   "outputs": [],
   "source": [
    "one_hot = get_one_hot_vectoriser([corpus])"
   ]
  },
  {
   "cell_type": "code",
   "execution_count": 42,
   "id": "d40e536d",
   "metadata": {
    "ExecuteTime": {
     "end_time": "2022-05-14T06:10:49.895377Z",
     "start_time": "2022-05-14T06:10:49.893455Z"
    }
   },
   "outputs": [
    {
     "data": {
      "text/plain": [
       "\"About the role: We are seeking an Automotive Workshop Technician to join our busy Springvale workshop. In this role you will be responsible for Pre-Delivery inspections, troubleshooting, scheduled maintenance as well as more involved technical repairs of forklifts. \\xa0 What's on offer? We offer above award wages in line with experience and our team members receive ongoing technical training, access to paid forklift training and certification plus onsite parking. We have a proven track record of promoting our team members so career development is a genuine reality if you're serious about establishing your career within Material Handling. About you: You will have a Mechanical Trade Certificate and mechanical experience including servicing and diagnostics gained in any mechanical industry. We're looking for people with a strong commitment to safe work practices and good communication skills. You will be no stranger to working in a fast paced environment to meet changing deadlines and enjoy working in a team environment. About us: We are the largest Australian owned and operated forklift company in the nation.\\xa0 We are currently experiencing growth and as a result of this we are recruiting nationally for Technicians. To learn more about us, please visit our website: http://www.aalhysterforklifts.com.au/ For a confidential chat please call Belinda Carey, Recruitment Consultant (03) 9549 8152 or email bcarey@aalgroup.com.au *Note: We will not accept unsolicited CVs from recruitment agencies/third parties and we will not be liable or responsible for any fees or costs associated with unsolicited CVs sent directly to line managers. \""
      ]
     },
     "execution_count": 42,
     "metadata": {},
     "output_type": "execute_result"
    }
   ],
   "source": [
    "origin_df.job_description[3]"
   ]
  },
  {
   "cell_type": "code",
   "execution_count": null,
   "id": "8d13a2aa",
   "metadata": {},
   "outputs": [],
   "source": []
  },
  {
   "cell_type": "code",
   "execution_count": null,
   "id": "20d48fed",
   "metadata": {
    "scrolled": true
   },
   "outputs": [],
   "source": []
  },
  {
   "cell_type": "code",
   "execution_count": null,
   "id": "d0b0d836",
   "metadata": {},
   "outputs": [],
   "source": []
  }
 ],
 "metadata": {
  "kernelspec": {
   "display_name": "Python 3 (ipykernel)",
   "language": "python",
   "name": "python3"
  },
  "language_info": {
   "codemirror_mode": {
    "name": "ipython",
    "version": 3
   },
   "file_extension": ".py",
   "mimetype": "text/x-python",
   "name": "python",
   "nbconvert_exporter": "python",
   "pygments_lexer": "ipython3",
   "version": "3.9.7"
  },
  "latex_envs": {
   "LaTeX_envs_menu_present": true,
   "autoclose": false,
   "autocomplete": true,
   "bibliofile": "biblio.bib",
   "cite_by": "apalike",
   "current_citInitial": 1,
   "eqLabelWithNumbers": true,
   "eqNumInitial": 1,
   "hotkeys": {
    "equation": "Ctrl-E",
    "itemize": "Ctrl-I"
   },
   "labels_anchors": false,
   "latex_user_defs": false,
   "report_style_numbering": false,
   "user_envs_cfg": false
  },
  "varInspector": {
   "cols": {
    "lenName": 16,
    "lenType": 16,
    "lenVar": 40
   },
   "kernels_config": {
    "python": {
     "delete_cmd_postfix": "",
     "delete_cmd_prefix": "del ",
     "library": "var_list.py",
     "varRefreshCmd": "print(var_dic_list())"
    },
    "r": {
     "delete_cmd_postfix": ") ",
     "delete_cmd_prefix": "rm(",
     "library": "var_list.r",
     "varRefreshCmd": "cat(var_dic_list()) "
    }
   },
   "types_to_exclude": [
    "module",
    "function",
    "builtin_function_or_method",
    "instance",
    "_Feature"
   ],
   "window_display": false
  }
 },
 "nbformat": 4,
 "nbformat_minor": 5
}
