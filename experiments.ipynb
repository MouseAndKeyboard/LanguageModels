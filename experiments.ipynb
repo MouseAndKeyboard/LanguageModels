{
 "cells": [
  {
   "cell_type": "code",
   "execution_count": 2,
   "id": "0864dc69",
   "metadata": {
    "ExecuteTime": {
     "end_time": "2022-05-29T02:45:02.215745Z",
     "start_time": "2022-05-29T02:45:02.206830Z"
    }
   },
   "outputs": [],
   "source": [
    "import pandas as pd\n",
    "import os\n",
    "from abc import ABC\n",
    "import string\n",
    "from gensim.corpora import Dictionary\n",
    "from torch.utils.data import Dataset\n",
    "import gensim.downloader as api\n",
    "from time import time\n",
    "import gensim\n",
    "import gensim.downloader as api\n",
    "from tqdm import tqdm_notebook\n",
    "from tqdm.notebook import tqdm\n",
    "from argparse import Namespace\n",
    "\n",
    "import numpy as np\n",
    "import json\n",
    "\n",
    "from gensim.models import Word2Vec\n",
    "from nltk.corpus import stopwords\n",
    "from sklearn.manifold import TSNE\n",
    "from bokeh.plotting import figure, show\n",
    "from bokeh.io import push_notebook, output_notebook\n",
    "from bokeh.models import ColumnDataSource, LabelSet\n",
    "from bokeh.plotting import figure, show\n",
    "from bokeh.io import push_notebook, output_notebook\n",
    "from bokeh.models import ColumnDataSource, LabelSet\n",
    "import pandas as pd\n",
    "from collections import Counter\n",
    "\n",
    "import torch\n",
    "import torch.nn as nn\n",
    "import torch.nn.functional as F\n",
    "import torch.optim as optim\n",
    "from torch.utils.data import Dataset, DataLoader\n",
    "from tqdm.notebook import tqdm\n",
    "\n",
    "\n",
    "def decodeList(x): return [w.strip(\"'\") for w in x.split(' ')]\n",
    "\n",
    "\n",
    "def pythonise(df):\n",
    "    if 'is_fulltime' in df.keys():\n",
    "        df.is_fulltime = df.is_fulltime.astype(str)\n",
    "    if 'job_description' in df.keys():\n",
    "        df['job_description'] = df['job_description'].apply(decodeList)\n",
    "    if 'tfidf10' in df.keys():\n",
    "        df['tfidf10'] = df['tfidf10'].apply(decodeList)\n",
    "\n",
    "def load_data(name, send_computer_to_hell=True):\n",
    "    nrows = None\n",
    "    if not send_computer_to_hell:\n",
    "        nrows = 1000\n",
    "    df = pd.read_csv(f'./data/{name}.csv', nrows=nrows)\n",
    "    train = pd.read_csv(f'./data/{name}-train.csv', nrows=nrows)\n",
    "    test = pd.read_csv(f'./data/{name}-test.csv', nrows=nrows)\n",
    "    val = pd.read_csv(f'./data/{name}-val.csv', nrows=nrows)\n",
    "    # ugly af\n",
    "    for d in [df, train, test, val]:\n",
    "       pythonise(d)\n",
    "    return df, train, test, val"
   ]
  },
  {
   "cell_type": "code",
   "execution_count": 50,
   "id": "9f036491",
   "metadata": {
    "ExecuteTime": {
     "end_time": "2022-05-29T03:26:49.770937Z",
     "start_time": "2022-05-29T03:26:49.484847Z"
    }
   },
   "outputs": [
    {
     "data": {
      "text/html": [
       "<div>\n",
       "<style scoped>\n",
       "    .dataframe tbody tr th:only-of-type {\n",
       "        vertical-align: middle;\n",
       "    }\n",
       "\n",
       "    .dataframe tbody tr th {\n",
       "        vertical-align: top;\n",
       "    }\n",
       "\n",
       "    .dataframe thead th {\n",
       "        text-align: right;\n",
       "    }\n",
       "</style>\n",
       "<table border=\"1\" class=\"dataframe\">\n",
       "  <thead>\n",
       "    <tr style=\"text-align: right;\">\n",
       "      <th></th>\n",
       "      <th>Unnamed: 0</th>\n",
       "      <th>job_description</th>\n",
       "      <th>category</th>\n",
       "      <th>tfidf10</th>\n",
       "    </tr>\n",
       "  </thead>\n",
       "  <tbody>\n",
       "    <tr>\n",
       "      <th>0</th>\n",
       "      <td>0</td>\n",
       "      <td>[have, you, had, years, experience, in, fresh,...</td>\n",
       "      <td>Retail &amp; Consumer Products</td>\n",
       "      <td>[the, sebastian, produce, and, for, store, wad...</td>\n",
       "    </tr>\n",
       "    <tr>\n",
       "      <th>1</th>\n",
       "      <td>1</td>\n",
       "      <td>[about, us, retail, safari, as, part, of, cpm,...</td>\n",
       "      <td>Retail &amp; Consumer Products</td>\n",
       "      <td>[safari, cpm, conversational, engaging, person...</td>\n",
       "    </tr>\n",
       "    <tr>\n",
       "      <th>2</th>\n",
       "      <td>2</td>\n",
       "      <td>[work, with, brand, you, love, wear, generous,...</td>\n",
       "      <td>Retail &amp; Consumer Products</td>\n",
       "      <td>[know, and, store, wear, sneakers, you, star, ...</td>\n",
       "    </tr>\n",
       "    <tr>\n",
       "      <th>3</th>\n",
       "      <td>3</td>\n",
       "      <td>[about, the, company, forever, new, is, one, o...</td>\n",
       "      <td>Retail &amp; Consumer Products</td>\n",
       "      <td>[late, new, to, beauty, her, forever, the, cel...</td>\n",
       "    </tr>\n",
       "    <tr>\n",
       "      <th>4</th>\n",
       "      <td>4</td>\n",
       "      <td>[sunglass, hut, is, global, retailer, with, st...</td>\n",
       "      <td>Retail &amp; Consumer Products</td>\n",
       "      <td>[chanel, ban, dolce, prada, oakley, gabbana, s...</td>\n",
       "    </tr>\n",
       "    <tr>\n",
       "      <th>...</th>\n",
       "      <td>...</td>\n",
       "      <td>...</td>\n",
       "      <td>...</td>\n",
       "      <td>...</td>\n",
       "    </tr>\n",
       "    <tr>\n",
       "      <th>995</th>\n",
       "      <td>995</td>\n",
       "      <td>[casual, pool, hourly, rate, inclusive, of, ca...</td>\n",
       "      <td>Government &amp; Defence</td>\n",
       "      <td>[swimming, casual, resuscitation, cardio, melv...</td>\n",
       "    </tr>\n",
       "    <tr>\n",
       "      <th>996</th>\n",
       "      <td>996</td>\n",
       "      <td>[manager, engineering, team, safework, nsw, de...</td>\n",
       "      <td>Government &amp; Defence</td>\n",
       "      <td>[of, engineering, safework, inspectors, the, n...</td>\n",
       "    </tr>\n",
       "    <tr>\n",
       "      <th>997</th>\n",
       "      <td>997</td>\n",
       "      <td>[aps, policy, officer, mandatory, baseline, se...</td>\n",
       "      <td>Government &amp; Defence</td>\n",
       "      <td>[officer, security, and, clearance, boarder, s...</td>\n",
       "    </tr>\n",
       "    <tr>\n",
       "      <th>998</th>\n",
       "      <td>998</td>\n",
       "      <td>[people, people, are, working, closely, with, ...</td>\n",
       "      <td>Government &amp; Defence</td>\n",
       "      <td>[changes, analyse, and, thinker, specification...</td>\n",
       "    </tr>\n",
       "    <tr>\n",
       "      <th>999</th>\n",
       "      <td>999</td>\n",
       "      <td>[fixed, term, for, years, the, city, of, swan,...</td>\n",
       "      <td>Government &amp; Defence</td>\n",
       "      <td>[technologyone, technical, analyst, eam, and, ...</td>\n",
       "    </tr>\n",
       "  </tbody>\n",
       "</table>\n",
       "<p>1000 rows × 4 columns</p>\n",
       "</div>"
      ],
      "text/plain": [
       "     Unnamed: 0                                    job_description  \\\n",
       "0             0  [have, you, had, years, experience, in, fresh,...   \n",
       "1             1  [about, us, retail, safari, as, part, of, cpm,...   \n",
       "2             2  [work, with, brand, you, love, wear, generous,...   \n",
       "3             3  [about, the, company, forever, new, is, one, o...   \n",
       "4             4  [sunglass, hut, is, global, retailer, with, st...   \n",
       "..          ...                                                ...   \n",
       "995         995  [casual, pool, hourly, rate, inclusive, of, ca...   \n",
       "996         996  [manager, engineering, team, safework, nsw, de...   \n",
       "997         997  [aps, policy, officer, mandatory, baseline, se...   \n",
       "998         998  [people, people, are, working, closely, with, ...   \n",
       "999         999  [fixed, term, for, years, the, city, of, swan,...   \n",
       "\n",
       "                       category  \\\n",
       "0    Retail & Consumer Products   \n",
       "1    Retail & Consumer Products   \n",
       "2    Retail & Consumer Products   \n",
       "3    Retail & Consumer Products   \n",
       "4    Retail & Consumer Products   \n",
       "..                          ...   \n",
       "995        Government & Defence   \n",
       "996        Government & Defence   \n",
       "997        Government & Defence   \n",
       "998        Government & Defence   \n",
       "999        Government & Defence   \n",
       "\n",
       "                                               tfidf10  \n",
       "0    [the, sebastian, produce, and, for, store, wad...  \n",
       "1    [safari, cpm, conversational, engaging, person...  \n",
       "2    [know, and, store, wear, sneakers, you, star, ...  \n",
       "3    [late, new, to, beauty, her, forever, the, cel...  \n",
       "4    [chanel, ban, dolce, prada, oakley, gabbana, s...  \n",
       "..                                                 ...  \n",
       "995  [swimming, casual, resuscitation, cardio, melv...  \n",
       "996  [of, engineering, safework, inspectors, the, n...  \n",
       "997  [officer, security, and, clearance, boarder, s...  \n",
       "998  [changes, analyse, and, thinker, specification...  \n",
       "999  [technologyone, technical, analyst, eam, and, ...  \n",
       "\n",
       "[1000 rows x 4 columns]"
      ]
     },
     "execution_count": 50,
     "metadata": {},
     "output_type": "execute_result"
    }
   ],
   "source": [
    "df, train, test,val = load_data(\"task2\", send_computer_to_hell=False)\n",
    "df"
   ]
  },
  {
   "cell_type": "markdown",
   "id": "dc36e269",
   "metadata": {},
   "source": [
    "## Utilities"
   ]
  },
  {
   "cell_type": "markdown",
   "id": "a3cafa40",
   "metadata": {
    "heading_collapsed": true
   },
   "source": [
    "### Vocab"
   ]
  },
  {
   "cell_type": "code",
   "execution_count": 4,
   "id": "c55bd1f0",
   "metadata": {
    "ExecuteTime": {
     "end_time": "2022-05-29T02:45:05.287813Z",
     "start_time": "2022-05-29T02:45:05.277878Z"
    },
    "hidden": true
   },
   "outputs": [],
   "source": [
    "class Vocabulary(object):\n",
    "    \"\"\"Class to process text and extract Vocabulary for mapping\"\"\"\n",
    "    def __init__(self, token_to_idx=None, add_unk=True, unk_token=\"<UNK>\", freqdist=None, tokens=-1):\n",
    "        \"\"\"\n",
    "        Args:\n",
    "            token_to_idx (dict): a pre-existingmap of tokens to indices\n",
    "            add_unk (bool): a flag that indicates whether to add the UNK token\n",
    "            unk_token (str): the UNK token to add into the Vocabulary\n",
    "        \"\"\"\n",
    "        if token_to_idx is None:\n",
    "            token_to_idx = {}\n",
    "        self._token_to_idx = token_to_idx\n",
    "        self._idx_to_token = {idx: token \n",
    "                                for token, idx in self._token_to_idx.items()}\n",
    "\n",
    "\n",
    "        if freqdist is None:\n",
    "            freqdist = {}\n",
    "        self.freqdist = freqdist\n",
    "        \n",
    "        if tokens == -1:\n",
    "            if len(self.freqdist) == 0:\n",
    "                self.num_tokens = 0\n",
    "            else:\n",
    "                self.num_tokens = sum(self.freqdist.values())\n",
    "\n",
    "        self._add_unk = add_unk\n",
    "        self._unk_token = unk_token\n",
    "        self.unk_index = 1\n",
    "        if add_unk:\n",
    "            self.unk_index = self.add_token(unk_token)\n",
    "            \n",
    "    def to_serializable(self):\n",
    "        \"\"\" returns a dictionary that can be serialized \"\"\"\n",
    "        return {'token_to_idx': self._token_to_idx,\n",
    "                'add_unk': self._add_unk,\n",
    "                'unk_token': self._unk_token,\n",
    "                \"freqdist\": self.freqdist}\n",
    "\n",
    "    @classmethod\n",
    "    def from_serializable(cls, contents):\n",
    "        \"\"\" instantiates the Vocabulary from a serialized dictionary \"\"\"\n",
    "        return cls(**contents)\n",
    "    \n",
    "    def add_token(self, token, count=1):\n",
    "        \"\"\"Update mapping dicts based on the token.\n",
    "        Args:\n",
    "            token (str): the item to add into the Vocabulary\n",
    "        Returns:\n",
    "            index (int): the integer corresponding to the token\n",
    "        \"\"\"\n",
    "        if token in self._token_to_idx:\n",
    "            index = self._token_to_idx[token]\n",
    "        else:\n",
    "            index = len(self._token_to_idx)\n",
    "            self._token_to_idx[token] = index\n",
    "            self._idx_to_token[index] = token\n",
    "            self.freqdist[token] = count\n",
    "        self.num_tokens += 1\n",
    "        return index\n",
    "    \n",
    "    def lookup_token(self, token):\n",
    "        \"\"\"Retrieve the index associated with the token\n",
    "        or the UNK index if token isn't present.\n",
    "        Args:\n",
    "            token (str): the token to look up\n",
    "        Returns:\n",
    "            index (int): the index corresponding to the token\n",
    "        Notes:\n",
    "            `unk_index` needs to be >=0 (having been added into the Vocabulary)\n",
    "            for the UNK functionality\n",
    "        \"\"\"\n",
    "        if self._add_unk:\n",
    "            return self._token_to_idx.get(token, self.unk_index)\n",
    "        else:\n",
    "            return self._token_to_idx[token]\n",
    "    \n",
    "    def lookup_frequency(self, token):\n",
    "        return self.freqdist[token]/self.num_tokens\n",
    "        \n",
    "    def lookup_index(self, index):\n",
    "        \"\"\"Return the token associated with the index\n",
    "        Args:\n",
    "            index (int): the index to look up\n",
    "        Returns:\n",
    "            token (str): the token corresponding to the index\n",
    "        Raises:\n",
    "        KeyError: if the index is not in the Vocabulary\n",
    "        \"\"\"\n",
    "        if index not in self._idx_to_token:\n",
    "            raise KeyError(\"the index (%d) is not in the Vocabulary\" % index)\n",
    "        return self._idx_to_token[index]\n",
    "    def __str__(self):\n",
    "        return \"<Vocabulary(size=%d)>\" % len(self)\n",
    "    def __len__(self):\n",
    "        return len(self._token_to_idx)"
   ]
  },
  {
   "cell_type": "markdown",
   "id": "518f1dac",
   "metadata": {
    "heading_collapsed": true
   },
   "source": [
    "### Sequence Vocab"
   ]
  },
  {
   "cell_type": "code",
   "execution_count": 5,
   "id": "68d903a1",
   "metadata": {
    "ExecuteTime": {
     "end_time": "2022-05-29T02:45:06.308558Z",
     "start_time": "2022-05-29T02:45:06.302678Z"
    },
    "hidden": true
   },
   "outputs": [],
   "source": [
    "class SequenceVocabulary(Vocabulary):\n",
    "    def __init__(self, token_to_idx=None, unk_token=\"<UNK>\",\n",
    "                 mask_token=\"<MASK>\", begin_seq_token=\"<BEGIN>\",\n",
    "                 end_seq_token=\"<END>\"):\n",
    "\n",
    "        super(SequenceVocabulary, self).__init__(token_to_idx)\n",
    "\n",
    "        self._mask_token = mask_token\n",
    "        self._unk_token = unk_token\n",
    "        self._begin_seq_token = begin_seq_token\n",
    "        self._end_seq_token = end_seq_token\n",
    "\n",
    "        self.mask_index = self.add_token(self._mask_token)\n",
    "        self.unk_index = self.add_token(self._unk_token)\n",
    "        self.begin_seq_index = self.add_token(self._begin_seq_token)\n",
    "        self.end_seq_index = self.add_token(self._end_seq_token)\n",
    "\n",
    "    def to_serializable(self):\n",
    "        contents = super(SequenceVocabulary, self).to_serializable()\n",
    "        contents.update({'unk_token': self._unk_token,\n",
    "                         'mask_token': self._mask_token,\n",
    "                         'begin_seq_token': self._begin_seq_token,\n",
    "                         'end_seq_token': self._end_seq_token})\n",
    "        return contents\n",
    "\n",
    "    def lookup_token(self, token):\n",
    "        \"\"\"Retrieve the index associated with the token \n",
    "          or the UNK index if token isn't present.\n",
    "        \n",
    "        Args:\n",
    "            token (str): the token to look up \n",
    "        Returns:\n",
    "            index (int): the index corresponding to the token\n",
    "        Notes:\n",
    "            `unk_index` needs to be >=0 (having been added into the Vocabulary) \n",
    "              for the UNK functionality \n",
    "        \"\"\"\n",
    "        if self.unk_index >= 0:\n",
    "            return self._token_to_idx.get(token, self.unk_index)\n",
    "        else:\n",
    "            return self._token_to_idx[token]"
   ]
  },
  {
   "cell_type": "markdown",
   "id": "1a0009b3",
   "metadata": {
    "heading_collapsed": true
   },
   "source": [
    "### Batch Generator"
   ]
  },
  {
   "cell_type": "code",
   "execution_count": 6,
   "id": "6dbd9f9b",
   "metadata": {
    "ExecuteTime": {
     "end_time": "2022-05-29T02:45:07.329564Z",
     "start_time": "2022-05-29T02:45:07.325866Z"
    },
    "hidden": true
   },
   "outputs": [],
   "source": [
    "def generate_batches(dataset, batch_size, shuffle=True, drop_last=True, device=\"cpu\"):\n",
    "    \"\"\"\n",
    "    A generator function which wraps the PyTorch DataLoader. It will\n",
    "    ensure each tensor is on the write device location.\n",
    "    \"\"\"\n",
    "    dataloader = DataLoader(dataset=dataset, batch_size=batch_size,\n",
    "                            shuffle=shuffle, drop_last=drop_last)\n",
    "    for data_dict in dataloader:\n",
    "        out_data_dict = {}\n",
    "        for name, tensor in data_dict.items():\n",
    "            out_data_dict[name] = data_dict[name].to(device)\n",
    "        yield out_data_dict"
   ]
  },
  {
   "cell_type": "markdown",
   "id": "3c1bb778",
   "metadata": {
    "heading_collapsed": true
   },
   "source": [
    "### Training Utils"
   ]
  },
  {
   "cell_type": "code",
   "execution_count": 7,
   "id": "e812c754",
   "metadata": {
    "ExecuteTime": {
     "end_time": "2022-05-29T02:45:08.256893Z",
     "start_time": "2022-05-29T02:45:08.245463Z"
    },
    "hidden": true
   },
   "outputs": [],
   "source": [
    "def make_train_state(args):\n",
    "    return {'stop_early': False,\n",
    "            'early_stopping_step': 0,\n",
    "            'early_stopping_best_val': 1e8,\n",
    "            'learning_rate': args.learning_rate,\n",
    "            'epoch_index': 0,\n",
    "            'train_loss': [],\n",
    "            'train_acc': [],\n",
    "            'val_loss': [],\n",
    "            'val_acc': [],\n",
    "            'test_loss': -1,\n",
    "            'test_acc': -1,\n",
    "            'model_filename': args.model_state_file}\n",
    "\n",
    "def update_train_state(args, model, train_state):\n",
    "    \"\"\"Handle the training state updates.\n",
    "\n",
    "    Components:\n",
    "     - Early Stopping: Prevent overfitting.\n",
    "     - Model Checkpoint: Model is saved if the model is better\n",
    "\n",
    "    :param args: main arguments\n",
    "    :param model: model to train\n",
    "    :param train_state: a dictionary representing the training state values\n",
    "    :returns:\n",
    "        a new train_state\n",
    "    \"\"\"\n",
    "\n",
    "    # Save one model at least\n",
    "    if train_state['epoch_index'] == 0:\n",
    "        torch.save(model.state_dict(), train_state['model_filename'])\n",
    "        train_state['stop_early'] = False\n",
    "\n",
    "    # Save model if performance improved\n",
    "    elif train_state['epoch_index'] >= 1:\n",
    "        loss_tm1, loss_t = train_state['val_loss'][-2:]\n",
    "\n",
    "        # If loss worsened\n",
    "        if loss_t >= train_state['early_stopping_best_val']:\n",
    "            # Update step\n",
    "            train_state['early_stopping_step'] += 1\n",
    "        # Loss decreased\n",
    "        else:\n",
    "            # Save the best model\n",
    "            if loss_t < train_state['early_stopping_best_val']:\n",
    "                torch.save(model.state_dict(), train_state['model_filename'])\n",
    "\n",
    "            # Reset early stopping step\n",
    "            train_state['early_stopping_step'] = 0\n",
    "\n",
    "        # Stop early ?\n",
    "        train_state['stop_early'] = \\\n",
    "            train_state['early_stopping_step'] >= args.early_stopping_criteria\n",
    "\n",
    "    return train_state\n",
    "\n",
    "def compute_accuracy(y_pred, y_target):\n",
    "    _, y_pred_indices = y_pred.max(dim=1)\n",
    "    n_correct = torch.eq(y_pred_indices, y_target).sum().item()\n",
    "    return n_correct / len(y_pred_indices) * 100\n",
    "\n",
    "def set_seed_everywhere(seed, cuda):\n",
    "    np.random.seed(seed)\n",
    "    torch.manual_seed(seed)\n",
    "    if cuda:\n",
    "        torch.cuda.manual_seed_all(seed)\n",
    "\n",
    "def handle_dirs(dirpath):\n",
    "    if not os.path.exists(dirpath):\n",
    "        os.makedirs(dirpath)\n",
    "        \n",
    "def load_glove_from_file(glove_filepath):\n",
    "    \"\"\"\n",
    "    Load the GloVe embeddings \n",
    "    \n",
    "    Args:\n",
    "        glove_filepath (str): path to the glove embeddings file \n",
    "    Returns:\n",
    "        word_to_index (dict), embeddings (numpy.ndarary)\n",
    "    \"\"\"\n",
    "\n",
    "    word_to_index = {}\n",
    "    embeddings = []\n",
    "    with open(glove_filepath, encoding=\"utf8\") as fp:\n",
    "        for index, line in enumerate(fp):\n",
    "            line = line.split(\" \") # each line: word num1 num2 ...\n",
    "            word_to_index[line[0]] = index # word = line[0] \n",
    "            embedding_i = np.array([float(val) for val in line[1:]])\n",
    "            embeddings.append(embedding_i)\n",
    "    return word_to_index, np.stack(embeddings)\n",
    "\n",
    "def make_embedding_matrix(glove_filepath, words):\n",
    "    \"\"\"\n",
    "    Create embedding matrix for a specific set of words.\n",
    "    \n",
    "    Args:\n",
    "        glove_filepath (str): file path to the glove embeddigns\n",
    "        words (list): list of words in the dataset\n",
    "    \"\"\"\n",
    "    word_to_idx, glove_embeddings = load_glove_from_file(glove_filepath)\n",
    "    embedding_size = glove_embeddings.shape[1]\n",
    "    \n",
    "    final_embeddings = np.zeros((len(words), embedding_size))\n",
    "\n",
    "    for i, word in enumerate(words):\n",
    "        if word in word_to_idx:\n",
    "            final_embeddings[i, :] = glove_embeddings[word_to_idx[word]]\n",
    "        else:\n",
    "            embedding_i = torch.ones(1, embedding_size)\n",
    "            torch.nn.init.xavier_uniform_(embedding_i)\n",
    "            final_embeddings[i, :] = embedding_i\n",
    "\n",
    "    return final_embeddings"
   ]
  },
  {
   "cell_type": "markdown",
   "id": "c507265c",
   "metadata": {},
   "source": [
    "## Vectorisers"
   ]
  },
  {
   "cell_type": "markdown",
   "id": "6e8f7f4c",
   "metadata": {
    "heading_collapsed": true
   },
   "source": [
    "### Word2Vec"
   ]
  },
  {
   "cell_type": "code",
   "execution_count": 8,
   "id": "5aa2c91c",
   "metadata": {
    "ExecuteTime": {
     "end_time": "2022-05-29T02:45:09.487414Z",
     "start_time": "2022-05-29T02:45:09.474335Z"
    },
    "hidden": true
   },
   "outputs": [],
   "source": [
    "class Word2vecVectoriser(object):\n",
    "    \"\"\" The Vectorizer which coordinates the Vocabularies and puts them to use\"\"\"\n",
    "    def __init__(self, df, input_vocab, class_vocab, sent_embed, is_sequence, data_field, vector_len=-1, load_path=None):\n",
    "        \"\"\"\n",
    "        Args:\n",
    "            review_vocab (Vocabulary): maps words to integers\n",
    "            rating_vocab (Vocabulary): maps class labels to integers\n",
    "        \"\"\"\n",
    "        self.df = df\n",
    "        self.data = df[data_field]\n",
    "        self.input_vocab = input_vocab\n",
    "        self.class_vocab = class_vocab\n",
    "        self.is_sequence = is_sequence\n",
    "        self.sent_embed = sent_embed \n",
    "        self.vector_len = vector_len\n",
    "        if not load_path:\n",
    "            self.model = self.model_base()\n",
    "            self.build_vocab()\n",
    "            self.train_model()\n",
    "        else:\n",
    "            self.model = gensim.models.KeyedVectors.load(load_path)\n",
    "        \n",
    "    def model_base(self):\n",
    "        cores = 4\n",
    "        model = Word2Vec(min_count=1,\n",
    "                         window=2,\n",
    "                         vector_size=100,\n",
    "                         sample=6e-5, \n",
    "                         alpha=0.03, \n",
    "                         min_alpha=0.0007, \n",
    "                         negative=20,\n",
    "                         workers=cores-1)\n",
    "        return model\n",
    "\n",
    "    def build_vocab(self):\n",
    "        t = time()\n",
    "        self.model.build_vocab(self.data, progress_per=10)\n",
    "        print('Time to build vocab: {} mins'.format(round((time() - t) / 60, 2)))\n",
    "\n",
    "    def train_model(self):\n",
    "        t = time()\n",
    "        self.model.train(self.data, total_examples=self.model.corpus_count, epochs=50, report_delay=1)\n",
    "        print('Time to train : {} mins'.format(round((time() - t) / 60, 2)))\n",
    "        \n",
    "    def vectorize(self, words):\n",
    "        \"\"\"Create a collapsed one hot vector for the review\n",
    "        Args:\n",
    "            review (str): the review\n",
    "        Returns:\n",
    "            one_hot (np.ndarray): the collapsed onehot encoding\n",
    "        \"\"\"\n",
    "\n",
    "        indicies = [self.model.wv.get_index(word) for word in words]\n",
    "        vectors = self.model.wv[indicies]\n",
    "\n",
    "        if self.sent_embed:\n",
    "            frequency = [self.input_vocab.lookup_frequency(word) for word in words]\n",
    "            return sum([vec*freq for vec,freq in zip(vectors, frequency)])\n",
    "\n",
    "        return vectors.flatten()\n",
    "              \n",
    "    @classmethod\n",
    "    def from_dataframe(cls, df, is_sequence, data_field=\"tfidf10\", feature_field=\"is_fulltime\", sent_embed=False, cutoff=25):\n",
    "        \"\"\"Instantiate the vectorizer from the dataset dataframe\n",
    "        Args:\n",
    "            review_df (pandas.DataFrame): the review dataset\n",
    "            cutoff (int): the parameter for frequency based filtering\n",
    "        Returns:\n",
    "            an instance of the ReviewVectorizer\n",
    "        \"\"\"\n",
    "        class_vocab = Vocabulary(add_unk=False)\n",
    "        for category in sorted(set(df[feature_field])):\n",
    "            class_vocab.add_token(category)\n",
    "\n",
    "        word_counts = Counter()\n",
    "        for title in df[data_field]:\n",
    "            for token in title:\n",
    "                if token not in string.punctuation:\n",
    "                    word_counts[token] += 1\n",
    "\n",
    "        if is_sequence:\n",
    "            input_vocab = SequenceVocabulary()\n",
    "        else:\n",
    "            input_vocab = Vocabulary(add_unk=True)\n",
    "        # Add top words if count > provided count\n",
    "        for word, count in word_counts.items():\n",
    "            if count > cutoff:\n",
    "                input_vocab.add_token(word, count)\n",
    "\n",
    "        return cls(input_vocab, class_vocab, sent_embed, is_sequence)\n",
    "\n",
    "    @property\n",
    "    def num_features(self):\n",
    "        if self.sent_embed:\n",
    "            return 100 #word2vec model size\n",
    "        return self.vector_len * 100\n",
    "    \n",
    "    @classmethod\n",
    "    def from_serializable(cls, contents):\n",
    "        \"\"\"Intantiate a ReviewVectorizer from a serializable dictionary\n",
    "        Args:\n",
    "            contents (dict): the serializable dictionary\n",
    "        Returns:\n",
    "            an instance of the ReviewVectorizer class\n",
    "        \"\"\"\n",
    "        review_vocab = Vocabulary.from_serializable(contents['input_vocab'])\n",
    "        rating_vocab = Vocabulary.from_serializable(contents['class_vocab'])\n",
    "        return cls(input_vocab=input_vocab, class_vocab=class_vocab)\n",
    "    \n",
    "    def to_serializable(self):\n",
    "        \"\"\"Create the serializable dictionary for caching\n",
    "        Returns:\n",
    "            contents (dict): the serializable dictionary\n",
    "        \"\"\"\n",
    "        return {'input_vocab': self.input_vocab.to_serializable(),\n",
    "                'class_vocab': self.class_vocab.to_serializable()}\n",
    "    "
   ]
  },
  {
   "cell_type": "code",
   "execution_count": 9,
   "id": "0b95cf03",
   "metadata": {
    "ExecuteTime": {
     "end_time": "2022-05-29T02:45:10.093972Z",
     "start_time": "2022-05-29T02:45:10.090260Z"
    },
    "hidden": true
   },
   "outputs": [],
   "source": [
    "def test_word2vec():\n",
    "    df, train, test,val = load_data(\"task1\", send_computer_to_hell=False)\n",
    "\n",
    "    v = Word2vecVectoriser.from_dataframe(df)\n",
    "    print(v.num_features)\n",
    "    print(v.vectorize(df.tfidf10[0]))\n",
    "\n",
    "    v = Word2vecVectoriser.from_dataframe(df, data=\"job_description\", cutoff=0)\n",
    "    print(v.num_features)\n",
    "    print(v.vectorize(df.job_description[0]))\n",
    "    "
   ]
  },
  {
   "cell_type": "markdown",
   "id": "ec63d7ff",
   "metadata": {},
   "source": [
    "### One Hot"
   ]
  },
  {
   "cell_type": "code",
   "execution_count": 10,
   "id": "7cd8f7cf",
   "metadata": {
    "ExecuteTime": {
     "end_time": "2022-05-29T02:45:10.920148Z",
     "start_time": "2022-05-29T02:45:10.907449Z"
    }
   },
   "outputs": [],
   "source": [
    "class OneHotVectoriser(object):\n",
    "    \"\"\" The Vectorizer which coordinates the Vocabularies and puts them to use\"\"\"\n",
    "\n",
    "    def __init__(self, input_vocab, class_vocab, sent_embed, is_sequnce):\n",
    "        \"\"\"\n",
    "        Args:\n",
    "            review_vocab (Vocabulary): maps words to integers\n",
    "            rating_vocab (Vocabulary): maps class labels to integers\n",
    "            sent_embed (boolean): whether to use sentence embedding\n",
    "        \"\"\"\n",
    "        self.input_vocab = input_vocab\n",
    "        self.class_vocab = class_vocab\n",
    "        self.sent_embed = sent_embed\n",
    "        self.is_sequence = is_sequnce\n",
    "        \n",
    "    def vectorize(self, words, vector_length=-1):\n",
    "        \"\"\"Create a collapsed one hot vector for the review\n",
    "        Args:\n",
    "            review (str): the review\n",
    "        Returns:\n",
    "            one_hot (np.ndarray): the collapsed onehot encoding\n",
    "        \"\"\"\n",
    "        if self.is_sequence:\n",
    "            indices = [self.input_vocab.begin_seq_index]\n",
    "            indices.extend(self.input_vocab.lookup_token(token) for token in words)\n",
    "            indices.append(self.input_vocab.end_seq_index)\n",
    "\n",
    "            if self.sent_embed:\n",
    "                if vector_length < 0:\n",
    "                    vector_length = len(indices)\n",
    "\n",
    "                out_vector = np.zeros(vector_length, dtype=np.int64)\n",
    "                out_vector[:len(indices)] = indices\n",
    "                out_vector[len(indices):] = self.input_vocab.mask_index\n",
    "            else:\n",
    "               out_vector = [] \n",
    "               for index in indices:\n",
    "                   word_vector = np.zeros(len(self.input_vocab), dtype=np.int8)\n",
    "                   word_vector[index] += 1\n",
    "                   out_vector.append(word_vector)\n",
    "        else:\n",
    "            if self.sent_embed:\n",
    "                out_vector = np.zeros(len(self.input_vocab), dtype=np.float32)\n",
    "                for token in words:\n",
    "                    out_vector[self.input_vocab.lookup_token(token)] += 1\n",
    "            else:\n",
    "               out_vector = [] \n",
    "               for token in words:\n",
    "                   word_vector = np.zeros(len(self.input_vocab), dtype=np.int8)\n",
    "                   word_vector[self.input_vocab.lookup_token(token)] += 1\n",
    "                   out_vector.append(word_vector)\n",
    "\n",
    "        return np.array(out_vector)\n",
    "\n",
    "    @classmethod\n",
    "    def from_dataframe(cls, df, is_sequence, data_field=\"tfidf10\", feature_field=\"is_fulltime\", sent_embed=False, cutoff=25):\n",
    "        \"\"\"Instantiate the vectorizer from the dataset dataframe\n",
    "        Args:\n",
    "            review_df (pandas.DataFrame): the review dataset\n",
    "            cutoff (int): the parameter for frequency based filtering\n",
    "        Returns:\n",
    "            an instance of the ReviewVectorizer\n",
    "        \"\"\"\n",
    "        class_vocab = Vocabulary(add_unk=False)\n",
    "        for category in sorted(set(df[feature_field])):\n",
    "            class_vocab.add_token(category)\n",
    "\n",
    "        word_counts = Counter()\n",
    "        for title in df[data_field]:\n",
    "            for token in title:\n",
    "                if token not in string.punctuation:\n",
    "                    word_counts[token] += 1\n",
    "\n",
    "        if is_sequence:\n",
    "            input_vocab = SequenceVocabulary()\n",
    "        else:\n",
    "            input_vocab = Vocabulary(add_unk=True)\n",
    "        # Add top words if count > provided count\n",
    "        for word, count in word_counts.items():\n",
    "            if count > cutoff:\n",
    "                input_vocab.add_token(word, count)\n",
    "\n",
    "        return cls(input_vocab, class_vocab, sent_embed, is_sequence)\n",
    "\n",
    "    @property\n",
    "    def num_features(self):\n",
    "        return len(self.input_vocab)\n",
    "\n",
    "    @classmethod\n",
    "    def from_serializable(cls, contents):\n",
    "        \"\"\"Intantiate a ReviewVectorizer from a serializable dictionary\n",
    "        Args:\n",
    "            contents (dict): the serializable dictionary\n",
    "        Returns:\n",
    "            an instance of the ReviewVectorizer class\n",
    "        \"\"\"\n",
    "        is_sequence = contents['is_sequence']\n",
    "        if is_sequence:\n",
    "            input_vocab = SequenceVocabulary.from_serializable(contents['input_vocab'])\n",
    "        else:\n",
    "            input_vocab = Vocabulary.from_serializable(contents['input_vocab'])\n",
    "        class_vocab = Vocabulary.from_serializable(contents['class_vocab'])\n",
    "        return cls(input_vocab=input_vocab, class_vocab=class_vocab, is_sequence=is_sequence)\n",
    "\n",
    "    def to_serializable(self):\n",
    "        \"\"\"Create the serializable dictionary for caching\n",
    "        Returns:\n",
    "            contents (dict): the serializable dictionary\n",
    "        \"\"\"\n",
    "        return {'input_vocab': self.input_vocab.to_serializable(),\n",
    "                'class_vocab': self.class_vocab.to_serializable(),\n",
    "                'is_sueqnce': self.is_sequence}"
   ]
  },
  {
   "cell_type": "code",
   "execution_count": 11,
   "id": "78879b9e",
   "metadata": {
    "ExecuteTime": {
     "end_time": "2022-05-29T02:45:11.428675Z",
     "start_time": "2022-05-29T02:45:11.423004Z"
    }
   },
   "outputs": [],
   "source": [
    "def test_onehot():\n",
    "    df, train, test,val = load_data(\"task1\", send_computer_to_hell=False)\n",
    "\n",
    "    v = OneHotVectoriser.from_dataframe(df, is_sequence=False, data_field=\"tfidf10\", feature_field=\"is_fulltime\", sent_embed=False)\n",
    "    print(v.num_features)\n",
    "    print(v.vectorize(df.tfidf10[0]).shape)\n",
    "\n",
    "    v = OneHotVectoriser.from_dataframe(df, is_sequence=False, data_field=\"tfidf10\", feature_field=\"is_fulltime\", sent_embed=True)\n",
    "    print(v.num_features)\n",
    "    print(v.vectorize(df.tfidf10[0]).shape)\n",
    "\n",
    "    v = OneHotVectoriser.from_dataframe(df, is_sequence=True, data_field=\"tfidf10\", feature_field=\"is_fulltime\", sent_embed=False)\n",
    "    print(v.num_features)\n",
    "    print(v.vectorize(df.job_description[0]).shape)\n",
    "    \n",
    "    v = OneHotVectoriser.from_dataframe(df, is_sequence=True, data_field=\"job_description\", feature_field=\"is_fulltime\", sent_embed=False)\n",
    "    print(v.num_features)\n",
    "    print(v.vectorize(df.job_description[0]).shape)\n",
    "\n",
    "    v = OneHotVectoriser.from_dataframe(df, is_sequence=True, data_field=\"job_description\", feature_field=\"is_fulltime\", sent_embed=True)\n",
    "    print(v.num_features)\n",
    "    print(v.vectorize(df.job_description[0]).shape)\n",
    "\n",
    "# test_onehot()"
   ]
  },
  {
   "cell_type": "markdown",
   "id": "6a23f46e",
   "metadata": {},
   "source": [
    "### Pre-Trained"
   ]
  },
  {
   "cell_type": "code",
   "execution_count": 12,
   "id": "1d79f25c",
   "metadata": {
    "ExecuteTime": {
     "end_time": "2022-05-29T02:45:12.451666Z",
     "start_time": "2022-05-29T02:45:12.446868Z"
    }
   },
   "outputs": [],
   "source": [
    "class PretrainedVectoriser(object):\n",
    "    def __init__(self, sent_embed=False, path=None):\n",
    "        self.vectoriser = self.create_pretrained(load_path=path)\n",
    "        self.sent_embed = sent_embed\n",
    "    \n",
    "    def create_pretrained(self, load_path=None):\n",
    "        if not load_path:\n",
    "            pretrained_w2v = api.load('word2vec-google-news-300')\n",
    "            return pretrained_w2v\n",
    "        else:\n",
    "            return gensim.models.KeyedVectors.load(load_path)\n",
    "         \n",
    "    def get_vectoriser(self):\n",
    "        return self.vecotoriser\n",
    "\n",
    "    def vectorise(self, words):\n",
    "        indicies = [self.vecotoriser.get_index(word) for word in words]\n",
    "        vectors = self.vectoriser[indicies]\n",
    "        if self.sent_embed:\n",
    "            return vectors.flatten()\n",
    "        return vectors "
   ]
  },
  {
   "cell_type": "code",
   "execution_count": 13,
   "id": "29e7c3cb",
   "metadata": {
    "ExecuteTime": {
     "end_time": "2022-05-29T02:46:01.993631Z",
     "start_time": "2022-05-29T02:45:13.058619Z"
    }
   },
   "outputs": [],
   "source": [
    "v = PretrainedVectoriser()  "
   ]
  },
  {
   "cell_type": "code",
   "execution_count": 14,
   "id": "90516f00",
   "metadata": {
    "ExecuteTime": {
     "end_time": "2022-05-29T02:46:02.007627Z",
     "start_time": "2022-05-29T02:46:01.999570Z"
    }
   },
   "outputs": [
    {
     "data": {
      "text/plain": [
       "<gensim.models.keyedvectors.KeyedVectors at 0x7f6e0d284520>"
      ]
     },
     "execution_count": 14,
     "metadata": {},
     "output_type": "execute_result"
    }
   ],
   "source": [
    "v.vectoriser"
   ]
  },
  {
   "cell_type": "code",
   "execution_count": null,
   "id": "f2c3a173",
   "metadata": {},
   "outputs": [],
   "source": []
  },
  {
   "cell_type": "markdown",
   "id": "8c37f5e1",
   "metadata": {},
   "source": [
    "## Dataset class"
   ]
  },
  {
   "cell_type": "code",
   "execution_count": 73,
   "id": "69a024b9",
   "metadata": {
    "ExecuteTime": {
     "end_time": "2022-05-29T03:52:13.115849Z",
     "start_time": "2022-05-29T03:52:13.101193Z"
    }
   },
   "outputs": [],
   "source": [
    "class JobDescriptionDataset(Dataset):\n",
    "    def __init__(self, df, train, val, test, vectorizer, data_field=\"tfidf10\", feature_field=\"is_fulltime\"):\n",
    "        \"\"\"\n",
    "        Args:\n",
    "        review_df (pandas.DataFrame): the dataset\n",
    "        vectorizer (Vectorizer): vectorizer instantiated from dataset\n",
    "        \"\"\"\n",
    "        self.df = df\n",
    "        self._vectorizer = vectorizer\n",
    "        self.feature_field = feature_field\n",
    "        self.data_field = data_field\n",
    "\n",
    "        # +1 if only using begin_seq, +2 if using both begin and end seq tokens\n",
    "        def measure_len(context): return len(context)\n",
    "        self._max_seq_length = max(map(measure_len, df[self.data_field])) + 2\n",
    "\n",
    "        # if we don't have constant length \n",
    "        if not all(len(val) == self._max_seq_length for val in self.data_field):\n",
    "            self.vector_len = self._max_seq_length\n",
    "        else:\n",
    "            self.vector_len = -1\n",
    "        \n",
    "        self.train = train\n",
    "        self.val = val\n",
    "        self.test = test\n",
    "        self.train_size = len(self.train)\n",
    "        self.validation_size = len(self.val)\n",
    "        self.test_size = len(self.test)\n",
    "        self._lookup_dict = {'train': (self.train, self.train_size),\n",
    "                             'val': (self.val, self.validation_size),\n",
    "                             'test': (self.test, self.test_size)}\n",
    "        self.set_split('train')\n",
    "\n",
    "        # Class weights\n",
    "        class_counts = df[self.feature_field].value_counts().to_dict()\n",
    "        def sort_key(item):\n",
    "            return self._vectorizer.class_vocab.lookup_token(item[0])\n",
    "        sorted_counts = sorted(class_counts.items(), key=sort_key)\n",
    "        frequencies = [count for _, count in sorted_counts]\n",
    "        self.class_weights = 1.0 / \\\n",
    "            torch.tensor(frequencies, dtype=torch.float32)\n",
    "\n",
    "    @classmethod\n",
    "    def load_dataset_and_make_vectorizer(cls, name, vectoriser=OneHotVectoriser, \n",
    "                                         data_field='tfidf10', \n",
    "                                         feature_field='is_fulltime',\n",
    "                                         is_sequence=False,\n",
    "                                         sent_embed=False,\n",
    "                                         cutoff=25):\n",
    "        \"\"\"Load dataset and make a new vectorizer from scratch\n",
    "        Args:\n",
    "             name (str): name of task to load\n",
    "        Returns:\n",
    "            an instance of ReviewDataset\n",
    "        \"\"\"\n",
    "        df, train, test, val = load_data(name)\n",
    "        return cls(df, train, test, val, vectoriser.from_dataframe(df, is_sequence, data_field=data_field, \n",
    "            feature_field=feature_field, sent_embed=sent_embed, cutoff=cutoff), data_field=data_field, feature_field=feature_field)\n",
    "\n",
    "    @classmethod\n",
    "    def load_dataset_and_load_vectorizer(cls, name, vectorizer_filepath):\n",
    "        \"\"\"Load dataset and the corresponding vectorizer. \n",
    "        Used in the case in the vectorizer has been cached for re-use\n",
    "\n",
    "        Args:\n",
    "            news_csv (str): location of the dataset\n",
    "            vectorizer_filepath (str): location of the saved vectorizer\n",
    "        Returns:\n",
    "            an instance of NewsDataset\n",
    "        \"\"\"\n",
    "        df, train, test, val = load_data(name)\n",
    "        vectorizer = cls.load_vectorizer_only(vectorizer_filepath)\n",
    "        return cls(df, train, test, val, vectorizer.from_dataframe(df))\n",
    "\n",
    "    @staticmethod\n",
    "    def load_vectorizer_only(vectorizer_filepath):\n",
    "        \"\"\"a static method for loading the vectorizer from file\n",
    "\n",
    "        Args:\n",
    "            vectorizer_filepath (str): the location of the serialized vectorizer\n",
    "        Returns:\n",
    "            an instance of NewsVectorizer\n",
    "        \"\"\"\n",
    "        with open(vectorizer_filepath) as fp:\n",
    "            return NewsVectorizer.from_serializable(json.load(fp))\n",
    "\n",
    "    def save_vectorizer(self, vectorizer_filepath):\n",
    "        \"\"\"saves the vectorizer to disk using json\n",
    "\n",
    "        Args:\n",
    "            vectorizer_filepath (str): the location to save the vectorizer\n",
    "        \"\"\"\n",
    "        with open(vectorizer_filepath, \"w\") as fp:\n",
    "            json.dump(self._vectorizer.to_serializable(), fp)\n",
    "\n",
    "    def get_vectorizer(self):\n",
    "        \"\"\" returns the vectorizer \"\"\"\n",
    "        return self._vectorizer\n",
    "\n",
    "    def set_split(self, split=\"train\"):\n",
    "        \"\"\" selects the splits in the dataset using a column in the dataframe\n",
    "        Args:\n",
    "        split (str): one of \"train\", \"val\", or \"test\"\n",
    "        \"\"\"\n",
    "        self._target_split = split\n",
    "        self._target_df, self._target_size = self._lookup_dict[split]\n",
    "\n",
    "    def __len__(self):\n",
    "        return self._target_size\n",
    "\n",
    "    def __getitem__(self, index):\n",
    "        \"\"\"the primary entry point method for PyTorch datasets\n",
    "        Args:\n",
    "        index (int): the index to the data point\n",
    "        Returns:\n",
    "        a dict of the data point's features (x_data) and label (y_target)\n",
    "        \"\"\"\n",
    "        row = self._target_df.iloc[index]\n",
    "        input_vector = \\\n",
    "            self._vectorizer.vectorize(row[self.data_field], vector_length=self.vector_len)\n",
    "        class_index = \\\n",
    "            self._vectorizer.class_vocab.lookup_token(row[self.feature_field])\n",
    "        return {'x_data': input_vector,\n",
    "                'y_target': class_index}\n",
    "\n",
    "    def get_num_batches(self, batch_size):\n",
    "        \"\"\"Given a batch size, return the number of batches in the dataset\n",
    "        Args:\n",
    "        batch_size (int)\n",
    "        Returns:\n",
    "        number of batches in the dataset\n",
    "        \"\"\"\n",
    "        return len(self) // batch_size\n",
    "\n",
    "\n"
   ]
  },
  {
   "cell_type": "markdown",
   "id": "4f32dfc0",
   "metadata": {},
   "source": [
    "### Setup"
   ]
  },
  {
   "cell_type": "markdown",
   "id": "6359eb9b",
   "metadata": {},
   "source": [
    "### actually train"
   ]
  },
  {
   "cell_type": "markdown",
   "id": "be862578",
   "metadata": {},
   "source": [
    "## Convolution"
   ]
  },
  {
   "cell_type": "code",
   "execution_count": 16,
   "id": "bf6a80db",
   "metadata": {
    "ExecuteTime": {
     "end_time": "2022-05-29T02:46:02.087620Z",
     "start_time": "2022-05-29T02:46:02.078392Z"
    }
   },
   "outputs": [],
   "source": [
    "class CNNVectorizer(object):\n",
    "    \"\"\" The Vectorizer which coordinates the Vocabularies and puts them to use\"\"\"\n",
    "\n",
    "    def __init__(self, input_vocab, class_vocab):\n",
    "        self.input_vocab = input_vocab\n",
    "        self.class_vocab = class_vocab\n",
    "\n",
    "    def vectorize(self, title, vector_length=-1):\n",
    "        \"\"\"\n",
    "        Args:\n",
    "            title (list): the list of words separated by a space\n",
    "            vector_length (int): an argument for forcing the length of index vector\n",
    "        Returns:\n",
    "            the vetorized title (numpy.array)\n",
    "        \"\"\"\n",
    "        indices = [self.input_vocab.begin_seq_index]\n",
    "        indices.extend(self.input_vocab.lookup_token(token)\n",
    "                       for token in title)\n",
    "        indices.append(self.input_vocab.end_seq_index)\n",
    "\n",
    "        if vector_length < 0:\n",
    "            vector_length = len(indices)\n",
    "\n",
    "        out_vector = np.zeros(vector_length, dtype=np.int64)\n",
    "        out_vector[:len(indices)] = indices\n",
    "        out_vector[len(indices):] = self.input_vocab.mask_index\n",
    "\n",
    "        return out_vector\n",
    "\n",
    "    @classmethod\n",
    "    def from_dataframe(cls, news_df, data_field=\"job_description\", feature_field='category', cutoff=25):\n",
    "        \"\"\"Instantiate the vectorizer from the dataset dataframe\n",
    "\n",
    "        Args:\n",
    "            news_df (pandas.DataFrame): the target dataset\n",
    "            cutoff (int): frequency threshold for including in Vocabulary\n",
    "        Returns:\n",
    "            an instance of the NewsVectorizer\n",
    "        \"\"\"\n",
    "        class_vocab = Vocabulary(add_unk=False)\n",
    "        for category in sorted(set(news_df[feature_field])):\n",
    "            class_vocab.add_token(category)\n",
    "        \n",
    "        word_counts = Counter()\n",
    "        for title in news_df[data_field]:\n",
    "            for token in title:\n",
    "                if token not in string.punctuation:\n",
    "                    word_counts[token] += 1\n",
    "\n",
    "        input_vocab = SequenceVocabulary()\n",
    "        for word, word_count in word_counts.items():\n",
    "            if word_count >= cutoff:\n",
    "                input_vocab.add_token(word)\n",
    "\n",
    "        return cls(input_vocab, class_vocab)\n",
    "\n",
    "    @classmethod\n",
    "    def from_serializable(cls, contents):\n",
    "        input_vocab = \\\n",
    "            SequenceVocabulary.from_serializable(contents['input_vocab'])\n",
    "        class_vocab =  \\\n",
    "            Vocabulary.from_serializable(contents['class_vocab'])\n",
    "\n",
    "        return cls(input_vocab=input_vocab, class_vocab=class_vocab)\n",
    "\n",
    "    def to_serializable(self):\n",
    "        return {'input_vocab': self.input_vocab.to_serializable(),\n",
    "                'class_vocab': self.class_vocab.to_serializable()}"
   ]
  },
  {
   "cell_type": "markdown",
   "id": "b42d5ef7",
   "metadata": {},
   "source": [
    "# Binary Classification"
   ]
  },
  {
   "cell_type": "markdown",
   "id": "15a67d9a",
   "metadata": {
    "heading_collapsed": true
   },
   "source": [
    "## Data Loading"
   ]
  },
  {
   "cell_type": "markdown",
   "id": "e6ab171c",
   "metadata": {},
   "source": [
    "## Models"
   ]
  },
  {
   "cell_type": "markdown",
   "id": "5a9fbce4",
   "metadata": {
    "heading_collapsed": true
   },
   "source": [
    "### Feed Forward Neural Network"
   ]
  },
  {
   "cell_type": "code",
   "execution_count": 17,
   "id": "b9bdad48",
   "metadata": {
    "ExecuteTime": {
     "end_time": "2022-05-29T02:46:02.101681Z",
     "start_time": "2022-05-29T02:46:02.092589Z"
    },
    "hidden": true
   },
   "outputs": [],
   "source": [
    "class JobDescriptionNotSimpleClassifier(nn.Module):\n",
    "    \"\"\" a simple perceptron-based classifier \"\"\"\n",
    "    def __init__(self, num_features):\n",
    "        \"\"\"\n",
    "        Args:\n",
    "            num_features (int): the size of the input feature vector\n",
    "        \"\"\"\n",
    "        super(JobDescriptionNotSimpleClassifier, self).__init__()\n",
    "        self.fc1 = nn.Linear(in_features=num_features, out_features=int(num_features/2))\n",
    "        self.fc2 = nn.Linear(in_features=int(num_features/2), out_features=1)\n",
    "    \n",
    "    def forward(self, x_in, apply_sigmoid=False):\n",
    "        \"\"\"The forward pass of the classifier\n",
    "        Args:\n",
    "            x_in (torch.Tensor): an input data tensor \n",
    "                    x_in.shape should be (batch, num_features)\n",
    "            apply_sigmoid (bool): a flag for the sigmoid activation\n",
    "                    should be false if used with the cross-entropy losses\n",
    "        Returns:\n",
    "            the resulting tensor. tensor.shape should be (batch,).\n",
    "        \"\"\"\n",
    "        x_in = self.fc1(x_in)\n",
    "        x_in = F.relu(x_in)\n",
    "        y_out = self.fc2(x_in).squeeze()\n",
    "        \n",
    "        if apply_sigmoid:\n",
    "            y_out = torch.sigmoid(y_out)\n",
    "            \n",
    "        return y_out"
   ]
  },
  {
   "cell_type": "code",
   "execution_count": 18,
   "id": "cb1a1aeb",
   "metadata": {
    "ExecuteTime": {
     "end_time": "2022-05-29T02:46:19.932586Z",
     "start_time": "2022-05-29T02:46:19.928624Z"
    },
    "hidden": true
   },
   "outputs": [],
   "source": [
    "class JobDescriptionSimpleClassifier(nn.Module):\n",
    "    \"\"\" a simple perceptron-based classifier \"\"\"\n",
    "    def __init__(self, num_features):\n",
    "        \"\"\"\n",
    "        Args:\n",
    "            num_features (int): the size of the input feature vector\n",
    "        \"\"\"\n",
    "        super(JobDescriptionSimpleClassifier, self).__init__()\n",
    "        self.fc1 = nn.Linear(in_features=num_features, out_features=1)\n",
    "    \n",
    "    def forward(self, x_in, apply_sigmoid=False):\n",
    "        \"\"\"The forward pass of the classifier\n",
    "        Args:\n",
    "            x_in (torch.Tensor): an input data tensor \n",
    "                    x_in.shape should be (batch, num_features)\n",
    "            apply_sigmoid (bool): a flag for the sigmoid activation\n",
    "                    should be false if used with the cross-entropy losses\n",
    "        Returns:\n",
    "            the resulting tensor. tensor.shape should be (batch,).\n",
    "        \"\"\"\n",
    "        y_out = self.fc1(x_in).squeeze()\n",
    "        \n",
    "        if apply_sigmoid:\n",
    "            y_out = torch.sigmoid(y_out)\n",
    "        return y_out"
   ]
  },
  {
   "cell_type": "markdown",
   "id": "20f516ac",
   "metadata": {
    "hidden": true
   },
   "source": [
    "#### Training"
   ]
  },
  {
   "cell_type": "code",
   "execution_count": 21,
   "id": "7df2d10d",
   "metadata": {
    "ExecuteTime": {
     "end_time": "2022-05-29T02:46:38.055470Z",
     "start_time": "2022-05-29T02:46:38.052352Z"
    },
    "hidden": true
   },
   "outputs": [],
   "source": [
    "args = Namespace(\n",
    "    # Data and path information\n",
    "    frequency_cutoff=25,\n",
    "    model_state_file='task1-model.pth',\n",
    "    name='task1',\n",
    "    save_dir='./model_storage/task1/',\n",
    "    vectorizer_file='vectorizer.json',\n",
    "    # No model hyperparameters\n",
    "    # Training hyperparameters\n",
    "    batch_size=128,\n",
    "    early_stopping_criteria=5,\n",
    "    learning_rate=0.01,\n",
    "    num_epochs=20,\n",
    "    seed=1337,\n",
    "    # Runtime options\n",
    "    cuda=True,\n",
    "    device='cuda',\n",
    ")"
   ]
  },
  {
   "cell_type": "code",
   "execution_count": 22,
   "id": "a6dbd59c",
   "metadata": {
    "ExecuteTime": {
     "end_time": "2022-05-29T02:46:42.701117Z",
     "start_time": "2022-05-29T02:46:38.566947Z"
    },
    "hidden": true
   },
   "outputs": [],
   "source": [
    "def make_train_state(args):\n",
    "    return {'epoch_index': 0,\n",
    "            'train_loss': [],\n",
    "            'train_acc': [],\n",
    "            'val_loss': [],\n",
    "            'val_acc': [],\n",
    "            'test_loss': 1,\n",
    "            'test_acc': 1}\n",
    "\n",
    "train_state = make_train_state(args)\n",
    "if not torch.cuda.is_available():\n",
    "    args.cuda = False\n",
    "args.device = torch.device(\"cuda\" if args.cuda else \"cpu\")\n",
    "\n",
    "# dataset and vectorizer\n",
    "# dataset2 = JobDescriptionDataset.load_dataset_and_make_vectorizer(args.input_name, Word2vecVectoriser)\n",
    "# vectorizer2 = dataset2.get_vectorizer()\n",
    "dataset = JobDescriptionDataset.load_dataset_and_make_vectorizer(args.name, data_field='tfidf10', feature_field='is_fulltime', \n",
    "    is_sequence=False, sent_embed=True)\n",
    "vectorizer = dataset.get_vectorizer()\n",
    "# model\n",
    "# classifier = JobDescriptionClassifier(num_features=len(vectorizer.input_vocab))\n",
    "classifier = JobDescriptionNotSimpleClassifier(num_features=vectorizer.num_features)\n",
    "classifier = classifier.to(args.device)\n",
    "# loss and optimizer\n",
    "loss_func = nn.BCEWithLogitsLoss()\n",
    "optimizer = optim.Adam(classifier.parameters(), lr=args.learning_rate)\n",
    "\n",
    "def compute_accuracy(y_pred, y_target):\n",
    "    y_target = y_target.cpu()\n",
    "    y_pred_indices = (torch.sigmoid(y_pred)>0.5).cpu().long()#.max(dim=1)[1]\n",
    "    n_correct = torch.eq(y_pred_indices, y_target).sum().item()\n",
    "    return n_correct / len(y_pred_indices) * 100"
   ]
  },
  {
   "cell_type": "markdown",
   "id": "7f8a3b9e",
   "metadata": {
    "hidden": true
   },
   "source": [
    "#### Training Loop"
   ]
  },
  {
   "cell_type": "code",
   "execution_count": 23,
   "id": "734fe3ab",
   "metadata": {
    "ExecuteTime": {
     "end_time": "2022-05-29T02:47:44.575264Z",
     "start_time": "2022-05-29T02:46:47.677876Z"
    },
    "hidden": true,
    "scrolled": false
   },
   "outputs": [
    {
     "data": {
      "application/vnd.jupyter.widget-view+json": {
       "model_id": "8f8a3d2ce9c142eba6c7fd7a61882423",
       "version_major": 2,
       "version_minor": 0
      },
      "text/plain": [
       "0it [00:00, ?it/s]"
      ]
     },
     "metadata": {},
     "output_type": "display_data"
    },
    {
     "data": {
      "application/vnd.jupyter.widget-view+json": {
       "model_id": "6c15727582234d4fb42680009d4eb78b",
       "version_major": 2,
       "version_minor": 0
      },
      "text/plain": [
       "0it [00:00, ?it/s]"
      ]
     },
     "metadata": {},
     "output_type": "display_data"
    },
    {
     "data": {
      "application/vnd.jupyter.widget-view+json": {
       "model_id": "ee291ca6102a4213b2cc3283b97edfa3",
       "version_major": 2,
       "version_minor": 0
      },
      "text/plain": [
       "0it [00:00, ?it/s]"
      ]
     },
     "metadata": {},
     "output_type": "display_data"
    },
    {
     "data": {
      "application/vnd.jupyter.widget-view+json": {
       "model_id": "1a07b09a62864cd9827181556cbc0e57",
       "version_major": 2,
       "version_minor": 0
      },
      "text/plain": [
       "0it [00:00, ?it/s]"
      ]
     },
     "metadata": {},
     "output_type": "display_data"
    },
    {
     "data": {
      "application/vnd.jupyter.widget-view+json": {
       "model_id": "416ea2d217cc45359319373424a4b904",
       "version_major": 2,
       "version_minor": 0
      },
      "text/plain": [
       "0it [00:00, ?it/s]"
      ]
     },
     "metadata": {},
     "output_type": "display_data"
    },
    {
     "data": {
      "application/vnd.jupyter.widget-view+json": {
       "model_id": "de37052916634d23805541130d28578c",
       "version_major": 2,
       "version_minor": 0
      },
      "text/plain": [
       "0it [00:00, ?it/s]"
      ]
     },
     "metadata": {},
     "output_type": "display_data"
    },
    {
     "data": {
      "application/vnd.jupyter.widget-view+json": {
       "model_id": "f7f04df4912e4cefb1f6feda0152331c",
       "version_major": 2,
       "version_minor": 0
      },
      "text/plain": [
       "0it [00:00, ?it/s]"
      ]
     },
     "metadata": {},
     "output_type": "display_data"
    },
    {
     "data": {
      "application/vnd.jupyter.widget-view+json": {
       "model_id": "4ff923cfe8c74fb08dae301c6ce015ad",
       "version_major": 2,
       "version_minor": 0
      },
      "text/plain": [
       "0it [00:00, ?it/s]"
      ]
     },
     "metadata": {},
     "output_type": "display_data"
    },
    {
     "data": {
      "application/vnd.jupyter.widget-view+json": {
       "model_id": "bca7e41cfd2d4549814df44f15128ae8",
       "version_major": 2,
       "version_minor": 0
      },
      "text/plain": [
       "0it [00:00, ?it/s]"
      ]
     },
     "metadata": {},
     "output_type": "display_data"
    },
    {
     "data": {
      "application/vnd.jupyter.widget-view+json": {
       "model_id": "8dcc500fa6a540f1b11d4d85cffed6c5",
       "version_major": 2,
       "version_minor": 0
      },
      "text/plain": [
       "0it [00:00, ?it/s]"
      ]
     },
     "metadata": {},
     "output_type": "display_data"
    },
    {
     "data": {
      "application/vnd.jupyter.widget-view+json": {
       "model_id": "670c1678683e48a5b61edaff777999f6",
       "version_major": 2,
       "version_minor": 0
      },
      "text/plain": [
       "0it [00:00, ?it/s]"
      ]
     },
     "metadata": {},
     "output_type": "display_data"
    },
    {
     "data": {
      "application/vnd.jupyter.widget-view+json": {
       "model_id": "9637c5c97206419e9ffbb72674aa3bfe",
       "version_major": 2,
       "version_minor": 0
      },
      "text/plain": [
       "0it [00:00, ?it/s]"
      ]
     },
     "metadata": {},
     "output_type": "display_data"
    },
    {
     "data": {
      "application/vnd.jupyter.widget-view+json": {
       "model_id": "1e421db66b0e4772b97d8ad6b4b52432",
       "version_major": 2,
       "version_minor": 0
      },
      "text/plain": [
       "0it [00:00, ?it/s]"
      ]
     },
     "metadata": {},
     "output_type": "display_data"
    },
    {
     "data": {
      "application/vnd.jupyter.widget-view+json": {
       "model_id": "ce793952a1ef49f7af5bf466457562de",
       "version_major": 2,
       "version_minor": 0
      },
      "text/plain": [
       "0it [00:00, ?it/s]"
      ]
     },
     "metadata": {},
     "output_type": "display_data"
    },
    {
     "data": {
      "application/vnd.jupyter.widget-view+json": {
       "model_id": "405d2f72281e43eaa0f8bc84360a3215",
       "version_major": 2,
       "version_minor": 0
      },
      "text/plain": [
       "0it [00:00, ?it/s]"
      ]
     },
     "metadata": {},
     "output_type": "display_data"
    },
    {
     "data": {
      "application/vnd.jupyter.widget-view+json": {
       "model_id": "9199473a43c64a7bbda020458970712d",
       "version_major": 2,
       "version_minor": 0
      },
      "text/plain": [
       "0it [00:00, ?it/s]"
      ]
     },
     "metadata": {},
     "output_type": "display_data"
    },
    {
     "data": {
      "application/vnd.jupyter.widget-view+json": {
       "model_id": "9c3a29acf1674076a28cd5809e9c4e5f",
       "version_major": 2,
       "version_minor": 0
      },
      "text/plain": [
       "0it [00:00, ?it/s]"
      ]
     },
     "metadata": {},
     "output_type": "display_data"
    },
    {
     "data": {
      "application/vnd.jupyter.widget-view+json": {
       "model_id": "a9852b5ab97947a8afd19f8d2f970636",
       "version_major": 2,
       "version_minor": 0
      },
      "text/plain": [
       "0it [00:00, ?it/s]"
      ]
     },
     "metadata": {},
     "output_type": "display_data"
    },
    {
     "data": {
      "application/vnd.jupyter.widget-view+json": {
       "model_id": "c1d78045f16d4467b3cd150a8b663f59",
       "version_major": 2,
       "version_minor": 0
      },
      "text/plain": [
       "0it [00:00, ?it/s]"
      ]
     },
     "metadata": {},
     "output_type": "display_data"
    },
    {
     "data": {
      "application/vnd.jupyter.widget-view+json": {
       "model_id": "1d520dd27039459a83a76481517d17fe",
       "version_major": 2,
       "version_minor": 0
      },
      "text/plain": [
       "0it [00:00, ?it/s]"
      ]
     },
     "metadata": {},
     "output_type": "display_data"
    }
   ],
   "source": [
    "for epoch_index in range(args.num_epochs):\n",
    "    train_state['epoch_index'] = epoch_index\n",
    "    # Iterate over training dataset\n",
    "    # setup: batch generator, set loss and acc to 0, set train mode on\n",
    "    dataset.set_split('train')\n",
    "    batch_generator = generate_batches(dataset, batch_size=args.batch_size, device=args.device)\n",
    "    running_loss = 0.0\n",
    "    running_acc = 0.0\n",
    "    classifier.train()\n",
    "    for batch_index, batch_dict in tqdm(enumerate(batch_generator), colour='white'):\n",
    "        # the training routine is 5 steps:\n",
    "        # step 1. zero the gradients\n",
    "        optimizer.zero_grad()\n",
    "        # step 2. compute the output\n",
    "        y_pred = classifier(x_in=batch_dict['x_data'].float())\n",
    "        # step 3. compute the loss\n",
    "        loss = loss_func(y_pred, batch_dict['y_target'].float())\n",
    "        loss_batch = loss.item()\n",
    "        running_loss += (loss_batch-running_loss) / (batch_index + 1)\n",
    "        # step 4. use loss to produce gradients\n",
    "        loss.backward()\n",
    "        # step 5. use optimizer to take gradient step\n",
    "        optimizer.step()\n",
    "        # compute the accuracy\n",
    "        acc_batch = compute_accuracy(y_pred, batch_dict['y_target'])\n",
    "        running_acc += (acc_batch - running_acc) / (batch_index + 1)\n",
    "\n",
    "    train_state['train_loss'].append(running_loss)\n",
    "    train_state['train_acc'].append(running_acc)\n",
    "\n",
    "    # Iterate over val dataset\n",
    "    # setup: batch generator, set loss and acc to 0, set eval mode on\n",
    "    dataset.set_split('val')\n",
    "    batch_generator = generate_batches(dataset, batch_size=args.batch_size, device=args.device)\n",
    "    running_loss = 0.\n",
    "    running_acc = 0.\n",
    "    classifier.eval()\n",
    "\n",
    "    for batch_index, batch_dict in enumerate(batch_generator):\n",
    "        # step 1. compute the output\n",
    "        y_pred = classifier(x_in=batch_dict['x_data'].float())\n",
    "        # step 2. compute the loss\n",
    "        loss = loss_func(y_pred, batch_dict['y_target'].float())\n",
    "        loss_batch = loss.item()\n",
    "        running_loss += (loss_batch - running_loss) / (batch_index + 1)\n",
    "        # step 3. compute the accuracy\n",
    "        acc_batch = compute_accuracy(y_pred, batch_dict['y_target'])\n",
    "        running_acc += (acc_batch - running_acc) / (batch_index + 1)\n",
    "    train_state['val_loss'].append(running_loss)\n",
    "    train_state['val_acc'].append(running_acc)"
   ]
  },
  {
   "cell_type": "markdown",
   "id": "0284b571",
   "metadata": {
    "hidden": true
   },
   "source": [
    "#### Evaluation"
   ]
  },
  {
   "cell_type": "code",
   "execution_count": 24,
   "id": "046d1aa9",
   "metadata": {
    "ExecuteTime": {
     "end_time": "2022-05-29T02:47:55.963218Z",
     "start_time": "2022-05-29T02:47:55.671653Z"
    },
    "hidden": true
   },
   "outputs": [],
   "source": [
    "dataset.set_split('test')\n",
    "batch_generator = generate_batches(dataset,batch_size=args.batch_size,device=args.device)\n",
    "running_loss = 0.\n",
    "running_acc = 0.\n",
    "classifier.eval()\n",
    "for batch_index, batch_dict in enumerate(batch_generator):\n",
    "    # compute the output\n",
    "    y_pred = classifier(x_in=batch_dict['x_data'].float())\n",
    "    # compute the loss\n",
    "    loss = loss_func(y_pred, batch_dict['y_target'].float())\n",
    "    loss_batch = loss.item()\n",
    "    running_loss += (loss_batch - running_loss) / (batch_index + 1)\n",
    "    # compute the accuracy\n",
    "    acc_batch = compute_accuracy(y_pred, batch_dict['y_target'])\n",
    "    running_acc += (acc_batch - running_acc) / (batch_index + 1)\n",
    "train_state['test_loss'] = running_loss\n",
    "train_state['test_acc'] = running_acc"
   ]
  },
  {
   "cell_type": "code",
   "execution_count": 25,
   "id": "4f5b78f5",
   "metadata": {
    "ExecuteTime": {
     "end_time": "2022-05-29T02:47:56.699191Z",
     "start_time": "2022-05-29T02:47:56.695909Z"
    },
    "hidden": true
   },
   "outputs": [
    {
     "name": "stdout",
     "output_type": "stream",
     "text": [
      "Test loss: 0.461\n",
      "Test Accuracy: 90.87\n"
     ]
    }
   ],
   "source": [
    "print(\"Test loss: {:.3f}\".format(train_state['test_loss']))\n",
    "print(\"Test Accuracy: {:.2f}\".format(train_state['test_acc']))"
   ]
  },
  {
   "cell_type": "markdown",
   "id": "a0f4a628",
   "metadata": {},
   "source": [
    "### CNN Conv1D Model"
   ]
  },
  {
   "cell_type": "code",
   "execution_count": 65,
   "id": "d54c2453",
   "metadata": {
    "ExecuteTime": {
     "end_time": "2022-05-29T03:49:41.250085Z",
     "start_time": "2022-05-29T03:49:41.241141Z"
    }
   },
   "outputs": [],
   "source": [
    "class CNNClassifier(nn.Module):\n",
    "    def __init__(self, embedding_size, num_embeddings, num_channels, \n",
    "                 hidden_dim, num_classes, dropout_p, \n",
    "                 pretrained_embeddings=None, padding_idx=0):\n",
    "        \"\"\"\n",
    "        Args:\n",
    "            embedding_size (int): size of the embedding vectors\n",
    "            num_embeddings (int): number of embedding vectors\n",
    "            filter_width (int): width of the convolutional kernels\n",
    "            num_channels (int): number of convolutional kernels per layer\n",
    "            hidden_dim (int): the size of the hidden dimension\n",
    "            num_classes (int): the number of classes in classification\n",
    "            dropout_p (float): a dropout parameter \n",
    "            pretrained_embeddings (numpy.array): previously trained word embeddings\n",
    "                default is None. If provided, \n",
    "            padding_idx (int): an index representing a null position\n",
    "        \"\"\"\n",
    "        super(CNNClassifier, self).__init__()\n",
    "\n",
    "        if pretrained_embeddings is None:\n",
    "\n",
    "            self.emb = nn.Embedding(embedding_dim=embedding_size,\n",
    "                                    num_embeddings=num_embeddings,\n",
    "                                    padding_idx=padding_idx)        \n",
    "        else:\n",
    "            pretrained_embeddings = torch.from_numpy(pretrained_embeddings).float()\n",
    "            self.emb = nn.Embedding(embedding_dim=embedding_size,\n",
    "                                    num_embeddings=num_embeddings,\n",
    "                                    padding_idx=padding_idx,\n",
    "                                    _weight=pretrained_embeddings)\n",
    "        \n",
    "            \n",
    "        self.convnet = nn.Sequential(\n",
    "            nn.Conv1d(in_channels=embedding_size, \n",
    "                   out_channels=num_channels, kernel_size=1),\n",
    "            nn.ELU(),\n",
    "            nn.Conv1d(in_channels=num_channels, out_channels=num_channels, \n",
    "                   kernel_size=2, stride=2),\n",
    "            nn.ELU(),\n",
    "            nn.Conv1d(in_channels=num_channels, out_channels=num_channels, \n",
    "                   kernel_size=2, stride=2),\n",
    "            nn.ELU(),\n",
    "            nn.Conv1d(in_channels=num_channels, out_channels=num_channels, \n",
    "                   kernel_size=2),\n",
    "            nn.ELU()\n",
    "        )\n",
    "\n",
    "        self._dropout_p = dropout_p\n",
    "        self.fc1 = nn.Linear(num_channels, hidden_dim)\n",
    "        self.fc2 = nn.Linear(hidden_dim, num_classes)\n",
    "\n",
    "    def forward(self, x_in, apply_softmax=False):\n",
    "        \"\"\"The forward pass of the classifier\n",
    "        \n",
    "        Args:\n",
    "            x_in (torch.Tensor): an input data tensor. \n",
    "                x_in.shape should be (batch, dataset._max_seq_length)\n",
    "            apply_softmax (bool): a flag for the softmax activation\n",
    "                should be false if used with the Cross Entropy losses\n",
    "        Returns:\n",
    "            the resulting tensor. tensor.shape should be (batch, num_classes)\n",
    "        \"\"\"\n",
    "        # embed and permute so features are channels\n",
    "        x_embedded = self.emb(x_in).permute(0, 2, 1)\n",
    "\n",
    "        features = self.convnet(x_embedded)\n",
    "\n",
    "        # average and remove the extra dimension\n",
    "        remaining_size = features.size(dim=2)\n",
    "        features = F.avg_pool1d(features, remaining_size).squeeze(dim=2)\n",
    "        features = F.dropout(features, p=self._dropout_p)\n",
    "        \n",
    "        # mlp classifier\n",
    "        intermediate_vector = F.relu(F.dropout(self.fc1(features), p=self._dropout_p))\n",
    "        prediction_vector = self.fc2(intermediate_vector)\n",
    "\n",
    "        if apply_softmax:\n",
    "            prediction_vector = F.softmax(prediction_vector, dim=1)\n",
    "\n",
    "        return prediction_vector\n",
    "\n",
    "    \n"
   ]
  },
  {
   "cell_type": "markdown",
   "id": "d6c0e9e8",
   "metadata": {},
   "source": [
    "#### Train Setup"
   ]
  },
  {
   "cell_type": "code",
   "execution_count": 66,
   "id": "d022cde3",
   "metadata": {
    "ExecuteTime": {
     "end_time": "2022-05-29T03:49:46.475618Z",
     "start_time": "2022-05-29T03:49:46.468797Z"
    }
   },
   "outputs": [],
   "source": [
    "def make_train_state(args):\n",
    "    return {'stop_early': False,\n",
    "            'early_stopping_step': 0,\n",
    "            'early_stopping_best_val': 1e8,\n",
    "            'learning_rate': args.learning_rate,\n",
    "            'epoch_index': 0,\n",
    "            'train_loss': [],\n",
    "            'train_acc': [],\n",
    "            'val_loss': [],\n",
    "            'val_acc': [],\n",
    "            'test_loss': -1,\n",
    "            'test_acc': -1,\n",
    "            'model_filename': args.model_state_file}\n",
    "\n",
    "def update_train_state(args, model, train_state):\n",
    "    \"\"\"Handle the training state updates.\n",
    "\n",
    "    Components:\n",
    "     - Early Stopping: Prevent overfitting.\n",
    "     - Model Checkpoint: Model is saved if the model is better\n",
    "\n",
    "    :param args: main arguments\n",
    "    :param model: model to train\n",
    "    :param train_state: a dictionary representing the training state values\n",
    "    :returns:\n",
    "        a new train_state\n",
    "    \"\"\"\n",
    "\n",
    "    # Save one model at least\n",
    "    if train_state['epoch_index'] == 0:\n",
    "        torch.save(model.state_dict(), train_state['model_filename'])\n",
    "        train_state['stop_early'] = False\n",
    "\n",
    "    # Save model if performance improved\n",
    "    elif train_state['epoch_index'] >= 1:\n",
    "        loss_tm1, loss_t = train_state['val_loss'][-2:]\n",
    "\n",
    "        # If loss worsened\n",
    "        if loss_t >= train_state['early_stopping_best_val']:\n",
    "            # Update step\n",
    "            train_state['early_stopping_step'] += 1\n",
    "        # Loss decreased\n",
    "        else:\n",
    "            # Save the best model\n",
    "            if loss_t < train_state['early_stopping_best_val']:\n",
    "                torch.save(model.state_dict(), train_state['model_filename'])\n",
    "\n",
    "            # Reset early stopping step\n",
    "            train_state['early_stopping_step'] = 0\n",
    "\n",
    "        # Stop early ?\n",
    "        train_state['stop_early'] = \\\n",
    "            train_state['early_stopping_step'] >= args.early_stopping_criteria\n",
    "\n",
    "    return train_state\n",
    "\n",
    "def compute_accuracy(y_pred, y_target):\n",
    "    _, y_pred_indices = y_pred.max(dim=1)\n",
    "    n_correct = torch.eq(y_pred_indices, y_target).sum().item()\n",
    "    return n_correct / len(y_pred_indices) * 100"
   ]
  },
  {
   "cell_type": "code",
   "execution_count": 67,
   "id": "0d5dbe5f",
   "metadata": {
    "ExecuteTime": {
     "end_time": "2022-05-29T03:49:58.041702Z",
     "start_time": "2022-05-29T03:49:58.037730Z"
    }
   },
   "outputs": [],
   "source": [
    "args = Namespace(\n",
    "    # Data and Path hyper parameters\n",
    "    name=\"task1\",\n",
    "    news_csv=\"./data/ag_news/news_with_splits.csv\",\n",
    "    vectorizer_file=\"vectorizer.json\",\n",
    "    model_state_file=\"model.pth\",\n",
    "    save_dir=\"model_storage/document_classification\",\n",
    "    # Model hyper parameters\n",
    "    glove_filepath='/home/dadams/Files/uni/nlp/data/glove.6B/glove.6B.100d.txt', \n",
    "    use_glove=False,\n",
    "    embedding_size=100, \n",
    "    hidden_dim=100, \n",
    "    num_channels=100, \n",
    "    # Training hyper parameter\n",
    "    seed=1337, \n",
    "    learning_rate=0.001, \n",
    "    dropout_p=0.1, \n",
    "    batch_size=128, \n",
    "    num_epochs=20, \n",
    "    early_stopping_criteria=5, \n",
    "    # Runtime option\n",
    "    cuda=True, \n",
    "    catch_keyboard_interrupt=True, \n",
    "    reload_from_files=False,\n",
    "    expand_filepaths_to_save_dir=True,\n",
    "    # Dataset params\n",
    "    data_field='tfidf10', \n",
    "    feature_field='is_fulltime', \n",
    "    is_sequence=True, \n",
    "    sent_embed=True\n",
    ")"
   ]
  },
  {
   "cell_type": "code",
   "execution_count": 41,
   "id": "d5a2fb2b",
   "metadata": {
    "ExecuteTime": {
     "end_time": "2022-05-29T03:21:23.974895Z",
     "start_time": "2022-05-29T03:21:23.952520Z"
    }
   },
   "outputs": [],
   "source": [
    "\n",
    "\n",
    "def do_train(args):\n",
    "    if args.expand_filepaths_to_save_dir:\n",
    "        args.vectorizer_file = os.path.join(args.save_dir,\n",
    "                                            args.vectorizer_file)\n",
    "\n",
    "        args.model_state_file = os.path.join(args.save_dir,\n",
    "                                             args.model_state_file)\n",
    "\n",
    "        print(\"Expanded filepaths: \")\n",
    "        print(\"\\t{}\".format(args.vectorizer_file))\n",
    "        print(\"\\t{}\".format(args.model_state_file))\n",
    "\n",
    "    # Check CUDA\n",
    "    if not torch.cuda.is_available():\n",
    "        args.cuda = False\n",
    "\n",
    "    args.device = torch.device(\"cuda\" if args.cuda else \"cpu\")\n",
    "    print(\"Using CUDA: {}\".format(args.cuda))\n",
    "\n",
    "    # Set seed for reproducibility\n",
    "    set_seed_everywhere(args.seed, args.cuda)\n",
    "\n",
    "    # handle dirs\n",
    "    handle_dirs(args.save_dir)\n",
    "    # args.use_glove = True\n",
    "\n",
    "    if args.reload_from_files:\n",
    "        # training from a checkpoint\n",
    "        dataset = NewsDataset.load_dataset_and_load_vectorizer(args.news_csv,\n",
    "                                                               args.vectorizer_file)\n",
    "    else:\n",
    "        dataset = JobDescriptionDataset.load_dataset_and_make_vectorizer(args.name, data_field=args.data_field, feature_field=args.feature_field, \n",
    "            is_sequence=args.is_sequence, sent_embed=args.sent_embed)\n",
    "        # create dataset and vectorizer\n",
    "        # dataset = JobDescriptionDataset.load_dataset_and_make_vectorizer(args.name, vectoriser=CNNVectorizer)\n",
    "        # dataset.save_vectorizer(args.vectorizer_file)\n",
    "    vectorizer = dataset.get_vectorizer()\n",
    "\n",
    "    # Use GloVe or randomly initialized embeddings\n",
    "    if args.use_glove:\n",
    "        words = vectorizer.input_vocab._token_to_idx.keys()\n",
    "        embeddings = make_embedding_matrix(glove_filepath=args.glove_filepath, \n",
    "                                           words=words)\n",
    "        print(\"Using pre-trained embeddings\")\n",
    "    else:\n",
    "        print(\"Not using pre-trained embeddings\")\n",
    "        embeddings = None\n",
    "\n",
    "\n",
    "    print(len(vectorizer.class_vocab))\n",
    "\n",
    "    classifier = CNNClassifier(embedding_size=args.embedding_size, \n",
    "                                num_embeddings=len(vectorizer.input_vocab),\n",
    "                                num_channels=args.num_channels,\n",
    "                                hidden_dim=args.hidden_dim, \n",
    "                                num_classes=len(vectorizer.class_vocab), \n",
    "                                dropout_p=args.dropout_p,\n",
    "                                pretrained_embeddings=embeddings,\n",
    "                                padding_idx=0)\n",
    "    \n",
    "    classifier = classifier.to(args.device)\n",
    "    dataset.class_weights = dataset.class_weights.to(args.device)\n",
    "\n",
    "    loss_func = nn.CrossEntropyLoss(dataset.class_weights)\n",
    "    optimizer = optim.Adam(classifier.parameters(), lr=args.learning_rate)\n",
    "    scheduler = optim.lr_scheduler.ReduceLROnPlateau(optimizer=optimizer,\n",
    "                                               mode='min', factor=0.5,\n",
    "                                               patience=1)\n",
    "\n",
    "    train_state = make_train_state(args)\n",
    "\n",
    "    epoch_bar = tqdm(desc='training routine', \n",
    "                              total=args.num_epochs,\n",
    "                              position=0)\n",
    "\n",
    "    dataset.set_split('train')\n",
    "    train_bar = tqdm(desc='split=train',\n",
    "                              total=dataset.get_num_batches(args.batch_size), \n",
    "                              position=1, \n",
    "                              leave=True)\n",
    "    dataset.set_split('val')\n",
    "    val_bar = tqdm(desc='split=val',\n",
    "                            total=dataset.get_num_batches(args.batch_size), \n",
    "                            position=1, \n",
    "                            leave=True)\n",
    "\n",
    "\n",
    "    for epoch_index in range(args.num_epochs):\n",
    "    # for epoch_index in range(2):\n",
    "        train_state['epoch_index'] = epoch_index\n",
    "        # Iterate over training dataset\n",
    "\n",
    "        # setup: batch generator, set loss and acc to 0, set train mode on\n",
    "\n",
    "        dataset.set_split('train')\n",
    "        batch_generator = generate_batches(dataset, \n",
    "                                           batch_size=args.batch_size, \n",
    "                                           device=args.device)\n",
    "        running_loss = 0.0\n",
    "        running_acc = 0.0\n",
    "        classifier.train()\n",
    "\n",
    "        for batch_index, batch_dict in enumerate(batch_generator):\n",
    "            # the training routine is these 5 steps:\n",
    "\n",
    "            # --------------------------------------\n",
    "            # step 1. zero the gradients\n",
    "            optimizer.zero_grad()\n",
    "    #         print(batch_dict['x_data'])\n",
    "            # step 2. compute the output\n",
    "            y_pred = classifier(batch_dict['x_data'])\n",
    "\n",
    "            # step 3. compute the loss\n",
    "            loss = loss_func(y_pred, batch_dict['y_target'])\n",
    "            loss_t = loss.item()\n",
    "            running_loss += (loss_t - running_loss) / (batch_index + 1)\n",
    "\n",
    "            # step 4. use loss to produce gradients\n",
    "            loss.backward()\n",
    "\n",
    "            # step 5. use optimizer to take gradient step\n",
    "            optimizer.step()\n",
    "            # -----------------------------------------\n",
    "            # compute the accuracy\n",
    "            acc_t = compute_accuracy(y_pred, batch_dict['y_target'])\n",
    "            running_acc += (acc_t - running_acc) / (batch_index + 1)\n",
    "\n",
    "            # update bar\n",
    "            train_bar.set_postfix(loss=running_loss, acc=running_acc, \n",
    "                                  epoch=epoch_index)\n",
    "            train_bar.update()\n",
    "\n",
    "        train_state['train_loss'].append(running_loss)\n",
    "        train_state['train_acc'].append(running_acc)\n",
    "\n",
    "        # Iterate over val dataset\n",
    "\n",
    "        # setup: batch generator, set loss and acc to 0; set eval mode on\n",
    "        dataset.set_split('val')\n",
    "        batch_generator = generate_batches(dataset, \n",
    "                                           batch_size=args.batch_size, \n",
    "                                           device=args.device)\n",
    "        running_loss = 0.\n",
    "        running_acc = 0.\n",
    "        classifier.eval()\n",
    "\n",
    "        for batch_index, batch_dict in enumerate(batch_generator):\n",
    "\n",
    "            # compute the output\n",
    "            y_pred =  classifier(batch_dict['x_data'])\n",
    "\n",
    "            # step 3. compute the loss\n",
    "            loss = loss_func(y_pred, batch_dict['y_target'])\n",
    "            loss_t = loss.item()\n",
    "            running_loss += (loss_t - running_loss) / (batch_index + 1)\n",
    "\n",
    "            # compute the accuracy\n",
    "            acc_t = compute_accuracy(y_pred, batch_dict['y_target'])\n",
    "            running_acc += (acc_t - running_acc) / (batch_index + 1)\n",
    "            val_bar.set_postfix(loss=running_loss, acc=running_acc, \n",
    "                            epoch=epoch_index)\n",
    "            val_bar.update()\n",
    "\n",
    "        train_state['val_loss'].append(running_loss)\n",
    "        train_state['val_acc'].append(running_acc)\n",
    "\n",
    "        train_state = update_train_state(args=args, model=classifier,\n",
    "                                         train_state=train_state)\n",
    "\n",
    "        scheduler.step(train_state['val_loss'][-1])\n",
    "\n",
    "        if train_state['stop_early']:\n",
    "            break\n",
    "\n",
    "        train_bar.n = 0\n",
    "        val_bar.n = 0\n",
    "        epoch_bar.update()\n",
    "        \n",
    "    # compute the loss & accuracy on the test set using the best available model\n",
    "\n",
    "    classifier.load_state_dict(torch.load(train_state['model_filename']))\n",
    "\n",
    "    classifier = classifier.to(args.device)\n",
    "    dataset.class_weights = dataset.class_weights.to(args.device)\n",
    "    loss_func = nn.CrossEntropyLoss(dataset.class_weights)\n",
    "\n",
    "    dataset.set_split('test')\n",
    "    batch_generator = generate_batches(dataset, \n",
    "                                       batch_size=args.batch_size, \n",
    "                                       device=args.device)\n",
    "    running_loss = 0.\n",
    "    running_acc = 0.\n",
    "    classifier.eval()\n",
    "\n",
    "    for batch_index, batch_dict in enumerate(batch_generator):\n",
    "        # compute the output\n",
    "        y_pred =  classifier(batch_dict['x_data'])\n",
    "\n",
    "        # compute the loss\n",
    "        loss = loss_func(y_pred, batch_dict['y_target'])\n",
    "        loss_t = loss.item()\n",
    "        running_loss += (loss_t - running_loss) / (batch_index + 1)\n",
    "\n",
    "        # compute the accuracy\n",
    "        acc_t = compute_accuracy(y_pred, batch_dict['y_target'])\n",
    "        running_acc += (acc_t - running_acc) / (batch_index + 1)\n",
    "\n",
    "    train_state['test_loss'] = running_loss\n",
    "    train_state['test_acc'] = running_acc\n",
    "\n",
    "    print(\"Test loss: {};\".format(train_state['test_loss']))\n",
    "    print(\"Test Accuracy: {}\".format(train_state['test_acc']))\n",
    "\n"
   ]
  },
  {
   "cell_type": "code",
   "execution_count": 42,
   "id": "3cd097ed",
   "metadata": {
    "ExecuteTime": {
     "end_time": "2022-05-29T03:22:21.292279Z",
     "start_time": "2022-05-29T03:21:25.386803Z"
    }
   },
   "outputs": [
    {
     "name": "stdout",
     "output_type": "stream",
     "text": [
      "Expanded filepaths: \n",
      "\tmodel_storage/document_classification/vectorizer.json\n",
      "\tmodel_storage/document_classification/model.pth\n",
      "Using CUDA: True\n",
      "Not using pre-trained embeddings\n",
      "2\n"
     ]
    },
    {
     "data": {
      "application/vnd.jupyter.widget-view+json": {
       "model_id": "61912575a98d48a78231ea5008e71c94",
       "version_major": 2,
       "version_minor": 0
      },
      "text/plain": [
       "training routine:   0%|          | 0/20 [00:00<?, ?it/s]"
      ]
     },
     "metadata": {},
     "output_type": "display_data"
    },
    {
     "data": {
      "application/vnd.jupyter.widget-view+json": {
       "model_id": "34da2d3da6bf461ea7eecf17472a7616",
       "version_major": 2,
       "version_minor": 0
      },
      "text/plain": [
       "split=train:   0%|          | 0/96 [00:00<?, ?it/s]"
      ]
     },
     "metadata": {},
     "output_type": "display_data"
    },
    {
     "data": {
      "application/vnd.jupyter.widget-view+json": {
       "model_id": "e40d2871e59d4357be3ac2a47639360e",
       "version_major": 2,
       "version_minor": 0
      },
      "text/plain": [
       "split=val:   0%|          | 0/27 [00:00<?, ?it/s]"
      ]
     },
     "metadata": {},
     "output_type": "display_data"
    },
    {
     "name": "stdout",
     "output_type": "stream",
     "text": [
      "Test loss: 0.6107524908505954;\n",
      "Test Accuracy: 84.07451923076924\n"
     ]
    }
   ],
   "source": [
    "do_train(args)"
   ]
  },
  {
   "cell_type": "markdown",
   "id": "c13593ad",
   "metadata": {
    "heading_collapsed": true
   },
   "source": [
    "#### Setup "
   ]
  },
  {
   "cell_type": "code",
   "execution_count": 83,
   "id": "29bf1fd9",
   "metadata": {
    "ExecuteTime": {
     "end_time": "2022-05-29T03:58:19.188552Z",
     "start_time": "2022-05-29T03:58:15.294370Z"
    },
    "hidden": true
   },
   "outputs": [
    {
     "name": "stdout",
     "output_type": "stream",
     "text": [
      "Expanded filepaths: \n",
      "\tmodel_storage/document_classification/vectorizer.json\n",
      "\tmodel_storage/document_classification/model.pth\n",
      "Using CUDA: True\n",
      "Not using pre-trained embeddings\n",
      "2\n"
     ]
    }
   ],
   "source": [
    "if args.expand_filepaths_to_save_dir:\n",
    "    args.vectorizer_file = os.path.join(args.save_dir,\n",
    "                                        args.vectorizer_file)\n",
    "\n",
    "    args.model_state_file = os.path.join(args.save_dir,\n",
    "                                         args.model_state_file)\n",
    "\n",
    "    print(\"Expanded filepaths: \")\n",
    "    print(\"\\t{}\".format(args.vectorizer_file))\n",
    "    print(\"\\t{}\".format(args.model_state_file))\n",
    "\n",
    "# Check CUDA\n",
    "if not torch.cuda.is_available():\n",
    "    args.cuda = False\n",
    "\n",
    "args.device = torch.device(\"cuda\" if args.cuda else \"cpu\")\n",
    "print(\"Using CUDA: {}\".format(args.cuda))\n",
    "\n",
    "# Set seed for reproducibility\n",
    "set_seed_everywhere(args.seed, args.cuda)\n",
    "\n",
    "# handle dirs\n",
    "handle_dirs(args.save_dir)\n",
    "# args.use_glove = True\n",
    "\n",
    "if args.reload_from_files:\n",
    "    # training from a checkpoint\n",
    "    dataset = NewsDataset.load_dataset_and_load_vectorizer(args.news_csv,\n",
    "                                                           args.vectorizer_file)\n",
    "else:\n",
    "    dataset = JobDescriptionDataset.load_dataset_and_make_vectorizer(args.name, data_field=args.data_field, feature_field=args.feature_field, \n",
    "        is_sequence=args.is_sequence, sent_embed=args.sent_embed)\n",
    "    # create dataset and vectorizer\n",
    "    # dataset = JobDescriptionDataset.load_dataset_and_make_vectorizer(args.name, vectoriser=CNNVectorizer)\n",
    "    # dataset.save_vectorizer(args.vectorizer_file)\n",
    "vectorizer = dataset.get_vectorizer()\n",
    "\n",
    "# Use GloVe or randomly initialized embeddings\n",
    "if args.use_glove:\n",
    "    words = vectorizer.input_vocab._token_to_idx.keys()\n",
    "    embeddings = make_embedding_matrix(glove_filepath=args.glove_filepath, \n",
    "                                       words=words)\n",
    "    print(\"Using pre-trained embeddings\")\n",
    "else:\n",
    "    print(\"Not using pre-trained embeddings\")\n",
    "    embeddings = None\n",
    "\n",
    "\n",
    "print(len(vectorizer.class_vocab))\n",
    "\n",
    "classifier = CNNClassifier(embedding_size=args.embedding_size, \n",
    "                            num_embeddings=len(vectorizer.input_vocab),\n",
    "                            num_channels=args.num_channels,\n",
    "                            hidden_dim=args.hidden_dim, \n",
    "                            num_classes=len(vectorizer.class_vocab), \n",
    "                            dropout_p=args.dropout_p,\n",
    "                            pretrained_embeddings=embeddings,\n",
    "                            padding_idx=0)"
   ]
  },
  {
   "cell_type": "markdown",
   "id": "947e57cb",
   "metadata": {
    "heading_collapsed": true
   },
   "source": [
    "#### Train"
   ]
  },
  {
   "cell_type": "code",
   "execution_count": 84,
   "id": "9315be73",
   "metadata": {
    "ExecuteTime": {
     "end_time": "2022-05-29T04:00:27.831922Z",
     "start_time": "2022-05-29T03:58:23.074548Z"
    },
    "hidden": true
   },
   "outputs": [
    {
     "data": {
      "application/vnd.jupyter.widget-view+json": {
       "model_id": "0f6daf1b21e94682be0a52251bbdaaca",
       "version_major": 2,
       "version_minor": 0
      },
      "text/plain": [
       "training routine:   0%|          | 0/20 [00:00<?, ?it/s]"
      ]
     },
     "metadata": {},
     "output_type": "display_data"
    },
    {
     "data": {
      "application/vnd.jupyter.widget-view+json": {
       "model_id": "e2d7dea73b6e4214b9b8e048dbfbed58",
       "version_major": 2,
       "version_minor": 0
      },
      "text/plain": [
       "split=train:   0%|          | 0/96 [00:00<?, ?it/s]"
      ]
     },
     "metadata": {},
     "output_type": "display_data"
    },
    {
     "data": {
      "application/vnd.jupyter.widget-view+json": {
       "model_id": "9f37f21b269f4a6d982dfaf40d78211c",
       "version_major": 2,
       "version_minor": 0
      },
      "text/plain": [
       "split=val:   0%|          | 0/27 [00:00<?, ?it/s]"
      ]
     },
     "metadata": {},
     "output_type": "display_data"
    }
   ],
   "source": [
    "classifier = classifier.to(args.device)\n",
    "dataset.class_weights = dataset.class_weights.to(args.device)\n",
    "    \n",
    "loss_func = nn.CrossEntropyLoss(dataset.class_weights)\n",
    "optimizer = optim.Adam(classifier.parameters(), lr=args.learning_rate)\n",
    "scheduler = optim.lr_scheduler.ReduceLROnPlateau(optimizer=optimizer,\n",
    "                                           mode='min', factor=0.5,\n",
    "                                           patience=1)\n",
    "\n",
    "train_state = make_train_state(args)\n",
    "\n",
    "epoch_bar = tqdm(desc='training routine', \n",
    "                          total=args.num_epochs,\n",
    "                          position=0)\n",
    "\n",
    "dataset.set_split('train')\n",
    "train_bar = tqdm(desc='split=train',\n",
    "                          total=dataset.get_num_batches(args.batch_size), \n",
    "                          position=1, \n",
    "                          leave=True)\n",
    "dataset.set_split('val')\n",
    "val_bar = tqdm(desc='split=val',\n",
    "                        total=dataset.get_num_batches(args.batch_size), \n",
    "                        position=1, \n",
    "                        leave=True)\n",
    "\n",
    "\n",
    "for epoch_index in range(args.num_epochs):\n",
    "# for epoch_index in range(2):\n",
    "    train_state['epoch_index'] = epoch_index\n",
    "    # Iterate over training dataset\n",
    "\n",
    "    # setup: batch generator, set loss and acc to 0, set train mode on\n",
    "\n",
    "    dataset.set_split('train')\n",
    "    batch_generator = generate_batches(dataset, \n",
    "                                       batch_size=args.batch_size, \n",
    "                                       device=args.device)\n",
    "    running_loss = 0.0\n",
    "    running_acc = 0.0\n",
    "    classifier.train()\n",
    "\n",
    "    for batch_index, batch_dict in enumerate(batch_generator):\n",
    "        # the training routine is these 5 steps:\n",
    "\n",
    "        # --------------------------------------\n",
    "        # step 1. zero the gradients\n",
    "        optimizer.zero_grad()\n",
    "#         print(batch_dict['x_data'])\n",
    "        # step 2. compute the output\n",
    "        y_pred = classifier(batch_dict['x_data'])\n",
    "        \n",
    "        # step 3. compute the loss\n",
    "        loss = loss_func(y_pred, batch_dict['y_target'])\n",
    "        loss_t = loss.item()\n",
    "        running_loss += (loss_t - running_loss) / (batch_index + 1)\n",
    "\n",
    "        # step 4. use loss to produce gradients\n",
    "        loss.backward()\n",
    "\n",
    "        # step 5. use optimizer to take gradient step\n",
    "        optimizer.step()\n",
    "        # -----------------------------------------\n",
    "        # compute the accuracy\n",
    "        acc_t = compute_accuracy(y_pred, batch_dict['y_target'])\n",
    "        running_acc += (acc_t - running_acc) / (batch_index + 1)\n",
    "\n",
    "        # update bar\n",
    "        train_bar.set_postfix(loss=running_loss, acc=running_acc, \n",
    "                              epoch=epoch_index)\n",
    "        train_bar.update()\n",
    "\n",
    "    train_state['train_loss'].append(running_loss)\n",
    "    train_state['train_acc'].append(running_acc)\n",
    "\n",
    "    # Iterate over val dataset\n",
    "\n",
    "    # setup: batch generator, set loss and acc to 0; set eval mode on\n",
    "    dataset.set_split('val')\n",
    "    batch_generator = generate_batches(dataset, \n",
    "                                       batch_size=args.batch_size, \n",
    "                                       device=args.device)\n",
    "    running_loss = 0.\n",
    "    running_acc = 0.\n",
    "    classifier.eval()\n",
    "\n",
    "    for batch_index, batch_dict in enumerate(batch_generator):\n",
    "\n",
    "        # compute the output\n",
    "        y_pred =  classifier(batch_dict['x_data'])\n",
    "\n",
    "        # step 3. compute the loss\n",
    "        loss = loss_func(y_pred, batch_dict['y_target'])\n",
    "        loss_t = loss.item()\n",
    "        running_loss += (loss_t - running_loss) / (batch_index + 1)\n",
    "\n",
    "        # compute the accuracy\n",
    "        acc_t = compute_accuracy(y_pred, batch_dict['y_target'])\n",
    "        running_acc += (acc_t - running_acc) / (batch_index + 1)\n",
    "        val_bar.set_postfix(loss=running_loss, acc=running_acc, \n",
    "                        epoch=epoch_index)\n",
    "        val_bar.update()\n",
    "\n",
    "    train_state['val_loss'].append(running_loss)\n",
    "    train_state['val_acc'].append(running_acc)\n",
    "\n",
    "    train_state = update_train_state(args=args, model=classifier,\n",
    "                                     train_state=train_state)\n",
    "\n",
    "    scheduler.step(train_state['val_loss'][-1])\n",
    "\n",
    "    if train_state['stop_early']:\n",
    "        break\n",
    "\n",
    "    train_bar.n = 0\n",
    "    val_bar.n = 0\n",
    "    epoch_bar.update()\n",
    "    \n"
   ]
  },
  {
   "cell_type": "markdown",
   "id": "23e16358",
   "metadata": {
    "heading_collapsed": true
   },
   "source": [
    "#### Evaluate"
   ]
  },
  {
   "cell_type": "code",
   "execution_count": 85,
   "id": "a3ae7817",
   "metadata": {
    "ExecuteTime": {
     "end_time": "2022-05-29T04:00:55.074566Z",
     "start_time": "2022-05-29T04:00:54.526520Z"
    },
    "hidden": true
   },
   "outputs": [],
   "source": [
    "# compute the loss & accuracy on the test set using the best available model\n",
    "\n",
    "classifier.load_state_dict(torch.load(train_state['model_filename']))\n",
    "\n",
    "classifier = classifier.to(args.device)\n",
    "dataset.class_weights = dataset.class_weights.to(args.device)\n",
    "loss_func = nn.CrossEntropyLoss(dataset.class_weights)\n",
    "\n",
    "dataset.set_split('test')\n",
    "batch_generator = generate_batches(dataset, \n",
    "                                   batch_size=args.batch_size, \n",
    "                                   device=args.device)\n",
    "running_loss = 0.\n",
    "running_acc = 0.\n",
    "classifier.eval()\n",
    "\n",
    "for batch_index, batch_dict in enumerate(batch_generator):\n",
    "    # compute the output\n",
    "    y_pred =  classifier(batch_dict['x_data'])\n",
    "    \n",
    "    # compute the loss\n",
    "    loss = loss_func(y_pred, batch_dict['y_target'])\n",
    "    loss_t = loss.item()\n",
    "    running_loss += (loss_t - running_loss) / (batch_index + 1)\n",
    "\n",
    "    # compute the accuracy\n",
    "    acc_t = compute_accuracy(y_pred, batch_dict['y_target'])\n",
    "    running_acc += (acc_t - running_acc) / (batch_index + 1)\n",
    "\n",
    "train_state['test_loss'] = running_loss\n",
    "train_state['test_acc'] = running_acc"
   ]
  },
  {
   "cell_type": "code",
   "execution_count": 86,
   "id": "9e7441eb",
   "metadata": {
    "ExecuteTime": {
     "end_time": "2022-05-29T04:00:55.861851Z",
     "start_time": "2022-05-29T04:00:55.858530Z"
    },
    "hidden": true
   },
   "outputs": [
    {
     "name": "stdout",
     "output_type": "stream",
     "text": [
      "Test loss: 0.41238822501439315;\n",
      "Test Accuracy: 92.00721153846155\n"
     ]
    }
   ],
   "source": [
    "print(\"Test loss: {};\".format(train_state['test_loss']))\n",
    "print(\"Test Accuracy: {}\".format(train_state['test_acc']))"
   ]
  },
  {
   "cell_type": "markdown",
   "id": "50154c18",
   "metadata": {},
   "source": [
    "### CNN Conv1D (full job description)"
   ]
  },
  {
   "cell_type": "code",
   "execution_count": 87,
   "id": "8eae8f3f",
   "metadata": {
    "ExecuteTime": {
     "end_time": "2022-05-29T04:01:02.927629Z",
     "start_time": "2022-05-29T04:01:02.923620Z"
    }
   },
   "outputs": [],
   "source": [
    "args = Namespace(\n",
    "    # Data and Path hyper parameters\n",
    "    name=\"task1\",\n",
    "    vectorizer_file=\"vectorizer.json\",\n",
    "    model_state_file=\"model.pth\",\n",
    "    save_dir=\"model_storage/document_classification\",\n",
    "    # Model hyper parameters\n",
    "    glove_filepath='/home/dadams/Files/uni/nlp/data/glove.6B/glove.6B.100d.txt', \n",
    "    use_glove=False,\n",
    "    embedding_size=100, \n",
    "    hidden_dim=100, \n",
    "    num_channels=100, \n",
    "    # Training hyper parameter\n",
    "    seed=1337, \n",
    "    learning_rate=0.001, \n",
    "    dropout_p=0.1, \n",
    "    batch_size=128, \n",
    "    num_epochs=20, \n",
    "    early_stopping_criteria=5, \n",
    "    # Runtime option\n",
    "    cuda=True, \n",
    "    catch_keyboard_interrupt=True, \n",
    "    reload_from_files=False,\n",
    "    expand_filepaths_to_save_dir=True,\n",
    "    # Dataset params\n",
    "    data_field='job_description', \n",
    "    feature_field='is_fulltime', \n",
    "    is_sequence=True, \n",
    "    sent_embed=True\n",
    ") "
   ]
  },
  {
   "cell_type": "code",
   "execution_count": 88,
   "id": "ecc7e66f",
   "metadata": {
    "ExecuteTime": {
     "end_time": "2022-05-29T04:03:13.717297Z",
     "start_time": "2022-05-29T04:01:03.536461Z"
    }
   },
   "outputs": [
    {
     "name": "stdout",
     "output_type": "stream",
     "text": [
      "Expanded filepaths: \n",
      "\tmodel_storage/document_classification/vectorizer.json\n",
      "\tmodel_storage/document_classification/model.pth\n",
      "Using CUDA: True\n",
      "Not using pre-trained embeddings\n",
      "2\n"
     ]
    },
    {
     "data": {
      "application/vnd.jupyter.widget-view+json": {
       "model_id": "67f3f3d3fd4948928e546acd620fb3f0",
       "version_major": 2,
       "version_minor": 0
      },
      "text/plain": [
       "training routine:   0%|          | 0/20 [00:00<?, ?it/s]"
      ]
     },
     "metadata": {},
     "output_type": "display_data"
    },
    {
     "data": {
      "application/vnd.jupyter.widget-view+json": {
       "model_id": "20997f4e756b49c192d435921b143631",
       "version_major": 2,
       "version_minor": 0
      },
      "text/plain": [
       "split=train:   0%|          | 0/96 [00:00<?, ?it/s]"
      ]
     },
     "metadata": {},
     "output_type": "display_data"
    },
    {
     "data": {
      "application/vnd.jupyter.widget-view+json": {
       "model_id": "346565ab845c4908bcefa69db213144b",
       "version_major": 2,
       "version_minor": 0
      },
      "text/plain": [
       "split=val:   0%|          | 0/27 [00:00<?, ?it/s]"
      ]
     },
     "metadata": {},
     "output_type": "display_data"
    },
    {
     "name": "stdout",
     "output_type": "stream",
     "text": [
      "Test loss: 0.37806626351980066;\n",
      "Test Accuracy: 92.3076923076923\n"
     ]
    }
   ],
   "source": [
    "do_train(args)"
   ]
  },
  {
   "cell_type": "markdown",
   "id": "f67763d9",
   "metadata": {},
   "source": [
    "## Comparison / Discussion"
   ]
  },
  {
   "cell_type": "code",
   "execution_count": null,
   "id": "a5e8591b",
   "metadata": {},
   "outputs": [],
   "source": []
  },
  {
   "cell_type": "markdown",
   "id": "a3a96d4d",
   "metadata": {},
   "source": [
    "# Multi-class Classification"
   ]
  },
  {
   "cell_type": "markdown",
   "id": "b039d7e8",
   "metadata": {},
   "source": [
    "## Models"
   ]
  },
  {
   "cell_type": "markdown",
   "id": "74b8595e",
   "metadata": {},
   "source": [
    "### Vanilla RNN"
   ]
  },
  {
   "cell_type": "code",
   "execution_count": 111,
   "id": "10902008-b185-457e-9a87-087356d22227",
   "metadata": {},
   "outputs": [],
   "source": [
    "class ElmanRNN(nn.Module):\n",
    "    def __init__(self, input_size, hidden_size, batch_first=False):\n",
    "        \"\"\"\n",
    "            input_size (int): Size of the input vectors \n",
    "                i.e. dimension of the embeddings\n",
    "            hidden_size (int): Size of the hidden state vectors\n",
    "            batch_first (bool): whether the 0th dimension is batch\n",
    "        \"\"\"\n",
    "        super(ElmanRNN, self).__init__()\n",
    "        self.rnn_cell = nn.RNNCell(input_size, hidden_size)\n",
    "        self.batch_first = batch_first\n",
    "        self.hidden_size = hidden_size\n",
    "        \n",
    "    def _initial_hidden(self, batch_size):\n",
    "        return torch.zeros((batch_size, self.hidden_size))\n",
    "    \n",
    "    def forward(self, x_in, initial_hidden=None):\n",
    "        \"\"\"Forward pass of ElmanRNN\n",
    "        \n",
    "        Args:\n",
    "            x_in (torch.Tensor) an input data tensor\n",
    "                If self.batch_first: x_in.shape = (batch, seq_size, feat_size)\n",
    "                Else: x_in.shape = (seq_size, batch, feat_size)\n",
    "            initial_hidden (torch.Tensor): initial hiden state for the RNN\n",
    "        Returns:\n",
    "            hiddens (torch.Tensor): The outputs of the RNN at each time step.\n",
    "                If self.batch_first: hiddens.shape = (batch, seq_size, hidden_size)\n",
    "                Else: hiddens.shape = (seq_size, batch, hidden_size)\n",
    "        \"\"\"\n",
    "        if self.batch_first:\n",
    "            batch_size, seq_size, feat_size = x_in.size()\n",
    "        else:\n",
    "            seq_size, batch_size, feat_size = x_in.size()\n",
    "        \n",
    "        hiddens = []\n",
    "        \n",
    "        if initial_hidden_hidden is None:\n",
    "            initial_hidden = self._initial_hidden(batch_size)\n",
    "            initial_hidden = initial_hidden.to(x_in.device)\n",
    "            \n",
    "        hidden_t = initial_hidden\n",
    "        hiddens = []\n",
    "        for t in range(seq_size):\n",
    "            hidden_t = self.rnn_cell(x_in[t], hidden_t)\n",
    "            hiddens.append(hidden_t) # doesn't include the initial hidden state\n",
    "        \n",
    "        hiddens = torch.stack(hiddens)\n",
    "        \n",
    "        if self.batch_first:\n",
    "            hiddens = hiddens.permute(1, 0, 2)\n",
    "            \n",
    "        return hiddens\n",
    "    \n",
    "class RNNCategoryClasifier(nn.Module):\n",
    "    def __init__(self, embedding_size, num_embeddings,\n",
    "                 num_classes, rnn_hidden_size, \n",
    "                 batch_first=True, padding_idx=0):\n",
    "        \"\"\"\n",
    "        Args:\n",
    "            embedding_size (int): The size of the word embeddings\n",
    "            num_embeddings (int): number of words to embed (vocab size)\n",
    "            num_classes (int): Size of the prediction vector (number of categories)\n",
    "            rnn_hidden_size (int): Size of the RNN's hidden state\n",
    "            batch_first (bool): Informs whether the input tensors will have\n",
    "                batch first or the sequence on the 0th dimension\n",
    "            padding_idx (int): The index for the tensor padding:\n",
    "                see torch.nn.Embedding\n",
    "        \"\"\"\n",
    "        self.emb = nn.Embedding(num_embeddings=num_embeddings,\n",
    "                                embedding_dim=embedding_size,\n",
    "                                padding_idx=padding_idx)\n",
    "        self.rnn = ElmanRNN(input_size=embedding_size, \n",
    "                            hidden_size=rnn_hidden_size,\n",
    "                            batch_first=batch_first)\n",
    "        self.fc1 = nn.Linear(in_features=rnn_hidden_size,\n",
    "                            out_features=rnn_hidden_size)\n",
    "        self.fc2 = nn.Linear(in_features=rnn_hidden_size,\n",
    "                            out_features=num_classes)\n",
    "        \n",
    "    def forward(self, x_in, x_lengths=None, apply_softmax=False):\n",
    "        \"\"\"The forward pass of the classifier\n",
    "        \n",
    "        Args:\n",
    "            x_in (torch.Tensor): an input data tensor. \n",
    "                x_in.shape should be (batch, input_dim)\n",
    "            x_lengths (torch.Tensor): the lengths of each sequence in the batch.\n",
    "                They are used to find the final vector of each sequence\n",
    "            apply_softmax (bool): a flag for the softmax activation\n",
    "                should be false if used with the Cross Entropy losses\n",
    "        Returns:\n",
    "            the resulting tensor. tensor.shape should be (batch, output_dim)\n",
    "        \"\"\"\n",
    "        \n",
    "        x_embedded = self.vectorizer.vectorize(x_in)\n",
    "        y_out = self.rnn(x_embedded)\n",
    "        \n",
    "        if x_lengths is not None:\n",
    "            y_out = column_gather(y_out, x_lengths)\n",
    "        else:\n",
    "            y_out = y_out[:, -1, :]\n",
    "        \n",
    "        y_out = F.relu(self.fc1(F.dropout(y_out, 0.5)))\n",
    "        y_out = self.fc2(F.dropout(y_out, 0.5))\n",
    "        \n",
    "        if apply_softmax:\n",
    "            y_out = F.softmax(y_out, dim=1)\n",
    "            \n",
    "        return y_out"
   ]
  },
  {
   "cell_type": "code",
   "execution_count": 89,
   "id": "a94c217a-8751-4418-b791-c346e7ce7e4a",
   "metadata": {},
   "outputs": [],
   "source": [
    "args = Namespace(\n",
    "    input_name='task2',\n",
    ")"
   ]
  },
  {
   "cell_type": "code",
   "execution_count": 109,
   "id": "8b30203b-173f-4042-bb4d-a7a06a26f913",
   "metadata": {},
   "outputs": [
    {
     "ename": "TypeError",
     "evalue": "from_dataframe() got an unexpected keyword argument 'feature_field'",
     "output_type": "error",
     "traceback": [
      "\u001b[0;31m---------------------------------------------------------------------------\u001b[0m",
      "\u001b[0;31mTypeError\u001b[0m                                 Traceback (most recent call last)",
      "Input \u001b[0;32mIn [113]\u001b[0m, in \u001b[0;36m<cell line: 2>\u001b[0;34m()\u001b[0m\n\u001b[1;32m      1\u001b[0m df, train, test, val \u001b[38;5;241m=\u001b[39m load_data(\u001b[38;5;124m\"\u001b[39m\u001b[38;5;124mtask2\u001b[39m\u001b[38;5;124m\"\u001b[39m, send_computer_to_hell\u001b[38;5;241m=\u001b[39m\u001b[38;5;28;01mFalse\u001b[39;00m)\n\u001b[0;32m----> 2\u001b[0m v \u001b[38;5;241m=\u001b[39m \u001b[43mWord2vecVectoriser\u001b[49m\u001b[38;5;241;43m.\u001b[39;49m\u001b[43mfrom_dataframe\u001b[49m\u001b[43m(\u001b[49m\u001b[43mdf\u001b[49m\u001b[43m,\u001b[49m\u001b[43m \u001b[49m\u001b[43mdata\u001b[49m\u001b[38;5;241;43m=\u001b[39;49m\u001b[38;5;124;43m\"\u001b[39;49m\u001b[38;5;124;43mjob_description\u001b[39;49m\u001b[38;5;124;43m\"\u001b[39;49m\u001b[43m,\u001b[49m\u001b[43m \u001b[49m\u001b[43mfeature_field\u001b[49m\u001b[38;5;241;43m=\u001b[39;49m\u001b[38;5;124;43m'\u001b[39;49m\u001b[38;5;124;43mcategory\u001b[39;49m\u001b[38;5;124;43m'\u001b[39;49m\u001b[43m,\u001b[49m\u001b[43m \u001b[49m\u001b[43mcutoff\u001b[49m\u001b[38;5;241;43m=\u001b[39;49m\u001b[38;5;241;43m25\u001b[39;49m\u001b[43m)\u001b[49m\n",
      "\u001b[0;31mTypeError\u001b[0m: from_dataframe() got an unexpected keyword argument 'feature_field'"
     ]
    }
   ],
   "source": [
    "df, train, test, val = load_data(\"task2\", send_computer_to_hell=False)\n",
    "v = Word2vecVectoriser.from_dataframe(df, data=\"job_description\", feature_field='category', cutoff=25)\n"
   ]
  },
  {
   "cell_type": "code",
   "execution_count": 103,
   "id": "90d0f09b-0519-4a87-911f-8c68f0a412f1",
   "metadata": {},
   "outputs": [],
   "source": []
  },
  {
   "cell_type": "code",
   "execution_count": 103,
   "id": "f8435049-7ca2-41e3-98d5-608b4ad9cb5f",
   "metadata": {},
   "outputs": [
    {
     "ename": "KeyError",
     "evalue": "'is_fulltime'",
     "output_type": "error",
     "traceback": [
      "\u001b[0;31m---------------------------------------------------------------------------\u001b[0m",
      "\u001b[0;31mKeyError\u001b[0m                                  Traceback (most recent call last)",
      "File \u001b[0;32m~/anaconda3/lib/python3.9/site-packages/pandas/core/indexes/base.py:3361\u001b[0m, in \u001b[0;36mIndex.get_loc\u001b[0;34m(self, key, method, tolerance)\u001b[0m\n\u001b[1;32m   3360\u001b[0m \u001b[38;5;28;01mtry\u001b[39;00m:\n\u001b[0;32m-> 3361\u001b[0m     \u001b[38;5;28;01mreturn\u001b[39;00m \u001b[38;5;28;43mself\u001b[39;49m\u001b[38;5;241;43m.\u001b[39;49m\u001b[43m_engine\u001b[49m\u001b[38;5;241;43m.\u001b[39;49m\u001b[43mget_loc\u001b[49m\u001b[43m(\u001b[49m\u001b[43mcasted_key\u001b[49m\u001b[43m)\u001b[49m\n\u001b[1;32m   3362\u001b[0m \u001b[38;5;28;01mexcept\u001b[39;00m \u001b[38;5;167;01mKeyError\u001b[39;00m \u001b[38;5;28;01mas\u001b[39;00m err:\n",
      "File \u001b[0;32m~/anaconda3/lib/python3.9/site-packages/pandas/_libs/index.pyx:76\u001b[0m, in \u001b[0;36mpandas._libs.index.IndexEngine.get_loc\u001b[0;34m()\u001b[0m\n",
      "File \u001b[0;32m~/anaconda3/lib/python3.9/site-packages/pandas/_libs/index.pyx:108\u001b[0m, in \u001b[0;36mpandas._libs.index.IndexEngine.get_loc\u001b[0;34m()\u001b[0m\n",
      "File \u001b[0;32mpandas/_libs/hashtable_class_helper.pxi:5198\u001b[0m, in \u001b[0;36mpandas._libs.hashtable.PyObjectHashTable.get_item\u001b[0;34m()\u001b[0m\n",
      "File \u001b[0;32mpandas/_libs/hashtable_class_helper.pxi:5206\u001b[0m, in \u001b[0;36mpandas._libs.hashtable.PyObjectHashTable.get_item\u001b[0;34m()\u001b[0m\n",
      "\u001b[0;31mKeyError\u001b[0m: 'is_fulltime'",
      "\nThe above exception was the direct cause of the following exception:\n",
      "\u001b[0;31mKeyError\u001b[0m                                  Traceback (most recent call last)",
      "Input \u001b[0;32mIn [103]\u001b[0m, in \u001b[0;36m<cell line: 1>\u001b[0;34m()\u001b[0m\n\u001b[0;32m----> 1\u001b[0m dataset \u001b[38;5;241m=\u001b[39m \u001b[43mJobDescriptionDataset\u001b[49m\u001b[38;5;241;43m.\u001b[39;49m\u001b[43mload_dataset_and_make_vectorizer\u001b[49m\u001b[43m(\u001b[49m\u001b[43margs\u001b[49m\u001b[38;5;241;43m.\u001b[39;49m\u001b[43minput_name\u001b[49m\u001b[43m,\u001b[49m\u001b[43m \u001b[49m\u001b[43mWord2vecVectoriser\u001b[49m\u001b[43m)\u001b[49m\n\u001b[1;32m      2\u001b[0m vectorizer \u001b[38;5;241m=\u001b[39m dataset\u001b[38;5;241m.\u001b[39mget_vectorizer()\n\u001b[1;32m      4\u001b[0m vocab \u001b[38;5;241m=\u001b[39m vectorizer\u001b[38;5;241m.\u001b[39minput_vocab\n",
      "Input \u001b[0;32mIn [48]\u001b[0m, in \u001b[0;36mJobDescriptionDataset.load_dataset_and_make_vectorizer\u001b[0;34m(cls, name, vectoriser)\u001b[0m\n\u001b[1;32m     37\u001b[0m \u001b[38;5;124;03m\"\"\"Load dataset and make a new vectorizer from scratch\u001b[39;00m\n\u001b[1;32m     38\u001b[0m \u001b[38;5;124;03mArgs:\u001b[39;00m\n\u001b[1;32m     39\u001b[0m \u001b[38;5;124;03m     name (str): name of task to load\u001b[39;00m\n\u001b[1;32m     40\u001b[0m \u001b[38;5;124;03mReturns:\u001b[39;00m\n\u001b[1;32m     41\u001b[0m \u001b[38;5;124;03m    an instance of ReviewDataset\u001b[39;00m\n\u001b[1;32m     42\u001b[0m \u001b[38;5;124;03m\"\"\"\u001b[39;00m\n\u001b[1;32m     43\u001b[0m df, train, test, val \u001b[38;5;241m=\u001b[39m load_data(name)\n\u001b[0;32m---> 44\u001b[0m \u001b[38;5;28;01mreturn\u001b[39;00m \u001b[38;5;28mcls\u001b[39m(df, train, test, val, \u001b[43mvectoriser\u001b[49m\u001b[38;5;241;43m.\u001b[39;49m\u001b[43mfrom_dataframe\u001b[49m\u001b[43m(\u001b[49m\u001b[43mdf\u001b[49m\u001b[43m)\u001b[49m)\n",
      "Input \u001b[0;32mIn [43]\u001b[0m, in \u001b[0;36mWord2vecVectoriser.from_dataframe\u001b[0;34m(cls, df, data, feature, cutoff)\u001b[0m\n\u001b[1;32m     71\u001b[0m class_vocab \u001b[38;5;241m=\u001b[39m Vocabulary(add_unk\u001b[38;5;241m=\u001b[39m\u001b[38;5;28;01mFalse\u001b[39;00m)\n\u001b[1;32m     72\u001b[0m \u001b[38;5;66;03m# Add ratings\u001b[39;00m\n\u001b[0;32m---> 73\u001b[0m \u001b[38;5;28;01mfor\u001b[39;00m cl \u001b[38;5;129;01min\u001b[39;00m \u001b[38;5;28msorted\u001b[39m(\u001b[38;5;28mset\u001b[39m(\u001b[43mdf\u001b[49m\u001b[43m[\u001b[49m\u001b[43mfeature\u001b[49m\u001b[43m]\u001b[49m)):\n\u001b[1;32m     74\u001b[0m     class_vocab\u001b[38;5;241m.\u001b[39madd_token(cl)\n\u001b[1;32m     75\u001b[0m \u001b[38;5;66;03m# Add top words if count > provided count\u001b[39;00m\n",
      "File \u001b[0;32m~/anaconda3/lib/python3.9/site-packages/pandas/core/frame.py:3458\u001b[0m, in \u001b[0;36mDataFrame.__getitem__\u001b[0;34m(self, key)\u001b[0m\n\u001b[1;32m   3456\u001b[0m \u001b[38;5;28;01mif\u001b[39;00m \u001b[38;5;28mself\u001b[39m\u001b[38;5;241m.\u001b[39mcolumns\u001b[38;5;241m.\u001b[39mnlevels \u001b[38;5;241m>\u001b[39m \u001b[38;5;241m1\u001b[39m:\n\u001b[1;32m   3457\u001b[0m     \u001b[38;5;28;01mreturn\u001b[39;00m \u001b[38;5;28mself\u001b[39m\u001b[38;5;241m.\u001b[39m_getitem_multilevel(key)\n\u001b[0;32m-> 3458\u001b[0m indexer \u001b[38;5;241m=\u001b[39m \u001b[38;5;28;43mself\u001b[39;49m\u001b[38;5;241;43m.\u001b[39;49m\u001b[43mcolumns\u001b[49m\u001b[38;5;241;43m.\u001b[39;49m\u001b[43mget_loc\u001b[49m\u001b[43m(\u001b[49m\u001b[43mkey\u001b[49m\u001b[43m)\u001b[49m\n\u001b[1;32m   3459\u001b[0m \u001b[38;5;28;01mif\u001b[39;00m is_integer(indexer):\n\u001b[1;32m   3460\u001b[0m     indexer \u001b[38;5;241m=\u001b[39m [indexer]\n",
      "File \u001b[0;32m~/anaconda3/lib/python3.9/site-packages/pandas/core/indexes/base.py:3363\u001b[0m, in \u001b[0;36mIndex.get_loc\u001b[0;34m(self, key, method, tolerance)\u001b[0m\n\u001b[1;32m   3361\u001b[0m         \u001b[38;5;28;01mreturn\u001b[39;00m \u001b[38;5;28mself\u001b[39m\u001b[38;5;241m.\u001b[39m_engine\u001b[38;5;241m.\u001b[39mget_loc(casted_key)\n\u001b[1;32m   3362\u001b[0m     \u001b[38;5;28;01mexcept\u001b[39;00m \u001b[38;5;167;01mKeyError\u001b[39;00m \u001b[38;5;28;01mas\u001b[39;00m err:\n\u001b[0;32m-> 3363\u001b[0m         \u001b[38;5;28;01mraise\u001b[39;00m \u001b[38;5;167;01mKeyError\u001b[39;00m(key) \u001b[38;5;28;01mfrom\u001b[39;00m \u001b[38;5;21;01merr\u001b[39;00m\n\u001b[1;32m   3365\u001b[0m \u001b[38;5;28;01mif\u001b[39;00m is_scalar(key) \u001b[38;5;129;01mand\u001b[39;00m isna(key) \u001b[38;5;129;01mand\u001b[39;00m \u001b[38;5;129;01mnot\u001b[39;00m \u001b[38;5;28mself\u001b[39m\u001b[38;5;241m.\u001b[39mhasnans:\n\u001b[1;32m   3366\u001b[0m     \u001b[38;5;28;01mraise\u001b[39;00m \u001b[38;5;167;01mKeyError\u001b[39;00m(key)\n",
      "\u001b[0;31mKeyError\u001b[0m: 'is_fulltime'"
     ]
    }
   ],
   "source": [
    "vocab = vectorizer.input_vocab\n",
    "all_vectors = [vectorizer.vectorize(vocab.lookup_index(i)) for i in range(vocab.num_tokens - 1)]\n",
    "#RNNCategoryClasifier(vectorizer, 500, len(vectorizer.class_vocab), 20)\n",
    "all_vectors\n",
    "\n",
    "\n",
    "vectorizer.vectorize(['hello', 'word'])"
   ]
  },
  {
   "cell_type": "markdown",
   "id": "3b703fcc",
   "metadata": {},
   "source": [
    "### LSTM"
   ]
  },
  {
   "cell_type": "code",
   "execution_count": null,
   "id": "b7a180c8",
   "metadata": {},
   "outputs": [],
   "source": []
  },
  {
   "cell_type": "markdown",
   "id": "921c8816",
   "metadata": {},
   "source": [
    "## Comparison / Discussion"
   ]
  },
  {
   "cell_type": "code",
   "execution_count": null,
   "id": "cad2640b",
   "metadata": {},
   "outputs": [],
   "source": []
  }
 ],
 "metadata": {
  "interpreter": {
   "hash": "17ee1d9dbca2a2418ac4699e7bcc1e50f21c9d312d9aecaf682b6446d34b368c"
  },
  "kernelspec": {
   "display_name": "Python 3 (ipykernel)",
   "language": "python",
   "name": "python3"
  },
  "language_info": {
   "codemirror_mode": {
    "name": "ipython",
    "version": 3
   },
   "file_extension": ".py",
   "mimetype": "text/x-python",
   "name": "python",
   "nbconvert_exporter": "python",
   "pygments_lexer": "ipython3",
   "version": "3.10.4"
  },
  "latex_envs": {
   "LaTeX_envs_menu_present": true,
   "autoclose": false,
   "autocomplete": true,
   "bibliofile": "biblio.bib",
   "cite_by": "apalike",
   "current_citInitial": 1,
   "eqLabelWithNumbers": true,
   "eqNumInitial": 1,
   "hotkeys": {
    "equation": "Ctrl-E",
    "itemize": "Ctrl-I"
   },
   "labels_anchors": false,
   "latex_user_defs": false,
   "report_style_numbering": false,
   "user_envs_cfg": false
  },
  "varInspector": {
   "cols": {
    "lenName": 16,
    "lenType": 16,
    "lenVar": 40
   },
   "kernels_config": {
    "python": {
     "delete_cmd_postfix": "",
     "delete_cmd_prefix": "del ",
     "library": "var_list.py",
     "varRefreshCmd": "print(var_dic_list())"
    },
    "r": {
     "delete_cmd_postfix": ") ",
     "delete_cmd_prefix": "rm(",
     "library": "var_list.r",
     "varRefreshCmd": "cat(var_dic_list()) "
    }
   },
   "types_to_exclude": [
    "module",
    "function",
    "builtin_function_or_method",
    "instance",
    "_Feature"
   ],
   "window_display": false
  }
 },
 "nbformat": 4,
 "nbformat_minor": 5
}
