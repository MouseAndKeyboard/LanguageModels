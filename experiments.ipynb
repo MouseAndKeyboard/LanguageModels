{
 "cells": [
  {
   "cell_type": "code",
   "execution_count": 1,
   "id": "0864dc69",
   "metadata": {
    "ExecuteTime": {
     "end_time": "2022-05-22T11:54:46.697035Z",
     "start_time": "2022-05-22T11:54:45.111718Z"
    }
   },
   "outputs": [],
   "source": [
    "import pandas as pd\n",
    "import os\n",
    "from abc import ABC\n",
    "import string\n",
    "from gensim.corpora import Dictionary\n",
    "from torch.utils.data import Dataset\n",
    "import gensim.downloader as api\n",
    "from time import time\n",
    "import gensim\n",
    "import gensim.downloader as api\n",
    "from tqdm import tqdm_notebook\n",
    "from tqdm.notebook import tqdm\n",
    "from argparse import Namespace\n",
    "\n",
    "\n",
    "from gensim.models import Word2Vec\n",
    "from nltk.corpus import stopwords\n",
    "from sklearn.manifold import TSNE\n",
    "from bokeh.plotting import figure, show\n",
    "from bokeh.io import push_notebook, output_notebook\n",
    "from bokeh.models import ColumnDataSource, LabelSet\n",
    "from bokeh.plotting import figure, show\n",
    "from bokeh.io import push_notebook, output_notebook\n",
    "from bokeh.models import ColumnDataSource, LabelSet\n",
    "import pandas as pd\n",
    "from collections import Counter\n",
    "\n",
    "import torch\n",
    "import torch.nn as nn\n",
    "import torch.nn.functional as F\n",
    "import torch.optim as optim\n",
    "from torch.utils.data import Dataset, DataLoader\n",
    "from tqdm.notebook import tqdm\n",
    "\n",
    "\n",
    "def decodeList(x): return x.split(' ')\n",
    "\n",
    "\n",
    "def pythonise(df):\n",
    "    df.is_fulltime = df.is_fulltime.astype(str)\n",
    "    df['job_description'] = df['job_description'].apply(decodeList)\n",
    "    df['tfidf10'] = df['tfidf10'].apply(decodeList)\n",
    "\n",
    "\n",
    "def load_data(name):\n",
    "    df = pd.read_csv(f'./data/{name}.csv')\n",
    "    train = pd.read_csv(f'./data/{name}-train.csv')\n",
    "    test = pd.read_csv(f'./data/{name}-test.csv')\n",
    "    val = pd.read_csv(f'./data/{name}-val.csv')\n",
    "    # ugly af\n",
    "    for d in [df, train, test, val]:\n",
    "        pythonise(d)\n",
    "    return df, train, test, val"
   ]
  },
  {
   "cell_type": "code",
   "execution_count": 2,
   "id": "9254f5bb",
   "metadata": {
    "ExecuteTime": {
     "end_time": "2022-05-22T11:54:50.157426Z",
     "start_time": "2022-05-22T11:54:48.692533Z"
    }
   },
   "outputs": [],
   "source": [
    "df,train,test,val = load_data(\"task1\")"
   ]
  },
  {
   "cell_type": "markdown",
   "id": "dc36e269",
   "metadata": {},
   "source": [
    "## Utilities"
   ]
  },
  {
   "cell_type": "markdown",
   "id": "a3cafa40",
   "metadata": {},
   "source": [
    "### Vocab"
   ]
  },
  {
   "cell_type": "code",
   "execution_count": 3,
   "id": "c55bd1f0",
   "metadata": {
    "ExecuteTime": {
     "end_time": "2022-05-22T11:54:50.473929Z",
     "start_time": "2022-05-22T11:54:50.465569Z"
    }
   },
   "outputs": [],
   "source": [
    "class Vocabulary(object):\n",
    "    \"\"\"Class to process text and extract Vocabulary for mapping\"\"\"\n",
    "    def __init__(self, token_to_idx=None, add_unk=True, unk_token=\"<UNK>\"):\n",
    "        \"\"\"\n",
    "        Args:\n",
    "            token_to_idx (dict): a pre-existingmap of tokens to indices\n",
    "            add_unk (bool): a flag that indicates whether to add the UNK token\n",
    "            unk_token (str): the UNK token to add into the Vocabulary\n",
    "        \"\"\"\n",
    "        if token_to_idx is None:\n",
    "            token_to_idx = {}\n",
    "        self._token_to_idx = token_to_idx\n",
    "        self._idx_to_token = {idx: token \n",
    "                                for token, idx in self._token_to_idx.items()}\n",
    "        self._add_unk = add_unk\n",
    "        self._unk_token = unk_token\n",
    "        self.unk_index = 1\n",
    "        if add_unk:\n",
    "            self.unk_index = self.add_token(unk_token)\n",
    "            \n",
    "    def to_serializable(self):\n",
    "        \"\"\" returns a dictionary that can be serialized \"\"\"\n",
    "        return {'token_to_idx': self._token_to_idx,\n",
    "                'add_unk': self._add_unk,\n",
    "                'unk_token': self._unk_token}\n",
    "    @classmethod\n",
    "    def from_serializable(cls, contents):\n",
    "        \"\"\" instantiates the Vocabulary from a serialized dictionary \"\"\"\n",
    "        return cls(**contents)\n",
    "    \n",
    "    def add_token(self, token):\n",
    "        \"\"\"Update mapping dicts based on the token.\n",
    "        Args:\n",
    "            token (str): the item to add into the Vocabulary\n",
    "        Returns:\n",
    "            index (int): the integer corresponding to the token\n",
    "        \"\"\"\n",
    "        if token in self._token_to_idx:\n",
    "            index = self._token_to_idx[token]\n",
    "        else:\n",
    "            index = len(self._token_to_idx)\n",
    "            self._token_to_idx[token] = index\n",
    "            self._idx_to_token[index] = token\n",
    "        return index\n",
    "    \n",
    "    def lookup_token(self, token):\n",
    "        \"\"\"Retrieve the index associated with the token\n",
    "        or the UNK index if token isn't present.\n",
    "        Args:\n",
    "            token (str): the token to look up\n",
    "        Returns:\n",
    "            index (int): the index corresponding to the token\n",
    "        Notes:\n",
    "            `unk_index` needs to be >=0 (having been added into the Vocabulary)\n",
    "            for the UNK functionality\n",
    "        \"\"\"\n",
    "        if self._add_unk:\n",
    "            return self._token_to_idx.get(token, self.unk_index)\n",
    "        else:\n",
    "            return self._token_to_idx[token]\n",
    "        \n",
    "    def lookup_index(self, index):\n",
    "        \"\"\"Return the token associated with the index\n",
    "        Args:\n",
    "            index (int): the index to look up\n",
    "        Returns:\n",
    "            token (str): the token corresponding to the index\n",
    "        Raises:\n",
    "        KeyError: if the index is not in the Vocabulary\n",
    "        \"\"\"\n",
    "        if index not in self._idx_to_token:\n",
    "            raise KeyError(\"the index (%d) is not in the Vocabulary\" % index)\n",
    "        return self._idx_to_token[index]\n",
    "    def __str__(self):\n",
    "        return \"<Vocabulary(size=%d)>\" % len(self)\n",
    "    def __len__(self):\n",
    "        return len(self._token_to_idx)"
   ]
  },
  {
   "cell_type": "markdown",
   "id": "518f1dac",
   "metadata": {},
   "source": [
    "### Sequence Vocab"
   ]
  },
  {
   "cell_type": "code",
   "execution_count": 4,
   "id": "68d903a1",
   "metadata": {
    "ExecuteTime": {
     "end_time": "2022-05-22T11:54:51.677847Z",
     "start_time": "2022-05-22T11:54:51.672271Z"
    }
   },
   "outputs": [],
   "source": [
    "class SequenceVocabulary(Vocabulary):\n",
    "    def __init__(self, token_to_idx=None, unk_token=\"<UNK>\",\n",
    "                 mask_token=\"<MASK>\", begin_seq_token=\"<BEGIN>\",\n",
    "                 end_seq_token=\"<END>\"):\n",
    "\n",
    "        super(SequenceVocabulary, self).__init__(token_to_idx)\n",
    "\n",
    "        self._mask_token = mask_token\n",
    "        self._unk_token = unk_token\n",
    "        self._begin_seq_token = begin_seq_token\n",
    "        self._end_seq_token = end_seq_token\n",
    "\n",
    "        self.mask_index = self.add_token(self._mask_token)\n",
    "        self.unk_index = self.add_token(self._unk_token)\n",
    "        self.begin_seq_index = self.add_token(self._begin_seq_token)\n",
    "        self.end_seq_index = self.add_token(self._end_seq_token)\n",
    "\n",
    "    def to_serializable(self):\n",
    "        contents = super(SequenceVocabulary, self).to_serializable()\n",
    "        contents.update({'unk_token': self._unk_token,\n",
    "                         'mask_token': self._mask_token,\n",
    "                         'begin_seq_token': self._begin_seq_token,\n",
    "                         'end_seq_token': self._end_seq_token})\n",
    "        return contents\n",
    "\n",
    "    def lookup_token(self, token):\n",
    "        \"\"\"Retrieve the index associated with the token \n",
    "          or the UNK index if token isn't present.\n",
    "        \n",
    "        Args:\n",
    "            token (str): the token to look up \n",
    "        Returns:\n",
    "            index (int): the index corresponding to the token\n",
    "        Notes:\n",
    "            `unk_index` needs to be >=0 (having been added into the Vocabulary) \n",
    "              for the UNK functionality \n",
    "        \"\"\"\n",
    "        if self.unk_index >= 0:\n",
    "            return self._token_to_idx.get(token, self.unk_index)\n",
    "        else:\n",
    "            return self._token_to_idx[token]"
   ]
  },
  {
   "cell_type": "markdown",
   "id": "c507265c",
   "metadata": {},
   "source": [
    "## Vectorisers"
   ]
  },
  {
   "cell_type": "markdown",
   "id": "6e8f7f4c",
   "metadata": {
    "heading_collapsed": true
   },
   "source": [
    "### Word2Vec"
   ]
  },
  {
   "cell_type": "code",
   "execution_count": 5,
   "id": "5aa2c91c",
   "metadata": {
    "ExecuteTime": {
     "end_time": "2022-05-22T11:54:55.193260Z",
     "start_time": "2022-05-22T11:54:55.176475Z"
    },
    "hidden": true
   },
   "outputs": [],
   "source": [
    "class Word2vecVectoriser(object):\n",
    "    \"\"\" The Vectorizer which coordinates the Vocabularies and puts them to use\"\"\"\n",
    "    def __init__(self, df, input_vocab, class_vocab, load_path=None):\n",
    "        \"\"\"\n",
    "        Args:\n",
    "            review_vocab (Vocabulary): maps words to integers\n",
    "            rating_vocab (Vocabulary): maps class labels to integers\n",
    "        \"\"\"\n",
    "        self.df = df\n",
    "        self.data = df.tfidf10\n",
    "        self.input_vocab = input_vocab\n",
    "        self.class_vocab = class_vocab\n",
    "        if not load_path:\n",
    "            self.model = self.model_base()\n",
    "            self.build_vocab()\n",
    "            self.train_model()\n",
    "        else:\n",
    "            self.model = gensim.models.KeyedVectors.load(load_path)\n",
    "        \n",
    "    def model_base(self):\n",
    "        cores = 4\n",
    "        model = Word2Vec(min_count=1,\n",
    "                         window=2,\n",
    "                         vector_size=100,\n",
    "                         sample=6e-5, \n",
    "                         alpha=0.03, \n",
    "                         min_alpha=0.0007, \n",
    "                         negative=20,\n",
    "                         workers=cores-1)\n",
    "        return model\n",
    "\n",
    "    def build_vocab(self):\n",
    "        t = time()\n",
    "        self.model.build_vocab(self.data, progress_per=10)\n",
    "        print('Time to build vocab: {} mins'.format(round((time() - t) / 60, 2)))\n",
    "\n",
    "    def train_model(self):\n",
    "        t = time()\n",
    "        self.model.train(self.data, total_examples=self.model.corpus_count, epochs=50, report_delay=1)\n",
    "        print('Time to train : {} mins'.format(round((time() - t) / 60, 2)))\n",
    "        \n",
    "    def vectorize(self, words):\n",
    "        \"\"\"Create a collapsed one hot vector for the review\n",
    "        Args:\n",
    "            review (str): the review\n",
    "        Returns:\n",
    "            one_hot (np.ndarray): the collapsed onehot encoding\n",
    "        \"\"\"\n",
    "#         for word in words:\n",
    "#             print(word)\n",
    "#             print(self.model.wv.get_index(word))\n",
    "#             print()\n",
    "        indicies = [self.model.wv.get_index(word) for word in words]\n",
    "#         print(indicies)\n",
    "#         print(vectors.shape)\n",
    "#         print()\n",
    "#         for vector in vectors:\n",
    "#             print(vector.shape)\n",
    "        return self.model.wv[indicies].flatten()\n",
    "              \n",
    "    @classmethod\n",
    "    def from_dataframe(cls, df, cutoff=25):\n",
    "        \"\"\"Instantiate the vectorizer from the dataset dataframe\n",
    "        Args:\n",
    "            review_df (pandas.DataFrame): the review dataset\n",
    "            cutoff (int): the parameter for frequency based filtering\n",
    "        Returns:\n",
    "            an instance of the ReviewVectorizer\n",
    "        \"\"\"\n",
    "        input_vocab = Vocabulary(add_unk=True)\n",
    "        class_vocab = Vocabulary(add_unk=False)\n",
    "        # Add ratings\n",
    "        for cl in sorted(set(df.is_fulltime)):\n",
    "            class_vocab.add_token(cl)\n",
    "        # Add top words if count > provided count\n",
    "        word_counts = Counter()\n",
    "        for wordlist in df.tfidf10:\n",
    "            for word in wordlist:\n",
    "                word_counts[word] += 1\n",
    "        for word, count in word_counts.items():\n",
    "            if count > cutoff:\n",
    "                input_vocab.add_token(word)\n",
    "        return cls(df, input_vocab, class_vocab)\n",
    "    \n",
    "    @classmethod\n",
    "    def from_serializable(cls, contents):\n",
    "        \"\"\"Intantiate a ReviewVectorizer from a serializable dictionary\n",
    "        Args:\n",
    "            contents (dict): the serializable dictionary\n",
    "        Returns:\n",
    "            an instance of the ReviewVectorizer class\n",
    "        \"\"\"\n",
    "        review_vocab = Vocabulary.from_serializable(contents['input_vocab'])\n",
    "        rating_vocab = Vocabulary.from_serializable(contents['class_vocab'])\n",
    "        return cls(input_vocab=input_vocab, class_vocab=class_vocab)\n",
    "    \n",
    "    def to_serializable(self):\n",
    "        \"\"\"Create the serializable dictionary for caching\n",
    "        Returns:\n",
    "            contents (dict): the serializable dictionary\n",
    "        \"\"\"\n",
    "        return {'input_vocab': self.input_vocab.to_serializable(),\n",
    "                'class_vocab': self.class_vocab.to_serializable()}\n",
    "    "
   ]
  },
  {
   "cell_type": "markdown",
   "id": "ec63d7ff",
   "metadata": {
    "heading_collapsed": true
   },
   "source": [
    "### One Hot"
   ]
  },
  {
   "cell_type": "code",
   "execution_count": 6,
   "id": "7cd8f7cf",
   "metadata": {
    "ExecuteTime": {
     "end_time": "2022-05-22T11:54:55.919444Z",
     "start_time": "2022-05-22T11:54:55.912371Z"
    },
    "hidden": true
   },
   "outputs": [],
   "source": [
    "class OneHotVectoriser(object):\n",
    "    \"\"\" The Vectorizer which coordinates the Vocabularies and puts them to use\"\"\"\n",
    "\n",
    "    def __init__(self, input_vocab, class_vocab):\n",
    "        \"\"\"\n",
    "        Args:\n",
    "            review_vocab (Vocabulary): maps words to integers\n",
    "            rating_vocab (Vocabulary): maps class labels to integers\n",
    "        \"\"\"\n",
    "        self.input_vocab = input_vocab\n",
    "        self.class_vocab = class_vocab\n",
    "\n",
    "    def vectorize(self, words):\n",
    "        \"\"\"Create a collapsed one hot vector for the review\n",
    "        Args:\n",
    "            review (str): the review\n",
    "        Returns:\n",
    "            one_hot (np.ndarray): the collapsed onehot encoding\n",
    "        \"\"\"\n",
    "        one_hot = np.zeros(len(self.input_vocab), dtype=np.float32)\n",
    "        for token in words:\n",
    "            one_hot[self.input_vocab.lookup_token(token)] = 1\n",
    "        return one_hot\n",
    "\n",
    "    @classmethod\n",
    "    def from_dataframe(cls, df, cutoff=25):\n",
    "        \"\"\"Instantiate the vectorizer from the dataset dataframe\n",
    "        Args:\n",
    "            review_df (pandas.DataFrame): the review dataset\n",
    "            cutoff (int): the parameter for frequency based filtering\n",
    "        Returns:\n",
    "            an instance of the ReviewVectorizer\n",
    "        \"\"\"\n",
    "        input_vocab = Vocabulary(add_unk=True)\n",
    "        class_vocab = Vocabulary(add_unk=False)\n",
    "        # Add ratings\n",
    "        for cl in sorted(set(df.is_fulltime)):\n",
    "            class_vocab.add_token(cl)\n",
    "        # Add top words if count > provided count\n",
    "        word_counts = Counter()\n",
    "        for wordlist in df.tfidf10:\n",
    "            for word in wordlist:\n",
    "                word_counts[word] += 1\n",
    "        for word, count in word_counts.items():\n",
    "            if count > cutoff:\n",
    "                input_vocab.add_token(word)\n",
    "        return cls(input_vocab, class_vocab)\n",
    "\n",
    "    @classmethod\n",
    "    def from_serializable(cls, contents):\n",
    "        \"\"\"Intantiate a ReviewVectorizer from a serializable dictionary\n",
    "        Args:\n",
    "            contents (dict): the serializable dictionary\n",
    "        Returns:\n",
    "            an instance of the ReviewVectorizer class\n",
    "        \"\"\"\n",
    "        review_vocab = Vocabulary.from_serializable(contents['input_vocab'])\n",
    "        rating_vocab = Vocabulary.from_serializable(contents['class_vocab'])\n",
    "        return cls(input_vocab=input_vocab, class_vocab=class_vocab)\n",
    "\n",
    "    def to_serializable(self):\n",
    "        \"\"\"Create the serializable dictionary for caching\n",
    "        Returns:\n",
    "            contents (dict): the serializable dictionary\n",
    "        \"\"\"\n",
    "        return {'input_vocab': self.input_vocab.to_serializable(),\n",
    "                'class_vocab': self.class_vocab.to_serializable()}"
   ]
  },
  {
   "cell_type": "markdown",
   "id": "6a23f46e",
   "metadata": {},
   "source": [
    "### Pre-Trained"
   ]
  },
  {
   "cell_type": "code",
   "execution_count": 16,
   "id": "1d79f25c",
   "metadata": {
    "ExecuteTime": {
     "end_time": "2022-05-22T10:41:48.406256Z",
     "start_time": "2022-05-22T10:41:48.402143Z"
    }
   },
   "outputs": [],
   "source": [
    "class PretrainedVectoriser(object):\n",
    "    def __init__(self, path=None):\n",
    "        self.vectoriser = self.create_pretrained(load_path=path)\n",
    "    \n",
    "    def create_pretrained(self, load_path=None):\n",
    "        if not load_path:\n",
    "            pretrained_w2v = api.load('word2vec-google-news-300')\n",
    "            return pretrained_w2v\n",
    "        else:\n",
    "            return gensim.models.KeyedVectors.load(load_path)\n",
    "         \n",
    "    def get_vectoriser(self):\n",
    "        return self.vecotoriser\n",
    "\n",
    "    def vectorise(self, words):\n",
    "        indicies = [self.vecotoriser.get_index(word) for word in words]\n",
    "        return self.vectoriser[indicies].flatten()"
   ]
  },
  {
   "cell_type": "markdown",
   "id": "8c37f5e1",
   "metadata": {},
   "source": [
    "## Dataset class"
   ]
  },
  {
   "cell_type": "code",
   "execution_count": 7,
   "id": "0c1a8ae6",
   "metadata": {
    "ExecuteTime": {
     "end_time": "2022-05-22T11:55:06.759286Z",
     "start_time": "2022-05-22T11:55:06.736566Z"
    }
   },
   "outputs": [
    {
     "data": {
      "text/html": [
       "<div>\n",
       "<style scoped>\n",
       "    .dataframe tbody tr th:only-of-type {\n",
       "        vertical-align: middle;\n",
       "    }\n",
       "\n",
       "    .dataframe tbody tr th {\n",
       "        vertical-align: top;\n",
       "    }\n",
       "\n",
       "    .dataframe thead th {\n",
       "        text-align: right;\n",
       "    }\n",
       "</style>\n",
       "<table border=\"1\" class=\"dataframe\">\n",
       "  <thead>\n",
       "    <tr style=\"text-align: right;\">\n",
       "      <th></th>\n",
       "      <th>Unnamed: 0</th>\n",
       "      <th>job_description</th>\n",
       "      <th>is_fulltime</th>\n",
       "      <th>tfidf10</th>\n",
       "    </tr>\n",
       "  </thead>\n",
       "  <tbody>\n",
       "    <tr>\n",
       "      <th>0</th>\n",
       "      <td>0</td>\n",
       "      <td>[we, are, currently, looking, for, travel, sal...</td>\n",
       "      <td>True</td>\n",
       "      <td>[to, towards, your, destinations, sales, and, ...</td>\n",
       "    </tr>\n",
       "    <tr>\n",
       "      <th>1</th>\n",
       "      <td>1</td>\n",
       "      <td>[who, is, hunter, bailey, hunter, bailey, is, ...</td>\n",
       "      <td>True</td>\n",
       "      <td>[our, sales, customer, hunterbailey, sydney, t...</td>\n",
       "    </tr>\n",
       "    <tr>\n",
       "      <th>2</th>\n",
       "      <td>2</td>\n",
       "      <td>[sephora, division, of, lvmh, moet, hennessy, ...</td>\n",
       "      <td>True</td>\n",
       "      <td>[sephorize, in, sea, and, sephora, singapore, ...</td>\n",
       "    </tr>\n",
       "    <tr>\n",
       "      <th>3</th>\n",
       "      <td>3</td>\n",
       "      <td>[join, the, target, team, today, and, grow, wi...</td>\n",
       "      <td>True</td>\n",
       "      <td>[stockroom, the, profits, of, retail, lead, st...</td>\n",
       "    </tr>\n",
       "    <tr>\n",
       "      <th>4</th>\n",
       "      <td>4</td>\n",
       "      <td>[are, you, feeling, like, challenge, excited, ...</td>\n",
       "      <td>True</td>\n",
       "      <td>[casuarina, menswear, preffered, fashion, yd, ...</td>\n",
       "    </tr>\n",
       "    <tr>\n",
       "      <th>...</th>\n",
       "      <td>...</td>\n",
       "      <td>...</td>\n",
       "      <td>...</td>\n",
       "      <td>...</td>\n",
       "    </tr>\n",
       "    <tr>\n",
       "      <th>17726</th>\n",
       "      <td>17726</td>\n",
       "      <td>[about, us, kaplan, australia, is, one, of, th...</td>\n",
       "      <td>False</td>\n",
       "      <td>[education, campus, to, of, the, student, and,...</td>\n",
       "    </tr>\n",
       "    <tr>\n",
       "      <th>17727</th>\n",
       "      <td>17727</td>\n",
       "      <td>[full, time, maximum, term, position, months, ...</td>\n",
       "      <td>False</td>\n",
       "      <td>[of, implementation, review, business, system,...</td>\n",
       "    </tr>\n",
       "    <tr>\n",
       "      <th>17728</th>\n",
       "      <td>17728</td>\n",
       "      <td>[mondelez, international, is, currently, seeki...</td>\n",
       "      <td>False</td>\n",
       "      <td>[the, international, merchandiser, outlet, to,...</td>\n",
       "    </tr>\n",
       "    <tr>\n",
       "      <th>17729</th>\n",
       "      <td>17729</td>\n",
       "      <td>[long, term, contract, for, months, with, poss...</td>\n",
       "      <td>False</td>\n",
       "      <td>[department, managers, agencies, and, grant, g...</td>\n",
       "    </tr>\n",
       "    <tr>\n",
       "      <th>17730</th>\n",
       "      <td>17730</td>\n",
       "      <td>[customer, service, representative, west, wyal...</td>\n",
       "      <td>False</td>\n",
       "      <td>[customer, and, gov, iworkfor, pm, to, nsw, ap...</td>\n",
       "    </tr>\n",
       "  </tbody>\n",
       "</table>\n",
       "<p>17731 rows × 4 columns</p>\n",
       "</div>"
      ],
      "text/plain": [
       "       Unnamed: 0                                    job_description  \\\n",
       "0               0  [we, are, currently, looking, for, travel, sal...   \n",
       "1               1  [who, is, hunter, bailey, hunter, bailey, is, ...   \n",
       "2               2  [sephora, division, of, lvmh, moet, hennessy, ...   \n",
       "3               3  [join, the, target, team, today, and, grow, wi...   \n",
       "4               4  [are, you, feeling, like, challenge, excited, ...   \n",
       "...           ...                                                ...   \n",
       "17726       17726  [about, us, kaplan, australia, is, one, of, th...   \n",
       "17727       17727  [full, time, maximum, term, position, months, ...   \n",
       "17728       17728  [mondelez, international, is, currently, seeki...   \n",
       "17729       17729  [long, term, contract, for, months, with, poss...   \n",
       "17730       17730  [customer, service, representative, west, wyal...   \n",
       "\n",
       "      is_fulltime                                            tfidf10  \n",
       "0            True  [to, towards, your, destinations, sales, and, ...  \n",
       "1            True  [our, sales, customer, hunterbailey, sydney, t...  \n",
       "2            True  [sephorize, in, sea, and, sephora, singapore, ...  \n",
       "3            True  [stockroom, the, profits, of, retail, lead, st...  \n",
       "4            True  [casuarina, menswear, preffered, fashion, yd, ...  \n",
       "...           ...                                                ...  \n",
       "17726       False  [education, campus, to, of, the, student, and,...  \n",
       "17727       False  [of, implementation, review, business, system,...  \n",
       "17728       False  [the, international, merchandiser, outlet, to,...  \n",
       "17729       False  [department, managers, agencies, and, grant, g...  \n",
       "17730       False  [customer, and, gov, iworkfor, pm, to, nsw, ap...  \n",
       "\n",
       "[17731 rows x 4 columns]"
      ]
     },
     "execution_count": 7,
     "metadata": {},
     "output_type": "execute_result"
    }
   ],
   "source": [
    "df"
   ]
  },
  {
   "cell_type": "code",
   "execution_count": 73,
   "id": "69a024b9",
   "metadata": {
    "ExecuteTime": {
     "end_time": "2022-05-22T12:20:55.532921Z",
     "start_time": "2022-05-22T12:20:55.519327Z"
    }
   },
   "outputs": [],
   "source": [
    "class JobDescriptionDataset(Dataset):\n",
    "    def __init__(self, df, train, val, test, vectorizer, category=\"is_fulltime\"):\n",
    "        \"\"\"\n",
    "        Args:\n",
    "        review_df (pandas.DataFrame): the dataset\n",
    "        vectorizer (Vectorizer): vectorizer instantiated from dataset\n",
    "        \"\"\"\n",
    "        self.df = df\n",
    "        self._vectorizer = vectorizer\n",
    "\n",
    "        # +1 if only using begin_seq, +2 if using both begin and end seq tokens\n",
    "        def measure_len(context): return len(context)\n",
    "        self._max_seq_length = max(map(measure_len, df.job_description)) + 2\n",
    "\n",
    "        self.train = train\n",
    "        self.val = val\n",
    "        self.test = test\n",
    "        self.train_size = len(self.train)\n",
    "        self.validation_size = len(self.val)\n",
    "        self.test_size = len(self.test)\n",
    "        self._lookup_dict = {'train': (self.train, self.train_size),\n",
    "                             'val': (self.val, self.validation_size),\n",
    "                             'test': (self.test, self.test_size)}\n",
    "        self.set_split('train')\n",
    "\n",
    "        # Class weights\n",
    "        class_counts = df[category].value_counts().to_dict()\n",
    "        def sort_key(item):\n",
    "            return self._vectorizer.class_vocab.lookup_token(item[0])\n",
    "        sorted_counts = sorted(class_counts.items(), key=sort_key)\n",
    "        frequencies = [count for _, count in sorted_counts]\n",
    "        self.class_weights = 1.0 / \\\n",
    "            torch.tensor(frequencies, dtype=torch.float32)\n",
    "\n",
    "    @classmethod\n",
    "    def load_dataset_and_make_vectorizer(cls, name, vectoriser=OneHotVectoriser):\n",
    "        \"\"\"Load dataset and make a new vectorizer from scratch\n",
    "        Args:\n",
    "             name (str): name of task to load\n",
    "        Returns:\n",
    "            an instance of ReviewDataset\n",
    "        \"\"\"\n",
    "        df, train, test, val = load_data(name)\n",
    "        return cls(df, train, test, val, vectoriser.from_dataframe(df))\n",
    "\n",
    "    @classmethod\n",
    "    def load_dataset_and_load_vectorizer(cls, name, vectorizer_filepath):\n",
    "        \"\"\"Load dataset and the corresponding vectorizer. \n",
    "        Used in the case in the vectorizer has been cached for re-use\n",
    "\n",
    "        Args:\n",
    "            news_csv (str): location of the dataset\n",
    "            vectorizer_filepath (str): location of the saved vectorizer\n",
    "        Returns:\n",
    "            an instance of NewsDataset\n",
    "        \"\"\"\n",
    "        df, train, test, val = load_data(name)\n",
    "        vectorizer = cls.load_vectorizer_only(vectorizer_filepath)\n",
    "        return cls(df, train, test, val, vectoriser.from_dataframe(df))\n",
    "\n",
    "    @staticmethod\n",
    "    def load_vectorizer_only(vectorizer_filepath):\n",
    "        \"\"\"a static method for loading the vectorizer from file\n",
    "\n",
    "        Args:\n",
    "            vectorizer_filepath (str): the location of the serialized vectorizer\n",
    "        Returns:\n",
    "            an instance of NewsVectorizer\n",
    "        \"\"\"\n",
    "        with open(vectorizer_filepath) as fp:\n",
    "            return NewsVectorizer.from_serializable(json.load(fp))\n",
    "\n",
    "    def save_vectorizer(self, vectorizer_filepath):\n",
    "        \"\"\"saves the vectorizer to disk using json\n",
    "\n",
    "        Args:\n",
    "            vectorizer_filepath (str): the location to save the vectorizer\n",
    "        \"\"\"\n",
    "        with open(vectorizer_filepath, \"w\") as fp:\n",
    "            json.dump(self._vectorizer.to_serializable(), fp)\n",
    "\n",
    "    def get_vectorizer(self):\n",
    "        \"\"\" returns the vectorizer \"\"\"\n",
    "        return self._vectorizer\n",
    "\n",
    "    def set_split(self, split=\"train\"):\n",
    "        \"\"\" selects the splits in the dataset using a column in the dataframe\n",
    "        Args:\n",
    "        split (str): one of \"train\", \"val\", or \"test\"\n",
    "        \"\"\"\n",
    "        self._target_split = split\n",
    "        self._target_df, self._target_size = self._lookup_dict[split]\n",
    "\n",
    "    def __len__(self):\n",
    "        return self._target_size\n",
    "\n",
    "    def __getitem__(self, index):\n",
    "        \"\"\"the primary entry point method for PyTorch datasets\n",
    "        Args:\n",
    "        index (int): the index to the data point\n",
    "        Returns:\n",
    "        a dict of the data point's features (x_data) and label (y_target)\n",
    "        \"\"\"\n",
    "        row = self._target_df.iloc[index]\n",
    "        input_vector = \\\n",
    "            self._vectorizer.vectorize(row.tfidf10)\n",
    "        class_index = \\\n",
    "            self._vectorizer.class_vocab.lookup_token(row.is_fulltime)\n",
    "        return {'x_data': input_vector,\n",
    "                'y_target': class_index}\n",
    "\n",
    "    def get_num_batches(self, batch_size):\n",
    "        \"\"\"Given a batch size, return the number of batches in the dataset\n",
    "        Args:\n",
    "        batch_size (int)\n",
    "        Returns:\n",
    "        number of batches in the dataset\n",
    "        \"\"\"\n",
    "        return len(self) // batch_size\n",
    "\n",
    "\n",
    "def generate_batches(dataset, batch_size, shuffle=True, drop_last=True, device=\"cpu\"):\n",
    "    \"\"\"\n",
    "    A generator function which wraps the PyTorch DataLoader. It will\n",
    "    ensure each tensor is on the write device location.\n",
    "    \"\"\"\n",
    "    dataloader = DataLoader(dataset=dataset, batch_size=batch_size,\n",
    "                            shuffle=shuffle, drop_last=drop_last)\n",
    "    for data_dict in dataloader:\n",
    "        out_data_dict = {}\n",
    "        for name, tensor in data_dict.items():\n",
    "            out_data_dict[name] = data_dict[name].to(device)\n",
    "        yield out_data_dict"
   ]
  },
  {
   "cell_type": "markdown",
   "id": "2d023ea2",
   "metadata": {
    "heading_collapsed": true
   },
   "source": [
    "## Classifiers"
   ]
  },
  {
   "cell_type": "code",
   "execution_count": 19,
   "id": "93dd5bcd",
   "metadata": {
    "ExecuteTime": {
     "end_time": "2022-05-22T10:41:50.518976Z",
     "start_time": "2022-05-22T10:41:50.514400Z"
    },
    "hidden": true
   },
   "outputs": [],
   "source": [
    "class JobDescriptionNNClassifier(nn.Module):\n",
    "    \"\"\" a simple perceptron-based classifier \"\"\"\n",
    "    def __init__(self, num_features):\n",
    "        \"\"\"\n",
    "        Args:\n",
    "            num_features (int): the size of the input feature vector\n",
    "        \"\"\"\n",
    "        super(JobDescriptionNNClassifier, self).__init__()\n",
    "        self.fc1 = nn.Linear(in_features=num_features, out_features=int(num_features/2))\n",
    "        self.fc2 = nn.Linear(in_features=int(num_features/2), out_features=1)\n",
    "    \n",
    "    def forward(self, x_in, apply_sigmoid=False):\n",
    "        \"\"\"The forward pass of the classifier\n",
    "        Args:\n",
    "            x_in (torch.Tensor): an input data tensor \n",
    "                    x_in.shape should be (batch, num_features)\n",
    "            apply_sigmoid (bool): a flag for the sigmoid activation\n",
    "                    should be false if used with the cross-entropy losses\n",
    "        Returns:\n",
    "            the resulting tensor. tensor.shape should be (batch,).\n",
    "        \"\"\"\n",
    "        x_in = self.fc1(x_in)\n",
    "        x_in = F.relu(x_in)\n",
    "        y_out = self.fc2(x_in).squeeze()\n",
    "        \n",
    "        if apply_sigmoid:\n",
    "            y_out = torch.sigmoid(y_out)\n",
    "            \n",
    "        return y_out"
   ]
  },
  {
   "cell_type": "code",
   "execution_count": 20,
   "id": "584bd5d6",
   "metadata": {
    "ExecuteTime": {
     "end_time": "2022-05-22T10:41:50.949912Z",
     "start_time": "2022-05-22T10:41:50.946310Z"
    },
    "hidden": true
   },
   "outputs": [],
   "source": [
    "class JobDescriptionClassifier(nn.Module):\n",
    "    \"\"\" a simple perceptron-based classifier \"\"\"\n",
    "    def __init__(self, num_features):\n",
    "        \"\"\"\n",
    "        Args:\n",
    "            num_features (int): the size of the input feature vector\n",
    "        \"\"\"\n",
    "        super(JobDescriptionClassifier, self).__init__()\n",
    "        self.fc1 = nn.Linear(in_features=num_features, out_features=1)\n",
    "    \n",
    "    def forward(self, x_in, apply_sigmoid=False):\n",
    "        \"\"\"The forward pass of the classifier\n",
    "        Args:\n",
    "            x_in (torch.Tensor): an input data tensor \n",
    "                    x_in.shape should be (batch, num_features)\n",
    "            apply_sigmoid (bool): a flag for the sigmoid activation\n",
    "                    should be false if used with the cross-entropy losses\n",
    "        Returns:\n",
    "            the resulting tensor. tensor.shape should be (batch,).\n",
    "        \"\"\"\n",
    "        y_out = self.fc1(x_in).squeeze()\n",
    "        \n",
    "        if apply_sigmoid:\n",
    "            y_out = torch.sigmoid(y_out)\n",
    "        return y_out"
   ]
  },
  {
   "cell_type": "markdown",
   "id": "9bbb9a90",
   "metadata": {},
   "source": [
    "## Training"
   ]
  },
  {
   "cell_type": "markdown",
   "id": "4f32dfc0",
   "metadata": {
    "heading_collapsed": true
   },
   "source": [
    "### Setup"
   ]
  },
  {
   "cell_type": "code",
   "execution_count": 21,
   "id": "0f753470",
   "metadata": {
    "ExecuteTime": {
     "end_time": "2022-05-22T10:41:51.813518Z",
     "start_time": "2022-05-22T10:41:51.810675Z"
    },
    "hidden": true
   },
   "outputs": [],
   "source": [
    "from argparse import Namespace\n",
    "args = Namespace(\n",
    "    # Data and path information\n",
    "    frequency_cutoff=25,\n",
    "    model_state_file='task1-model.pth',\n",
    "    input_name='task1',\n",
    "    save_dir='./model_storage/task1/',\n",
    "    vectorizer_file='vectorizer.json',\n",
    "    # No model hyperparameters\n",
    "    # Training hyperparameters\n",
    "    batch_size=128,\n",
    "    early_stopping_criteria=5,\n",
    "    learning_rate=0.01,\n",
    "    num_epochs=20,\n",
    "    seed=1337,\n",
    "    # Runtime options\n",
    "    cuda=True,\n",
    "    device='cuda',\n",
    ")"
   ]
  },
  {
   "cell_type": "code",
   "execution_count": 22,
   "id": "9bf738f3",
   "metadata": {
    "ExecuteTime": {
     "end_time": "2022-05-22T10:42:09.043606Z",
     "start_time": "2022-05-22T10:41:52.050301Z"
    },
    "hidden": true
   },
   "outputs": [
    {
     "name": "stdout",
     "output_type": "stream",
     "text": [
      "Time to build vocab: 0.01 mins\n",
      "Time to train : 0.21 mins\n"
     ]
    }
   ],
   "source": [
    "import torch\n",
    "import torch.optim as optim\n",
    "import pandas as pd\n",
    "\n",
    "def make_train_state(args):\n",
    "    return {'epoch_index': 0,\n",
    "            'train_loss': [],\n",
    "            'train_acc': [],\n",
    "            'val_loss': [],\n",
    "            'val_acc': [],\n",
    "            'test_loss': 1,\n",
    "            'test_acc': 1}\n",
    "\n",
    "train_state = make_train_state(args)\n",
    "if not torch.cuda.is_available():\n",
    "    args.cuda = False\n",
    "args.device = torch.device(\"cuda\" if args.cuda else \"cpu\")\n",
    "\n",
    "# dataset and vectorizer\n",
    "# dataset2 = JobDescriptionDataset.load_dataset_and_make_vectorizer(args.input_name, Word2vecVectoriser)\n",
    "# vectorizer2 = dataset2.get_vectorizer()\n",
    "dataset = JobDescriptionDataset.load_dataset_and_make_vectorizer(args.input_name, Word2vecVectoriser)\n",
    "vectorizer = dataset.get_vectorizer()\n",
    "# model\n",
    "# classifier = JobDescriptionClassifier(num_features=len(vectorizer.input_vocab))\n",
    "classifier = JobDescriptionNNClassifier(num_features=1000)\n",
    "classifier = classifier.to(args.device)\n",
    "# loss and optimizer\n",
    "loss_func = nn.BCEWithLogitsLoss()\n",
    "optimizer = optim.Adam(classifier.parameters(), lr=args.learning_rate)"
   ]
  },
  {
   "cell_type": "code",
   "execution_count": 23,
   "id": "271ebdf0",
   "metadata": {
    "ExecuteTime": {
     "end_time": "2022-05-22T10:42:09.119611Z",
     "start_time": "2022-05-22T10:42:09.116608Z"
    },
    "hidden": true
   },
   "outputs": [],
   "source": [
    "def compute_accuracy(y_pred, y_target):\n",
    "    y_target = y_target.cpu()\n",
    "    y_pred_indices = (torch.sigmoid(y_pred)>0.5).cpu().long()#.max(dim=1)[1]\n",
    "    n_correct = torch.eq(y_pred_indices, y_target).sum().item()\n",
    "    return n_correct / len(y_pred_indices) * 100"
   ]
  },
  {
   "cell_type": "markdown",
   "id": "6359eb9b",
   "metadata": {
    "heading_collapsed": true
   },
   "source": [
    "### actually train"
   ]
  },
  {
   "cell_type": "code",
   "execution_count": null,
   "id": "8d998557",
   "metadata": {
    "ExecuteTime": {
     "start_time": "2022-05-22T07:24:39.109Z"
    },
    "hidden": true
   },
   "outputs": [],
   "source": [
    "for epoch_index in range(args.num_epochs):\n",
    "    train_state['epoch_index'] = epoch_index\n",
    "    # Iterate over training dataset\n",
    "    # setup: batch generator, set loss and acc to 0, set train mode on\n",
    "    dataset.set_split('train')\n",
    "    batch_generator = generate_batches(dataset, batch_size=args.batch_size, device=args.device)\n",
    "    running_loss = 0.0\n",
    "    running_acc = 0.0\n",
    "    classifier.train()\n",
    "    for batch_index, batch_dict in tqdm(enumerate(batch_generator), colour='white'):\n",
    "        # the training routine is 5 steps:\n",
    "        # step 1. zero the gradients\n",
    "        optimizer.zero_grad()\n",
    "        # step 2. compute the output\n",
    "        y_pred = classifier(x_in=batch_dict['x_data'].float())\n",
    "        # step 3. compute the loss\n",
    "        loss = loss_func(y_pred, batch_dict['y_target'].float())\n",
    "        loss_batch = loss.item()\n",
    "        running_loss += (loss_batch-running_loss) / (batch_index + 1)\n",
    "        # step 4. use loss to produce gradients\n",
    "        loss.backward()\n",
    "        # step 5. use optimizer to take gradient step\n",
    "        optimizer.step()\n",
    "        # compute the accuracy\n",
    "        acc_batch = compute_accuracy(y_pred, batch_dict['y_target'])\n",
    "        running_acc += (acc_batch - running_acc) / (batch_index + 1)\n",
    "\n",
    "    train_state['train_loss'].append(running_loss)\n",
    "    train_state['train_acc'].append(running_acc)\n",
    "\n",
    "    # Iterate over val dataset\n",
    "    # setup: batch generator, set loss and acc to 0, set eval mode on\n",
    "    dataset.set_split('val')\n",
    "    batch_generator = generate_batches(dataset, batch_size=args.batch_size, device=args.device)\n",
    "    running_loss = 0.\n",
    "    running_acc = 0.\n",
    "    classifier.eval()\n",
    "\n",
    "    for batch_index, batch_dict in enumerate(batch_generator):\n",
    "        # step 1. compute the output\n",
    "        y_pred = classifier(x_in=batch_dict['x_data'].float())\n",
    "        # step 2. compute the loss\n",
    "        loss = loss_func(y_pred, batch_dict['y_target'].float())\n",
    "        loss_batch = loss.item()\n",
    "        running_loss += (loss_batch - running_loss) / (batch_index + 1)\n",
    "        # step 3. compute the accuracy\n",
    "        acc_batch = compute_accuracy(y_pred, batch_dict['y_target'])\n",
    "        running_acc += (acc_batch - running_acc) / (batch_index + 1)\n",
    "    train_state['val_loss'].append(running_loss)\n",
    "    train_state['val_acc'].append(running_acc)"
   ]
  },
  {
   "cell_type": "code",
   "execution_count": null,
   "id": "a566646f",
   "metadata": {
    "ExecuteTime": {
     "start_time": "2022-05-22T07:24:39.659Z"
    },
    "hidden": true
   },
   "outputs": [],
   "source": [
    "dataset.set_split('test')\n",
    "batch_generator = generate_batches(dataset,batch_size=args.batch_size,device=args.device)\n",
    "running_loss = 0.\n",
    "running_acc = 0.\n",
    "classifier.eval()\n",
    "for batch_index, batch_dict in enumerate(batch_generator):\n",
    "    # compute the output\n",
    "    y_pred = classifier(x_in=batch_dict['x_data'].float())\n",
    "    # compute the loss\n",
    "    loss = loss_func(y_pred, batch_dict['y_target'].float())\n",
    "    loss_batch = loss.item()\n",
    "    running_loss += (loss_batch - running_loss) / (batch_index + 1)\n",
    "    # compute the accuracy\n",
    "    acc_batch = compute_accuracy(y_pred, batch_dict['y_target'])\n",
    "    running_acc += (acc_batch - running_acc) / (batch_index + 1)\n",
    "train_state['test_loss'] = running_loss\n",
    "train_state['test_acc'] = running_acc"
   ]
  },
  {
   "cell_type": "code",
   "execution_count": 21,
   "id": "fef610f2",
   "metadata": {
    "ExecuteTime": {
     "end_time": "2022-05-22T02:01:16.333818Z",
     "start_time": "2022-05-22T02:01:16.330497Z"
    },
    "hidden": true
   },
   "outputs": [
    {
     "name": "stdout",
     "output_type": "stream",
     "text": [
      "Test loss: 0.543\n",
      "Test Accuracy: 76.56\n"
     ]
    }
   ],
   "source": [
    "print(\"Test loss: {:.3f}\".format(train_state['test_loss']))\n",
    "print(\"Test Accuracy: {:.2f}\".format(train_state['test_acc']))"
   ]
  },
  {
   "cell_type": "markdown",
   "id": "be862578",
   "metadata": {},
   "source": [
    "## Convolution"
   ]
  },
  {
   "cell_type": "code",
   "execution_count": 74,
   "id": "bf6a80db",
   "metadata": {
    "ExecuteTime": {
     "end_time": "2022-05-22T12:21:14.328255Z",
     "start_time": "2022-05-22T12:21:14.320179Z"
    }
   },
   "outputs": [],
   "source": [
    "class NewsVectorizer(object):\n",
    "    \"\"\" The Vectorizer which coordinates the Vocabularies and puts them to use\"\"\"\n",
    "\n",
    "    def __init__(self, input_vocab, class_vocab):\n",
    "        self.input_vocab = input_vocab\n",
    "        self.class_vocab = class_vocab\n",
    "\n",
    "    def vectorize(self, title, vector_length=-1):\n",
    "        \"\"\"\n",
    "        Args:\n",
    "            title (list): the list of words separated by a space\n",
    "            vector_length (int): an argument for forcing the length of index vector\n",
    "        Returns:\n",
    "            the vetorized title (numpy.array)\n",
    "        \"\"\"\n",
    "        indices = [self.input_vocab.begin_seq_index]\n",
    "        indices.extend(self.input_vocab.lookup_token(token)\n",
    "                       for token in title)\n",
    "        indices.append(self.input_vocab.end_seq_index)\n",
    "\n",
    "        if vector_length < 0:\n",
    "            vector_length = len(indices)\n",
    "\n",
    "        out_vector = np.zeros(vector_length, dtype=np.int64)\n",
    "        out_vector[:len(indices)] = indices\n",
    "        out_vector[len(indices):] = self.input_vocab.mask_index\n",
    "\n",
    "        return out_vector\n",
    "\n",
    "    @classmethod\n",
    "    def from_dataframe(cls, news_df, cutoff=25):\n",
    "        \"\"\"Instantiate the vectorizer from the dataset dataframe\n",
    "\n",
    "        Args:\n",
    "            news_df (pandas.DataFrame): the target dataset\n",
    "            cutoff (int): frequency threshold for including in Vocabulary\n",
    "        Returns:\n",
    "            an instance of the NewsVectorizer\n",
    "        \"\"\"\n",
    "        class_vocab = Vocabulary(add_unk=False)\n",
    "        for category in sorted(set(news_df.is_fulltime)):\n",
    "            class_vocab.add_token(category)\n",
    "        \n",
    "        word_counts = Counter()\n",
    "        for title in news_df.tfidf10:\n",
    "            for token in title:\n",
    "                if token not in string.punctuation:\n",
    "                    word_counts[token] += 1\n",
    "\n",
    "        input_vocab = SequenceVocabulary()\n",
    "        for word, word_count in word_counts.items():\n",
    "            if word_count >= cutoff:\n",
    "                input_vocab.add_token(word)\n",
    "\n",
    "        return cls(input_vocab, class_vocab)\n",
    "\n",
    "    @classmethod\n",
    "    def from_serializable(cls, contents):\n",
    "        input_vocab = \\\n",
    "            SequenceVocabulary.from_serializable(contents['input_vocab'])\n",
    "        class_vocab =  \\\n",
    "            Vocabulary.from_serializable(contents['class_vocab'])\n",
    "\n",
    "        return cls(input_vocab=input_vocab, class_vocab=class_vocab)\n",
    "\n",
    "    def to_serializable(self):\n",
    "        return {'input_vocab': self.input_vocab.to_serializable(),\n",
    "                'class_vocab': self.class_vocab.to_serializable()}"
   ]
  },
  {
   "cell_type": "code",
   "execution_count": 75,
   "id": "934646fc",
   "metadata": {
    "ExecuteTime": {
     "end_time": "2022-05-22T12:21:15.768558Z",
     "start_time": "2022-05-22T12:21:15.760315Z"
    }
   },
   "outputs": [],
   "source": [
    "class CNNClassifier(nn.Module):\n",
    "    def __init__(self, embedding_size, num_embeddings, num_channels, \n",
    "                 hidden_dim, num_classes, dropout_p, \n",
    "                 pretrained_embeddings=None, padding_idx=0):\n",
    "        \"\"\"\n",
    "        Args:\n",
    "            embedding_size (int): size of the embedding vectors\n",
    "            num_embeddings (int): number of embedding vectors\n",
    "            filter_width (int): width of the convolutional kernels\n",
    "            num_channels (int): number of convolutional kernels per layer\n",
    "            hidden_dim (int): the size of the hidden dimension\n",
    "            num_classes (int): the number of classes in classification\n",
    "            dropout_p (float): a dropout parameter \n",
    "            pretrained_embeddings (numpy.array): previously trained word embeddings\n",
    "                default is None. If provided, \n",
    "            padding_idx (int): an index representing a null position\n",
    "        \"\"\"\n",
    "        super(CNNClassifier, self).__init__()\n",
    "\n",
    "        if pretrained_embeddings is None:\n",
    "\n",
    "            self.emb = nn.Embedding(embedding_dim=embedding_size,\n",
    "                                    num_embeddings=num_embeddings,\n",
    "                                    padding_idx=padding_idx)        \n",
    "        else:\n",
    "            pretrained_embeddings = torch.from_numpy(pretrained_embeddings).float()\n",
    "            self.emb = nn.Embedding(embedding_dim=embedding_size,\n",
    "                                    num_embeddings=num_embeddings,\n",
    "                                    padding_idx=padding_idx,\n",
    "                                    _weight=pretrained_embeddings)\n",
    "        \n",
    "            \n",
    "        self.convnet = nn.Sequential(\n",
    "            nn.Conv1d(in_channels=embedding_size, \n",
    "                   out_channels=num_channels, kernel_size=1),\n",
    "            nn.ELU(),\n",
    "            nn.Conv1d(in_channels=num_channels, out_channels=num_channels, \n",
    "                   kernel_size=2, stride=2),\n",
    "            nn.ELU(),\n",
    "            nn.Conv1d(in_channels=num_channels, out_channels=num_channels, \n",
    "                   kernel_size=2, stride=2),\n",
    "            nn.ELU(),\n",
    "            nn.Conv1d(in_channels=num_channels, out_channels=num_channels, \n",
    "                   kernel_size=2),\n",
    "            nn.ELU()\n",
    "        )\n",
    "\n",
    "        self._dropout_p = dropout_p\n",
    "        self.fc1 = nn.Linear(num_channels, hidden_dim)\n",
    "        self.fc2 = nn.Linear(hidden_dim, num_classes)\n",
    "\n",
    "    def forward(self, x_in, apply_softmax=False):\n",
    "        \"\"\"The forward pass of the classifier\n",
    "        \n",
    "        Args:\n",
    "            x_in (torch.Tensor): an input data tensor. \n",
    "                x_in.shape should be (batch, dataset._max_seq_length)\n",
    "            apply_softmax (bool): a flag for the softmax activation\n",
    "                should be false if used with the Cross Entropy losses\n",
    "        Returns:\n",
    "            the resulting tensor. tensor.shape should be (batch, num_classes)\n",
    "        \"\"\"\n",
    "        # embed and permute so features are channels\n",
    "        x_embedded = self.emb(x_in).permute(0, 2, 1)\n",
    "\n",
    "        features = self.convnet(x_embedded)\n",
    "\n",
    "        # average and remove the extra dimension\n",
    "        remaining_size = features.size(dim=2)\n",
    "        features = F.avg_pool1d(features, remaining_size).squeeze(dim=2)\n",
    "        features = F.dropout(features, p=self._dropout_p)\n",
    "        \n",
    "        # mlp classifier\n",
    "        intermediate_vector = F.relu(F.dropout(self.fc1(features), p=self._dropout_p))\n",
    "        prediction_vector = self.fc2(intermediate_vector)\n",
    "\n",
    "        if apply_softmax:\n",
    "            prediction_vector = F.softmax(prediction_vector, dim=1)\n",
    "\n",
    "        return prediction_vector\n"
   ]
  },
  {
   "cell_type": "markdown",
   "id": "0a2aac90",
   "metadata": {},
   "source": [
    "### Utils"
   ]
  },
  {
   "cell_type": "code",
   "execution_count": 76,
   "id": "9679a4cd",
   "metadata": {
    "ExecuteTime": {
     "end_time": "2022-05-22T12:21:19.077033Z",
     "start_time": "2022-05-22T12:21:19.070717Z"
    }
   },
   "outputs": [],
   "source": [
    "def make_train_state(args):\n",
    "    return {'stop_early': False,\n",
    "            'early_stopping_step': 0,\n",
    "            'early_stopping_best_val': 1e8,\n",
    "            'learning_rate': args.learning_rate,\n",
    "            'epoch_index': 0,\n",
    "            'train_loss': [],\n",
    "            'train_acc': [],\n",
    "            'val_loss': [],\n",
    "            'val_acc': [],\n",
    "            'test_loss': -1,\n",
    "            'test_acc': -1,\n",
    "            'model_filename': args.model_state_file}\n",
    "\n",
    "def update_train_state(args, model, train_state):\n",
    "    \"\"\"Handle the training state updates.\n",
    "\n",
    "    Components:\n",
    "     - Early Stopping: Prevent overfitting.\n",
    "     - Model Checkpoint: Model is saved if the model is better\n",
    "\n",
    "    :param args: main arguments\n",
    "    :param model: model to train\n",
    "    :param train_state: a dictionary representing the training state values\n",
    "    :returns:\n",
    "        a new train_state\n",
    "    \"\"\"\n",
    "\n",
    "    # Save one model at least\n",
    "    if train_state['epoch_index'] == 0:\n",
    "        torch.save(model.state_dict(), train_state['model_filename'])\n",
    "        train_state['stop_early'] = False\n",
    "\n",
    "    # Save model if performance improved\n",
    "    elif train_state['epoch_index'] >= 1:\n",
    "        loss_tm1, loss_t = train_state['val_loss'][-2:]\n",
    "\n",
    "        # If loss worsened\n",
    "        if loss_t >= train_state['early_stopping_best_val']:\n",
    "            # Update step\n",
    "            train_state['early_stopping_step'] += 1\n",
    "        # Loss decreased\n",
    "        else:\n",
    "            # Save the best model\n",
    "            if loss_t < train_state['early_stopping_best_val']:\n",
    "                torch.save(model.state_dict(), train_state['model_filename'])\n",
    "\n",
    "            # Reset early stopping step\n",
    "            train_state['early_stopping_step'] = 0\n",
    "\n",
    "        # Stop early ?\n",
    "        train_state['stop_early'] = \\\n",
    "            train_state['early_stopping_step'] >= args.early_stopping_criteria\n",
    "\n",
    "    return train_state\n",
    "\n",
    "def compute_accuracy(y_pred, y_target):\n",
    "    _, y_pred_indices = y_pred.max(dim=1)\n",
    "    n_correct = torch.eq(y_pred_indices, y_target).sum().item()\n",
    "    return n_correct / len(y_pred_indices) * 100"
   ]
  },
  {
   "cell_type": "code",
   "execution_count": 77,
   "id": "de153200",
   "metadata": {
    "ExecuteTime": {
     "end_time": "2022-05-22T12:21:20.069721Z",
     "start_time": "2022-05-22T12:21:20.063070Z"
    }
   },
   "outputs": [],
   "source": [
    "def set_seed_everywhere(seed, cuda):\n",
    "    np.random.seed(seed)\n",
    "    torch.manual_seed(seed)\n",
    "    if cuda:\n",
    "        torch.cuda.manual_seed_all(seed)\n",
    "\n",
    "def handle_dirs(dirpath):\n",
    "    if not os.path.exists(dirpath):\n",
    "        os.makedirs(dirpath)\n",
    "        \n",
    "def load_glove_from_file(glove_filepath):\n",
    "    \"\"\"\n",
    "    Load the GloVe embeddings \n",
    "    \n",
    "    Args:\n",
    "        glove_filepath (str): path to the glove embeddings file \n",
    "    Returns:\n",
    "        word_to_index (dict), embeddings (numpy.ndarary)\n",
    "    \"\"\"\n",
    "\n",
    "    word_to_index = {}\n",
    "    embeddings = []\n",
    "    with open(glove_filepath, encoding=\"utf8\") as fp:\n",
    "        for index, line in enumerate(fp):\n",
    "            line = line.split(\" \") # each line: word num1 num2 ...\n",
    "            word_to_index[line[0]] = index # word = line[0] \n",
    "            embedding_i = np.array([float(val) for val in line[1:]])\n",
    "            embeddings.append(embedding_i)\n",
    "    return word_to_index, np.stack(embeddings)\n",
    "\n",
    "def make_embedding_matrix(glove_filepath, words):\n",
    "    \"\"\"\n",
    "    Create embedding matrix for a specific set of words.\n",
    "    \n",
    "    Args:\n",
    "        glove_filepath (str): file path to the glove embeddigns\n",
    "        words (list): list of words in the dataset\n",
    "    \"\"\"\n",
    "    word_to_idx, glove_embeddings = load_glove_from_file(glove_filepath)\n",
    "    embedding_size = glove_embeddings.shape[1]\n",
    "    \n",
    "    final_embeddings = np.zeros((len(words), embedding_size))\n",
    "\n",
    "    for i, word in enumerate(words):\n",
    "        if word in word_to_idx:\n",
    "            final_embeddings[i, :] = glove_embeddings[word_to_idx[word]]\n",
    "        else:\n",
    "            embedding_i = torch.ones(1, embedding_size)\n",
    "            torch.nn.init.xavier_uniform_(embedding_i)\n",
    "            final_embeddings[i, :] = embedding_i\n",
    "\n",
    "    return final_embeddings"
   ]
  },
  {
   "cell_type": "markdown",
   "id": "e2d97219",
   "metadata": {},
   "source": [
    "### train setup "
   ]
  },
  {
   "cell_type": "code",
   "execution_count": 78,
   "id": "a922f91c",
   "metadata": {
    "ExecuteTime": {
     "end_time": "2022-05-22T12:21:35.044737Z",
     "start_time": "2022-05-22T12:21:23.262760Z"
    }
   },
   "outputs": [
    {
     "name": "stdout",
     "output_type": "stream",
     "text": [
      "Expanded filepaths: \n",
      "\tmodel_storage/document_classification/vectorizer.json\n",
      "\tmodel_storage/document_classification/model.pth\n",
      "Using CUDA: True\n",
      "Using pre-trained embeddings\n"
     ]
    },
    {
     "data": {
      "text/plain": [
       "2"
      ]
     },
     "execution_count": 78,
     "metadata": {},
     "output_type": "execute_result"
    }
   ],
   "source": [
    "args = Namespace(\n",
    "    # Data and Path hyper parameters\n",
    "    name=\"task1\",\n",
    "    news_csv=\"./data/ag_news/news_with_splits.csv\",\n",
    "    vectorizer_file=\"vectorizer.json\",\n",
    "    model_state_file=\"model.pth\",\n",
    "    save_dir=\"model_storage/document_classification\",\n",
    "    # Model hyper parameters\n",
    "    glove_filepath='/home/dadams/Files/uni/nlp/data/glove.6B/glove.6B.100d.txt', \n",
    "    use_glove=False,\n",
    "    embedding_size=100, \n",
    "    hidden_dim=100, \n",
    "    num_channels=100, \n",
    "    # Training hyper parameter\n",
    "    seed=1337, \n",
    "    learning_rate=0.001, \n",
    "    dropout_p=0.1, \n",
    "    batch_size=128, \n",
    "    num_epochs=20, \n",
    "    early_stopping_criteria=5, \n",
    "    # Runtime option\n",
    "    cuda=True, \n",
    "    catch_keyboard_interrupt=True, \n",
    "    reload_from_files=False,\n",
    "    expand_filepaths_to_save_dir=True\n",
    ") \n",
    "\n",
    "if args.expand_filepaths_to_save_dir:\n",
    "    args.vectorizer_file = os.path.join(args.save_dir,\n",
    "                                        args.vectorizer_file)\n",
    "\n",
    "    args.model_state_file = os.path.join(args.save_dir,\n",
    "                                         args.model_state_file)\n",
    "    \n",
    "    print(\"Expanded filepaths: \")\n",
    "    print(\"\\t{}\".format(args.vectorizer_file))\n",
    "    print(\"\\t{}\".format(args.model_state_file))\n",
    "    \n",
    "# Check CUDA\n",
    "if not torch.cuda.is_available():\n",
    "    args.cuda = False\n",
    "    \n",
    "args.device = torch.device(\"cuda\" if args.cuda else \"cpu\")\n",
    "print(\"Using CUDA: {}\".format(args.cuda))\n",
    "\n",
    "# Set seed for reproducibility\n",
    "set_seed_everywhere(args.seed, args.cuda)\n",
    "\n",
    "# handle dirs\n",
    "handle_dirs(args.save_dir)\n",
    "args.use_glove = True\n",
    "\n",
    "if args.reload_from_files:\n",
    "    # training from a checkpoint\n",
    "    dataset = NewsDataset.load_dataset_and_load_vectorizer(args.news_csv,\n",
    "                                                           args.vectorizer_file)\n",
    "else:\n",
    "    # create dataset and vectorizer\n",
    "    dataset = JobDescriptionDataset.load_dataset_and_make_vectorizer(args.name, vectoriser=NewsVectorizer)\n",
    "    dataset.save_vectorizer(args.vectorizer_file)\n",
    "vectorizer = dataset.get_vectorizer()\n",
    "\n",
    "# Use GloVe or randomly initialized embeddings\n",
    "if args.use_glove:\n",
    "    words = vectorizer.input_vocab._token_to_idx.keys()\n",
    "    embeddings = make_embedding_matrix(glove_filepath=args.glove_filepath, \n",
    "                                       words=words)\n",
    "    print(\"Using pre-trained embeddings\")\n",
    "else:\n",
    "    print(\"Not using pre-trained embeddings\")\n",
    "    embeddings = None\n",
    "\n",
    "\n",
    "len(vectorizer.class_vocab)"
   ]
  },
  {
   "cell_type": "markdown",
   "id": "7e651c27",
   "metadata": {},
   "source": [
    "## temp"
   ]
  },
  {
   "cell_type": "code",
   "execution_count": 79,
   "id": "63adf714",
   "metadata": {
    "ExecuteTime": {
     "end_time": "2022-05-22T12:21:41.811719Z",
     "start_time": "2022-05-22T12:21:41.806584Z"
    }
   },
   "outputs": [],
   "source": [
    "classifier = CNNClassifier(embedding_size=args.embedding_size, \n",
    "                            num_embeddings=len(vectorizer.input_vocab),\n",
    "                            num_channels=args.num_channels,\n",
    "                            hidden_dim=args.hidden_dim, \n",
    "                            num_classes=len(vectorizer.class_vocab), \n",
    "                            dropout_p=args.dropout_p,\n",
    "                            pretrained_embeddings=embeddings,\n",
    "                            padding_idx=0)"
   ]
  },
  {
   "cell_type": "markdown",
   "id": "ac5e5c8c",
   "metadata": {},
   "source": [
    "## Training loop "
   ]
  },
  {
   "cell_type": "code",
   "execution_count": 80,
   "id": "1058e2ed",
   "metadata": {
    "ExecuteTime": {
     "end_time": "2022-05-22T12:22:46.742878Z",
     "start_time": "2022-05-22T12:21:47.619457Z"
    }
   },
   "outputs": [
    {
     "data": {
      "application/vnd.jupyter.widget-view+json": {
       "model_id": "1b0b7d0c967349918801c9ecaab7ab23",
       "version_major": 2,
       "version_minor": 0
      },
      "text/plain": [
       "training routine:   0%|          | 0/20 [00:00<?, ?it/s]"
      ]
     },
     "metadata": {},
     "output_type": "display_data"
    },
    {
     "data": {
      "application/vnd.jupyter.widget-view+json": {
       "model_id": "fded28ad6b104a1abe4d51f14254c22a",
       "version_major": 2,
       "version_minor": 0
      },
      "text/plain": [
       "split=train:   0%|          | 0/96 [00:00<?, ?it/s]"
      ]
     },
     "metadata": {},
     "output_type": "display_data"
    },
    {
     "data": {
      "application/vnd.jupyter.widget-view+json": {
       "model_id": "f73229f795224d7b93f45dea2f9c5cbe",
       "version_major": 2,
       "version_minor": 0
      },
      "text/plain": [
       "split=val:   0%|          | 0/27 [00:00<?, ?it/s]"
      ]
     },
     "metadata": {},
     "output_type": "display_data"
    }
   ],
   "source": [
    "classifier = classifier.to(args.device)\n",
    "dataset.class_weights = dataset.class_weights.to(args.device)\n",
    "    \n",
    "loss_func = nn.CrossEntropyLoss(dataset.class_weights)\n",
    "optimizer = optim.Adam(classifier.parameters(), lr=args.learning_rate)\n",
    "scheduler = optim.lr_scheduler.ReduceLROnPlateau(optimizer=optimizer,\n",
    "                                           mode='min', factor=0.5,\n",
    "                                           patience=1)\n",
    "\n",
    "train_state = make_train_state(args)\n",
    "\n",
    "epoch_bar = tqdm(desc='training routine', \n",
    "                          total=args.num_epochs,\n",
    "                          position=0)\n",
    "\n",
    "dataset.set_split('train')\n",
    "train_bar = tqdm(desc='split=train',\n",
    "                          total=dataset.get_num_batches(args.batch_size), \n",
    "                          position=1, \n",
    "                          leave=True)\n",
    "dataset.set_split('val')\n",
    "val_bar = tqdm(desc='split=val',\n",
    "                        total=dataset.get_num_batches(args.batch_size), \n",
    "                        position=1, \n",
    "                        leave=True)\n",
    "\n",
    "\n",
    "for epoch_index in range(args.num_epochs):\n",
    "# for epoch_index in range(2):\n",
    "    train_state['epoch_index'] = epoch_index\n",
    "    # Iterate over training dataset\n",
    "\n",
    "    # setup: batch generator, set loss and acc to 0, set train mode on\n",
    "\n",
    "    dataset.set_split('train')\n",
    "    batch_generator = generate_batches(dataset, \n",
    "                                       batch_size=args.batch_size, \n",
    "                                       device=args.device)\n",
    "    running_loss = 0.0\n",
    "    running_acc = 0.0\n",
    "    classifier.train()\n",
    "\n",
    "    for batch_index, batch_dict in enumerate(batch_generator):\n",
    "        # the training routine is these 5 steps:\n",
    "\n",
    "        # --------------------------------------\n",
    "        # step 1. zero the gradients\n",
    "        optimizer.zero_grad()\n",
    "#         print(batch_dict['x_data'])\n",
    "        # step 2. compute the output\n",
    "        y_pred = classifier(batch_dict['x_data'])\n",
    "        \n",
    "        # step 3. compute the loss\n",
    "        loss = loss_func(y_pred, batch_dict['y_target'])\n",
    "        loss_t = loss.item()\n",
    "        running_loss += (loss_t - running_loss) / (batch_index + 1)\n",
    "\n",
    "        # step 4. use loss to produce gradients\n",
    "        loss.backward()\n",
    "\n",
    "        # step 5. use optimizer to take gradient step\n",
    "        optimizer.step()\n",
    "        # -----------------------------------------\n",
    "        # compute the accuracy\n",
    "        acc_t = compute_accuracy(y_pred, batch_dict['y_target'])\n",
    "        running_acc += (acc_t - running_acc) / (batch_index + 1)\n",
    "\n",
    "        # update bar\n",
    "        train_bar.set_postfix(loss=running_loss, acc=running_acc, \n",
    "                              epoch=epoch_index)\n",
    "        train_bar.update()\n",
    "\n",
    "    train_state['train_loss'].append(running_loss)\n",
    "    train_state['train_acc'].append(running_acc)\n",
    "\n",
    "    # Iterate over val dataset\n",
    "\n",
    "    # setup: batch generator, set loss and acc to 0; set eval mode on\n",
    "    dataset.set_split('val')\n",
    "    batch_generator = generate_batches(dataset, \n",
    "                                       batch_size=args.batch_size, \n",
    "                                       device=args.device)\n",
    "    running_loss = 0.\n",
    "    running_acc = 0.\n",
    "    classifier.eval()\n",
    "\n",
    "    for batch_index, batch_dict in enumerate(batch_generator):\n",
    "\n",
    "        # compute the output\n",
    "        y_pred =  classifier(batch_dict['x_data'])\n",
    "\n",
    "        # step 3. compute the loss\n",
    "        loss = loss_func(y_pred, batch_dict['y_target'])\n",
    "        loss_t = loss.item()\n",
    "        running_loss += (loss_t - running_loss) / (batch_index + 1)\n",
    "\n",
    "        # compute the accuracy\n",
    "        acc_t = compute_accuracy(y_pred, batch_dict['y_target'])\n",
    "        running_acc += (acc_t - running_acc) / (batch_index + 1)\n",
    "        val_bar.set_postfix(loss=running_loss, acc=running_acc, \n",
    "                        epoch=epoch_index)\n",
    "        val_bar.update()\n",
    "\n",
    "    train_state['val_loss'].append(running_loss)\n",
    "    train_state['val_acc'].append(running_acc)\n",
    "\n",
    "    train_state = update_train_state(args=args, model=classifier,\n",
    "                                     train_state=train_state)\n",
    "\n",
    "    scheduler.step(train_state['val_loss'][-1])\n",
    "\n",
    "    if train_state['stop_early']:\n",
    "        break\n",
    "\n",
    "    train_bar.n = 0\n",
    "    val_bar.n = 0\n",
    "    epoch_bar.update()\n"
   ]
  },
  {
   "cell_type": "code",
   "execution_count": 81,
   "id": "110918ef",
   "metadata": {
    "ExecuteTime": {
     "end_time": "2022-05-22T12:23:35.336387Z",
     "start_time": "2022-05-22T12:23:35.064181Z"
    }
   },
   "outputs": [],
   "source": [
    "# compute the loss & accuracy on the test set using the best available model\n",
    "\n",
    "classifier.load_state_dict(torch.load(train_state['model_filename']))\n",
    "\n",
    "classifier = classifier.to(args.device)\n",
    "dataset.class_weights = dataset.class_weights.to(args.device)\n",
    "loss_func = nn.CrossEntropyLoss(dataset.class_weights)\n",
    "\n",
    "dataset.set_split('test')\n",
    "batch_generator = generate_batches(dataset, \n",
    "                                   batch_size=args.batch_size, \n",
    "                                   device=args.device)\n",
    "running_loss = 0.\n",
    "running_acc = 0.\n",
    "classifier.eval()\n",
    "\n",
    "for batch_index, batch_dict in enumerate(batch_generator):\n",
    "    # compute the output\n",
    "    y_pred =  classifier(batch_dict['x_data'])\n",
    "    \n",
    "    # compute the loss\n",
    "    loss = loss_func(y_pred, batch_dict['y_target'])\n",
    "    loss_t = loss.item()\n",
    "    running_loss += (loss_t - running_loss) / (batch_index + 1)\n",
    "\n",
    "    # compute the accuracy\n",
    "    acc_t = compute_accuracy(y_pred, batch_dict['y_target'])\n",
    "    running_acc += (acc_t - running_acc) / (batch_index + 1)\n",
    "\n",
    "train_state['test_loss'] = running_loss\n",
    "train_state['test_acc'] = running_acc"
   ]
  },
  {
   "cell_type": "code",
   "execution_count": 82,
   "id": "0aada4cd",
   "metadata": {
    "ExecuteTime": {
     "end_time": "2022-05-22T12:23:36.561693Z",
     "start_time": "2022-05-22T12:23:36.558585Z"
    }
   },
   "outputs": [
    {
     "name": "stdout",
     "output_type": "stream",
     "text": [
      "Test loss: 0.571276279596182;\n",
      "Test Accuracy: 83.17307692307693\n"
     ]
    }
   ],
   "source": [
    "print(\"Test loss: {};\".format(train_state['test_loss']))\n",
    "print(\"Test Accuracy: {}\".format(train_state['test_acc']))"
   ]
  },
  {
   "cell_type": "markdown",
   "id": "b42d5ef7",
   "metadata": {},
   "source": [
    "# Binary Classification"
   ]
  },
  {
   "cell_type": "markdown",
   "id": "15a67d9a",
   "metadata": {},
   "source": [
    "## Data Loading"
   ]
  },
  {
   "cell_type": "code",
   "execution_count": 2,
   "id": "5a1c7f03",
   "metadata": {},
   "outputs": [],
   "source": [
    "train, test, val = load_data('task_1')"
   ]
  },
  {
   "cell_type": "markdown",
   "id": "e6ab171c",
   "metadata": {},
   "source": [
    "## Models"
   ]
  },
  {
   "cell_type": "markdown",
   "id": "5a9fbce4",
   "metadata": {},
   "source": [
    "### Feed Forward Neural Network"
   ]
  },
  {
   "cell_type": "code",
   "execution_count": 3,
   "id": "a855e21a",
   "metadata": {},
   "outputs": [
    {
     "data": {
      "text/html": [
       "<div>\n",
       "<style scoped>\n",
       "    .dataframe tbody tr th:only-of-type {\n",
       "        vertical-align: middle;\n",
       "    }\n",
       "\n",
       "    .dataframe tbody tr th {\n",
       "        vertical-align: top;\n",
       "    }\n",
       "\n",
       "    .dataframe thead th {\n",
       "        text-align: right;\n",
       "    }\n",
       "</style>\n",
       "<table border=\"1\" class=\"dataframe\">\n",
       "  <thead>\n",
       "    <tr style=\"text-align: right;\">\n",
       "      <th></th>\n",
       "      <th>Unnamed: 0</th>\n",
       "      <th>job_description</th>\n",
       "      <th>is_fulltime</th>\n",
       "      <th>tfidf10</th>\n",
       "    </tr>\n",
       "  </thead>\n",
       "  <tbody>\n",
       "    <tr>\n",
       "      <th>0</th>\n",
       "      <td>13999</td>\n",
       "      <td>['due', 'to', 'continued', 'growth', 'our', 'c...</td>\n",
       "      <td>False</td>\n",
       "      <td>['myob' 'becoming' 'adobe' 'numeracy' 'mackay'...</td>\n",
       "    </tr>\n",
       "    <tr>\n",
       "      <th>1</th>\n",
       "      <td>11062</td>\n",
       "      <td>['seeking', 'an', 'administrator', 'in', 'herv...</td>\n",
       "      <td>False</td>\n",
       "      <td>['administration' 'adaptability' 'areas' 'deme...</td>\n",
       "    </tr>\n",
       "    <tr>\n",
       "      <th>2</th>\n",
       "      <td>793</td>\n",
       "      <td>['qualified', 'panel', 'beater', 'or', 'experi...</td>\n",
       "      <td>True</td>\n",
       "      <td>['air' 'allocated' 'panel' 'dismantler' 'mon' ...</td>\n",
       "    </tr>\n",
       "    <tr>\n",
       "      <th>3</th>\n",
       "      <td>16510</td>\n",
       "      <td>['exciting', 'opportunity', 'for', 'an', 'expe...</td>\n",
       "      <td>False</td>\n",
       "      <td>['migration' 'to' 'planning' 'with' 'workplace...</td>\n",
       "    </tr>\n",
       "    <tr>\n",
       "      <th>4</th>\n",
       "      <td>769</td>\n",
       "      <td>['about', 'mercedes', 'benz', 'adelaide', 'mer...</td>\n",
       "      <td>True</td>\n",
       "      <td>['and' 'of' 'cmv' 'art' 'automotive' 'dealersh...</td>\n",
       "    </tr>\n",
       "    <tr>\n",
       "      <th>...</th>\n",
       "      <td>...</td>\n",
       "      <td>...</td>\n",
       "      <td>...</td>\n",
       "      <td>...</td>\n",
       "    </tr>\n",
       "    <tr>\n",
       "      <th>12406</th>\n",
       "      <td>11811</td>\n",
       "      <td>['are', 'you', 'an', 'experienced', 'specialis...</td>\n",
       "      <td>False</td>\n",
       "      <td>['reservoir' 'gynaecologist' 'obstetrician' 'a...</td>\n",
       "    </tr>\n",
       "    <tr>\n",
       "      <th>12407</th>\n",
       "      <td>1115</td>\n",
       "      <td>['flick', 'anticimex', 'is', 'one', 'of', 'aus...</td>\n",
       "      <td>True</td>\n",
       "      <td>['australia' 'although' 'hygiene' 'the' 'crede...</td>\n",
       "    </tr>\n",
       "    <tr>\n",
       "      <th>12408</th>\n",
       "      <td>10492</td>\n",
       "      <td>['restaurant', 'in', 'armadale', 'is', 'seekin...</td>\n",
       "      <td>False</td>\n",
       "      <td>['should' 'least' 'casual' 'at' 'rights' 'cafe...</td>\n",
       "    </tr>\n",
       "    <tr>\n",
       "      <th>12409</th>\n",
       "      <td>1298</td>\n",
       "      <td>['our', 'company', 'is', 'market', 'leader', '...</td>\n",
       "      <td>True</td>\n",
       "      <td>['press' 'in' 'trade' 'drills' 'wire' 'toolmak...</td>\n",
       "    </tr>\n",
       "    <tr>\n",
       "      <th>12410</th>\n",
       "      <td>14071</td>\n",
       "      <td>['month', 'contract', 'for', 'business', 'anal...</td>\n",
       "      <td>False</td>\n",
       "      <td>['employers' 'hays' 'you' 'analysis' 'business...</td>\n",
       "    </tr>\n",
       "  </tbody>\n",
       "</table>\n",
       "<p>12411 rows × 4 columns</p>\n",
       "</div>"
      ],
      "text/plain": [
       "       Unnamed: 0                                    job_description  \\\n",
       "0           13999  ['due', 'to', 'continued', 'growth', 'our', 'c...   \n",
       "1           11062  ['seeking', 'an', 'administrator', 'in', 'herv...   \n",
       "2             793  ['qualified', 'panel', 'beater', 'or', 'experi...   \n",
       "3           16510  ['exciting', 'opportunity', 'for', 'an', 'expe...   \n",
       "4             769  ['about', 'mercedes', 'benz', 'adelaide', 'mer...   \n",
       "...           ...                                                ...   \n",
       "12406       11811  ['are', 'you', 'an', 'experienced', 'specialis...   \n",
       "12407        1115  ['flick', 'anticimex', 'is', 'one', 'of', 'aus...   \n",
       "12408       10492  ['restaurant', 'in', 'armadale', 'is', 'seekin...   \n",
       "12409        1298  ['our', 'company', 'is', 'market', 'leader', '...   \n",
       "12410       14071  ['month', 'contract', 'for', 'business', 'anal...   \n",
       "\n",
       "       is_fulltime                                            tfidf10  \n",
       "0            False  ['myob' 'becoming' 'adobe' 'numeracy' 'mackay'...  \n",
       "1            False  ['administration' 'adaptability' 'areas' 'deme...  \n",
       "2             True  ['air' 'allocated' 'panel' 'dismantler' 'mon' ...  \n",
       "3            False  ['migration' 'to' 'planning' 'with' 'workplace...  \n",
       "4             True  ['and' 'of' 'cmv' 'art' 'automotive' 'dealersh...  \n",
       "...            ...                                                ...  \n",
       "12406        False  ['reservoir' 'gynaecologist' 'obstetrician' 'a...  \n",
       "12407         True  ['australia' 'although' 'hygiene' 'the' 'crede...  \n",
       "12408        False  ['should' 'least' 'casual' 'at' 'rights' 'cafe...  \n",
       "12409         True  ['press' 'in' 'trade' 'drills' 'wire' 'toolmak...  \n",
       "12410        False  ['employers' 'hays' 'you' 'analysis' 'business...  \n",
       "\n",
       "[12411 rows x 4 columns]"
      ]
     },
     "execution_count": 3,
     "metadata": {},
     "output_type": "execute_result"
    }
   ],
   "source": [
    "train"
   ]
  },
  {
   "cell_type": "markdown",
   "id": "a0f4a628",
   "metadata": {},
   "source": [
    "### CNN Conv1D Model"
   ]
  },
  {
   "cell_type": "code",
   "execution_count": null,
   "id": "d54c2453",
   "metadata": {},
   "outputs": [],
   "source": []
  },
  {
   "cell_type": "markdown",
   "id": "50154c18",
   "metadata": {},
   "source": [
    "### CNN Conv1D (full job description)"
   ]
  },
  {
   "cell_type": "code",
   "execution_count": null,
   "id": "8eae8f3f",
   "metadata": {},
   "outputs": [],
   "source": []
  },
  {
   "cell_type": "markdown",
   "id": "f67763d9",
   "metadata": {},
   "source": [
    "## Comparison / Discussion"
   ]
  },
  {
   "cell_type": "code",
   "execution_count": null,
   "id": "a5e8591b",
   "metadata": {},
   "outputs": [],
   "source": []
  },
  {
   "cell_type": "markdown",
   "id": "a3a96d4d",
   "metadata": {},
   "source": [
    "# Multi-class Classification"
   ]
  },
  {
   "cell_type": "markdown",
   "id": "b039d7e8",
   "metadata": {},
   "source": [
    "## Models"
   ]
  },
  {
   "cell_type": "markdown",
   "id": "74b8595e",
   "metadata": {},
   "source": [
    "### Vanilla RNN"
   ]
  },
  {
   "cell_type": "code",
   "execution_count": null,
   "id": "9a764e01",
   "metadata": {},
   "outputs": [],
   "source": []
  },
  {
   "cell_type": "markdown",
   "id": "3b703fcc",
   "metadata": {},
   "source": [
    "### LSTM"
   ]
  },
  {
   "cell_type": "code",
   "execution_count": null,
   "id": "b7a180c8",
   "metadata": {},
   "outputs": [],
   "source": []
  },
  {
   "cell_type": "markdown",
   "id": "921c8816",
   "metadata": {},
   "source": [
    "## Comparison / Discussion"
   ]
  },
  {
   "cell_type": "code",
   "execution_count": null,
   "id": "cad2640b",
   "metadata": {},
   "outputs": [],
   "source": []
  }
 ],
 "metadata": {
  "kernelspec": {
   "display_name": "Python 3 (ipykernel)",
   "language": "python",
   "name": "python3"
  },
  "language_info": {
   "codemirror_mode": {
    "name": "ipython",
    "version": 3
   },
   "file_extension": ".py",
   "mimetype": "text/x-python",
   "name": "python",
   "nbconvert_exporter": "python",
   "pygments_lexer": "ipython3",
   "version": "3.10.4"
  },
  "latex_envs": {
   "LaTeX_envs_menu_present": true,
   "autoclose": false,
   "autocomplete": true,
   "bibliofile": "biblio.bib",
   "cite_by": "apalike",
   "current_citInitial": 1,
   "eqLabelWithNumbers": true,
   "eqNumInitial": 1,
   "hotkeys": {
    "equation": "Ctrl-E",
    "itemize": "Ctrl-I"
   },
   "labels_anchors": false,
   "latex_user_defs": false,
   "report_style_numbering": false,
   "user_envs_cfg": false
  },
  "varInspector": {
   "cols": {
    "lenName": 16,
    "lenType": 16,
    "lenVar": 40
   },
   "kernels_config": {
    "python": {
     "delete_cmd_postfix": "",
     "delete_cmd_prefix": "del ",
     "library": "var_list.py",
     "varRefreshCmd": "print(var_dic_list())"
    },
    "r": {
     "delete_cmd_postfix": ") ",
     "delete_cmd_prefix": "rm(",
     "library": "var_list.r",
     "varRefreshCmd": "cat(var_dic_list()) "
    }
   },
   "types_to_exclude": [
    "module",
    "function",
    "builtin_function_or_method",
    "instance",
    "_Feature"
   ],
   "window_display": false
  }
 },
 "nbformat": 4,
 "nbformat_minor": 5
}
