{
 "cells": [
  {
   "cell_type": "code",
   "execution_count": 16,
   "id": "0864dc69",
   "metadata": {
    "ExecuteTime": {
     "end_time": "2022-05-14T08:54:11.670498Z",
     "start_time": "2022-05-14T08:54:11.667210Z"
    }
   },
   "outputs": [],
   "source": [
    "import pandas as pd\n",
    "from abc import ABC\n",
    "from gensim.corpora import Dictionary\n",
    "from torch.utils.data import Dataset\n",
    "import gensim.downloader as api\n",
    "from time import time\n",
    "import gensim\n",
    "import gensim.downloader as api\n",
    "\n",
    "\n",
    "from gensim.models import Word2Vec\n",
    "from nltk.corpus import stopwords\n",
    "from sklearn.manifold import TSNE\n",
    "from bokeh.plotting import figure, show\n",
    "from bokeh.io import push_notebook, output_notebook\n",
    "from bokeh.models import ColumnDataSource, LabelSet\n",
    "from bokeh.plotting import figure, show\n",
    "from bokeh.io import push_notebook, output_notebook\n",
    "from bokeh.models import ColumnDataSource, LabelSet\n",
    "import pandas as pd\n",
    "from torch.utils.data import DataLoader\n",
    "from collections import Counter\n",
    "\n",
    "import torch.nn as nn\n",
    "import torch.nn.functional as F\n",
    "\n",
    "def load_data(name):\n",
    "    df = pd.read_csv(f'./data/{name}.csv')\n",
    "    df.is_fulltime = df.is_fulltime.astype(str)\n",
    "    train = pd.read_csv(f'./data/{name}-train.csv')\n",
    "    train.is_fulltime = train.is_fulltime.astype(str)\n",
    "    test = pd.read_csv(f'./data/{name}-test.csv')\n",
    "    test.is_fulltime = test.is_fulltime.astype(str)\n",
    "    val = pd.read_csv(f'./data/{name}-val.csv')\n",
    "    val.is_fulltime = val.is_fulltime.astype(str)\n",
    "    return df, train, test, val"
   ]
  },
  {
   "cell_type": "code",
   "execution_count": 2,
   "id": "56f6be0c",
   "metadata": {
    "ExecuteTime": {
     "end_time": "2022-05-14T08:52:31.779213Z",
     "start_time": "2022-05-14T08:52:31.775722Z"
    }
   },
   "outputs": [],
   "source": [
    "class Word2VecVectoriser(object):\n",
    "    def __init__(self, df, load_path=None):\n",
    "        self.job_descriptions = df.job_description\n",
    "        if not load_path:\n",
    "            self.model = self.model_base()\n",
    "            self.build_vocab()\n",
    "            self.train_model()\n",
    "        else:\n",
    "            self.model = gensim.models.KeyedVectors.load(load_path)\n",
    "    \n",
    "    def model_base(self):\n",
    "        cores = 4\n",
    "        model = Word2Vec(min_count=1,\n",
    "                         window=2,\n",
    "                         vector_size=100,\n",
    "                         sample=6e-5, \n",
    "                         alpha=0.03, \n",
    "                         min_alpha=0.0007, \n",
    "                         negative=20,\n",
    "                         workers=cores-1)\n",
    "        return model\n",
    "\n",
    "    def build_vocab(self):\n",
    "        t = time()\n",
    "        self.model.build_vocab(self.job_descriptions, progress_per=10)\n",
    "        print('Time to build vocab: {} mins'.format(round((time() - t) / 60, 2)))\n",
    "\n",
    "    def train_model(self):\n",
    "        t = time()\n",
    "        self.model.train(self.job_descriptions, total_examples=self.model.corpus_count, epochs=50, report_delay=1)\n",
    "        print('Time to train : {} mins'.format(round((time() - t) / 60, 2)))\n",
    "        \n",
    "    def get_vectoriser(self):\n",
    "        return self.model\n",
    "    \n",
    "    def vectorise(self, words):\n",
    "        indicies = [self.model.wv.get_index(word) for word in words]\n",
    "        return self.model.wv[indicies]\n",
    "    "
   ]
  },
  {
   "cell_type": "code",
   "execution_count": 38,
   "id": "dfcb3968",
   "metadata": {
    "ExecuteTime": {
     "end_time": "2022-05-14T08:57:17.118831Z",
     "start_time": "2022-05-14T08:57:16.899556Z"
    }
   },
   "outputs": [],
   "source": [
    "task1 = pd.read_csv(f'./data/task1.csv')"
   ]
  },
  {
   "cell_type": "code",
   "execution_count": 4,
   "id": "acab6b2d",
   "metadata": {
    "ExecuteTime": {
     "end_time": "2022-05-14T08:52:32.057370Z",
     "start_time": "2022-05-14T08:52:32.055978Z"
    }
   },
   "outputs": [],
   "source": [
    "# class OneHotVectoriser(object):\n",
    "#     def __init__(self, corpus):\n",
    "#         self.dictionary = Dictionary(corpus)\n",
    "#         self.vectoriser = self.get_one_hot_vectoriser()\n",
    "    \n",
    "#     def get_one_hot_vectoriser(self):\n",
    "#         def one_hot_vectoriser(word):\n",
    "#             indx = self.dictionary.token2id[word]\n",
    "#             # could throw an exception here I guess\n",
    "#             vec = np.zeros(2928)\n",
    "#             vec[indx] = 1\n",
    "#             return vec\n",
    "    \n",
    "#         return one_hot_vectoriser\n",
    "    \n",
    "#     def get_vectoriser(self):\n",
    "#         return self.vecotoriser\n",
    "    \n",
    "#     def vectorise(self, words):\n",
    "#         return [self.vectoriser.one_hot_vectoriser(word) for word in words]\n",
    "    "
   ]
  },
  {
   "cell_type": "code",
   "execution_count": 5,
   "id": "45a7a516",
   "metadata": {
    "ExecuteTime": {
     "end_time": "2022-05-14T08:52:32.134117Z",
     "start_time": "2022-05-14T08:52:32.132662Z"
    }
   },
   "outputs": [],
   "source": [
    "# class PretrainedVectoriser(object):\n",
    "#     def __init__(self, path=None):\n",
    "#         self.vectoriser = self.create_pretrained(load_path=path)\n",
    "    \n",
    "#     def create_pretrained(self, load_path=None):\n",
    "#         if not load_path:\n",
    "#             pretrained_w2v = api.load('word2vec-google-news-300')\n",
    "#             return pretrained_w2v\n",
    "#         else:\n",
    "#             return gensim.models.KeyedVectors.load(load_path)\n",
    "         \n",
    "#     def get_vectoriser(self):\n",
    "#         return self.vecotoriser\n",
    "\n",
    "#     def vectorise(self, words):\n",
    "#         indicies = [self.vecotoriser.get_index(word) for word in words]\n",
    "#         return self.vectoriser[indicies]\n",
    "    "
   ]
  },
  {
   "cell_type": "code",
   "execution_count": 49,
   "id": "69a024b9",
   "metadata": {
    "ExecuteTime": {
     "end_time": "2022-05-14T08:58:46.516452Z",
     "start_time": "2022-05-14T08:58:46.512181Z"
    }
   },
   "outputs": [],
   "source": [
    "class JobDescriptionDataset(Dataset):\n",
    "    def __init__(self, df, train, val, test, vectorizer):\n",
    "        \"\"\"\n",
    "        Args:\n",
    "        review_df (pandas.DataFrame): the dataset\n",
    "        vectorizer (Vectorizer): vectorizer instantiated from dataset\n",
    "        \"\"\"\n",
    "        self.df = df\n",
    "        self.train = train\n",
    "        self.val = val \n",
    "        self.test = test \n",
    "        self._vectorizer = vectorizer\n",
    "        self.train_size = len(self.train)\n",
    "        self.validation_size = len(self.val)\n",
    "        self.test_size = len(self.test)\n",
    "        self._lookup_dict = {'train': (self.train, self.train_size),\n",
    "                            'val': (self.val, self.validation_size),\n",
    "                            'test': (self.test, self.test_size)}\n",
    "        self.set_split('train')\n",
    "        \n",
    "    @classmethod\n",
    "    def load_dataset_and_make_vectorizer(cls, name):\n",
    "        \"\"\"Load dataset and make a new vectorizer from scratch\n",
    "        Args:\n",
    "             name (str): name of task to load\n",
    "        Returns:\n",
    "            an instance of ReviewDataset\n",
    "        \"\"\"\n",
    "        df, train, test, val = load_data(name)\n",
    "        return cls(df, train, test, val, OneHotVectoriser.from_dataframe(df)) \n",
    "    \n",
    "    def get_vectorizer(self):\n",
    "        \"\"\" returns the vectorizer \"\"\"\n",
    "        return self._vectorizer\n",
    "    \n",
    "    def set_split(self, split=\"train\"):\n",
    "        \"\"\" selects the splits in the dataset using a column in the dataframe\n",
    "        Args:\n",
    "        split (str): one of \"train\", \"val\", or \"test\"\n",
    "        \"\"\"\n",
    "        self._target_split = split\n",
    "        self._target_df, self._target_size = self._lookup_dict[split]\n",
    "        \n",
    "    def __len__(self):\n",
    "        return self._target_size\n",
    "    \n",
    "    def __getitem__(self, index):\n",
    "        \"\"\"the primary entry point method for PyTorch datasets\n",
    "        Args:\n",
    "        index (int): the index to the data point\n",
    "        Returns:\n",
    "        a dict of the data point's features (x_data) and label (y_target)\n",
    "        \"\"\"\n",
    "        row = self._target_df.iloc[index]\n",
    "        input_vector = \\\n",
    "        self._vectorizer.vectorize(row.tfidf10)\n",
    "        class_index = \\\n",
    "        self._vectorizer.class_vocab.lookup_token(row.is_fulltime)\n",
    "        return {'x_data': input_vector,\n",
    "                'y_target': class_index}\n",
    "    \n",
    "    def get_num_batches(self, batch_size):\n",
    "        \"\"\"Given a batch size, return the number of batches in the dataset\n",
    "        Args:\n",
    "        batch_size (int)\n",
    "        Returns:\n",
    "        number of batches in the dataset\n",
    "        \"\"\"\n",
    "        return len(self) // batch_size"
   ]
  },
  {
   "cell_type": "code",
   "execution_count": 50,
   "id": "7112776b",
   "metadata": {
    "ExecuteTime": {
     "end_time": "2022-05-14T08:58:49.586587Z",
     "start_time": "2022-05-14T08:58:49.582173Z"
    }
   },
   "outputs": [],
   "source": [
    "class Vocabulary(object):\n",
    "    \"\"\"Class to process text and extract Vocabulary for mapping\"\"\"\n",
    "    def __init__(self, token_to_idx=None, add_unk=True, unk_token=\"<UNK>\"):\n",
    "        \"\"\"\n",
    "        Args:\n",
    "            token_to_idx (dict): a pre-existingmap of tokens to indices\n",
    "            add_unk (bool): a flag that indicates whether to add the UNK token\n",
    "            unk_token (str): the UNK token to add into the Vocabulary\n",
    "        \"\"\"\n",
    "        if token_to_idx is None:\n",
    "            token_to_idx = {}\n",
    "        self._token_to_idx = token_to_idx\n",
    "        self._idx_to_token = {idx: token \n",
    "                                for token, idx in self._token_to_idx.items()}\n",
    "        self._add_unk = add_unk\n",
    "        self._unk_token = unk_token\n",
    "        self.unk_index = 1\n",
    "        if add_unk:\n",
    "            self.unk_index = self.add_token(unk_token)\n",
    "            \n",
    "    def to_serializable(self):\n",
    "        \"\"\" returns a dictionary that can be serialized \"\"\"\n",
    "        return {'token_to_idx': self._token_to_idx,\n",
    "                'add_unk': self._add_unk,\n",
    "                'unk_token': self._unk_token}\n",
    "    @classmethod\n",
    "    def from_serializable(cls, contents):\n",
    "        \"\"\" instantiates the Vocabulary from a serialized dictionary \"\"\"\n",
    "        return cls(**contents)\n",
    "    \n",
    "    def add_token(self, token):\n",
    "        \"\"\"Update mapping dicts based on the token.\n",
    "        Args:\n",
    "            token (str): the item to add into the Vocabulary\n",
    "        Returns:\n",
    "            index (int): the integer corresponding to the token\n",
    "        \"\"\"\n",
    "        if token in self._token_to_idx:\n",
    "            index = self._token_to_idx[token]\n",
    "        else:\n",
    "            index = len(self._token_to_idx)\n",
    "            self._token_to_idx[token] = index\n",
    "            self._idx_to_token[index] = token\n",
    "        return index\n",
    "    \n",
    "    def lookup_token(self, token):\n",
    "        \"\"\"Retrieve the index associated with the token\n",
    "        or the UNK index if token isn't present.\n",
    "        Args:\n",
    "            token (str): the token to look up\n",
    "        Returns:\n",
    "            index (int): the index corresponding to the token\n",
    "        Notes:\n",
    "            `unk_index` needs to be >=0 (having been added into the Vocabulary)\n",
    "            for the UNK functionality\n",
    "        \"\"\"\n",
    "        if self._add_unk:\n",
    "            return self._token_to_idx.get(token, self.unk_index)\n",
    "        else:\n",
    "            return self._token_to_idx[token]\n",
    "        \n",
    "    def lookup_index(self, index):\n",
    "        \"\"\"Return the token associated with the index\n",
    "        Args:\n",
    "            index (int): the index to look up\n",
    "        Returns:\n",
    "            token (str): the token corresponding to the index\n",
    "        Raises:\n",
    "        KeyError: if the index is not in the Vocabulary\n",
    "        \"\"\"\n",
    "        if index not in self._idx_to_token:\n",
    "            raise KeyError(\"the index (%d) is not in the Vocabulary\" % index)\n",
    "        return self._idx_to_token[index]\n",
    "    def __str__(self):\n",
    "        return \"<Vocabulary(size=%d)>\" % len(self)\n",
    "    def __len__(self):\n",
    "        return len(self._token_to_idx)"
   ]
  },
  {
   "cell_type": "code",
   "execution_count": 51,
   "id": "cac2bbcb",
   "metadata": {
    "ExecuteTime": {
     "end_time": "2022-05-14T08:58:54.707807Z",
     "start_time": "2022-05-14T08:58:54.703599Z"
    }
   },
   "outputs": [],
   "source": [
    "class OneHotVectoriser(object):\n",
    "    \"\"\" The Vectorizer which coordinates the Vocabularies and puts them to use\"\"\"\n",
    "    def __init__(self, input_vocab, class_vocab):\n",
    "        \"\"\"\n",
    "        Args:\n",
    "            review_vocab (Vocabulary): maps words to integers\n",
    "            rating_vocab (Vocabulary): maps class labels to integers\n",
    "        \"\"\"\n",
    "        self.input_vocab = input_vocab\n",
    "        self.class_vocab = class_vocab\n",
    "        \n",
    "    def vectorize(self, words):\n",
    "        \"\"\"Create a collapsed one hot vector for the review\n",
    "        Args:\n",
    "            review (str): the review\n",
    "        Returns:\n",
    "            one_hot (np.ndarray): the collapsed onehot encoding\n",
    "        \"\"\"\n",
    "        one_hot = np.zeros(len(self.input_vocab), dtype=np.float32)\n",
    "        for token in words:\n",
    "            one_hot[self.input_vocab.lookup_token(token)] = 1\n",
    "        return one_hot\n",
    "    @classmethod\n",
    "    def from_dataframe(cls, df, cutoff=25):\n",
    "        \"\"\"Instantiate the vectorizer from the dataset dataframe\n",
    "        Args:\n",
    "            review_df (pandas.DataFrame): the review dataset\n",
    "            cutoff (int): the parameter for frequency based filtering\n",
    "        Returns:\n",
    "            an instance of the ReviewVectorizer\n",
    "        \"\"\"\n",
    "        input_vocab = Vocabulary(add_unk=True)\n",
    "        class_vocab = Vocabulary(add_unk=False)\n",
    "        # Add ratings\n",
    "        for cl in sorted(set(df.is_fulltime)):\n",
    "            class_vocab.add_token(cl)\n",
    "        # Add top words if count > provided count\n",
    "        word_counts = Counter()\n",
    "        for wordlist in df.tfidf10:\n",
    "            for word in wordlist:\n",
    "                word_counts[word] += 1\n",
    "        for word, count in word_counts.items():\n",
    "            if count > cutoff:\n",
    "                input_vocab.add_token(word)\n",
    "        return cls(input_vocab, class_vocab)\n",
    "    \n",
    "    @classmethod\n",
    "    def from_serializable(cls, contents):\n",
    "        \"\"\"Intantiate a ReviewVectorizer from a serializable dictionary\n",
    "        Args:\n",
    "            contents (dict): the serializable dictionary\n",
    "        Returns:\n",
    "            an instance of the ReviewVectorizer class\n",
    "        \"\"\"\n",
    "        review_vocab = Vocabulary.from_serializable(contents['input_vocab'])\n",
    "        rating_vocab = Vocabulary.from_serializable(contents['class_vocab'])\n",
    "        return cls(input_vocab=input_vocab, class_vocab=class_vocab)\n",
    "    \n",
    "    def to_serializable(self):\n",
    "        \"\"\"Create the serializable dictionary for caching\n",
    "        Returns:\n",
    "            contents (dict): the serializable dictionary\n",
    "        \"\"\"\n",
    "        return {'input_vocab': self.input_vocab.to_serializable(),\n",
    "                'class_vocab': self.class_vocab.to_serializable()}"
   ]
  },
  {
   "cell_type": "code",
   "execution_count": 52,
   "id": "bd5618d6",
   "metadata": {
    "ExecuteTime": {
     "end_time": "2022-05-14T08:58:55.011457Z",
     "start_time": "2022-05-14T08:58:55.009416Z"
    }
   },
   "outputs": [],
   "source": [
    "def generate_batches(dataset, batch_size, shuffle=True, drop_last=True, device=\"cpu\"):\n",
    "    \"\"\"\n",
    "    A generator function which wraps the PyTorch DataLoader. It will\n",
    "    ensure each tensor is on the write device location.\n",
    "    \"\"\"\n",
    "    dataloader = DataLoader(dataset=dataset, batch_size=batch_size, \n",
    "                            shuffle=shuffle, drop_last=drop_last)\n",
    "    for data_dict in dataloader:\n",
    "        out_data_dict = {}\n",
    "        for name, tensor in data_dict.items():\n",
    "            out_data_dict[name] = data_dict[name].to(device)\n",
    "        yield out_data_dict"
   ]
  },
  {
   "cell_type": "code",
   "execution_count": 53,
   "id": "93dd5bcd",
   "metadata": {
    "ExecuteTime": {
     "end_time": "2022-05-14T08:58:55.523557Z",
     "start_time": "2022-05-14T08:58:55.521107Z"
    }
   },
   "outputs": [],
   "source": [
    "class JobDescriptionClassifier(nn.Module):\n",
    "    \"\"\" a simple perceptron-based classifier \"\"\"\n",
    "    def __init__(self, num_features):\n",
    "        \"\"\"\n",
    "        Args:\n",
    "            num_features (int): the size of the input feature vector\n",
    "        \"\"\"\n",
    "        super(JobDescriptionClassifier, self).__init__()\n",
    "        self.fc1 = nn.Linear(in_features=num_features, out_features=1)\n",
    "    \n",
    "    def forward(self, x_in, apply_sigmoid=False):\n",
    "        \"\"\"The forward pass of the classifier\n",
    "        Args:\n",
    "            x_in (torch.Tensor): an input data tensor \n",
    "                    x_in.shape should be (batch, num_features)\n",
    "            apply_sigmoid (bool): a flag for the sigmoid activation\n",
    "                    should be false if used with the cross-entropy losses\n",
    "        Returns:\n",
    "            the resulting tensor. tensor.shape should be (batch,).\n",
    "        \"\"\"\n",
    "        y_out = self.fc1(x_in).squeeze()\n",
    "        \n",
    "        if apply_sigmoid:\n",
    "            y_out = torch.sigmoid(y_out)\n",
    "        return y_out"
   ]
  },
  {
   "cell_type": "code",
   "execution_count": 68,
   "id": "0f753470",
   "metadata": {
    "ExecuteTime": {
     "end_time": "2022-05-14T09:03:06.888439Z",
     "start_time": "2022-05-14T09:03:06.886316Z"
    }
   },
   "outputs": [],
   "source": [
    "from argparse import Namespace\n",
    "args = Namespace(\n",
    "    # Data and path information\n",
    "    frequency_cutoff=25,\n",
    "    model_state_file='task1-model.pth',\n",
    "    input_name='task1',\n",
    "    save_dir='model_storage/task1/',\n",
    "    vectorizer_file='vectorizer.json',\n",
    "    # No model hyperparameters\n",
    "    # Training hyperparameters\n",
    "    batch_size=128,\n",
    "    early_stopping_criteria=5,\n",
    "    learning_rate=0.01,\n",
    "    num_epochs=100,\n",
    "    seed=1337,\n",
    "    # Runtime options\n",
    "    cuda=True,\n",
    "    device='cuda',\n",
    ")"
   ]
  },
  {
   "cell_type": "code",
   "execution_count": 69,
   "id": "9bf738f3",
   "metadata": {
    "ExecuteTime": {
     "end_time": "2022-05-14T09:03:07.762030Z",
     "start_time": "2022-05-14T09:03:07.182094Z"
    }
   },
   "outputs": [],
   "source": [
    "import torch\n",
    "import torch.optim as optim\n",
    "import pandas as pd\n",
    "\n",
    "def make_train_state(args):\n",
    "    return {'epoch_index': 0,\n",
    "            'train_loss': [],\n",
    "            'train_acc': [],\n",
    "            'val_loss': [],\n",
    "            'val_acc': [],\n",
    "            'test_loss': 1,\n",
    "            'test_acc': 1}\n",
    "\n",
    "train_state = make_train_state(args)\n",
    "if not torch.cuda.is_available():\n",
    "    args.cuda = False\n",
    "args.device = torch.device(\"cuda\" if args.cuda else \"cpu\")\n",
    "\n",
    "# dataset and vectorizer\n",
    "dataset = JobDescriptionDataset.load_dataset_and_make_vectorizer(args.input_name)\n",
    "vectorizer = dataset.get_vectorizer()\n",
    "# model\n",
    "classifier = JobDescriptionClassifier(num_features=len(vectorizer.input_vocab))\n",
    "classifier = classifier.to(args.device)\n",
    "# loss and optimizer\n",
    "loss_func = nn.BCEWithLogitsLoss()\n",
    "optimizer = optim.Adam(classifier.parameters(), lr=args.learning_rate)"
   ]
  },
  {
   "cell_type": "code",
   "execution_count": 70,
   "id": "271ebdf0",
   "metadata": {
    "ExecuteTime": {
     "end_time": "2022-05-14T09:03:07.810143Z",
     "start_time": "2022-05-14T09:03:07.808392Z"
    }
   },
   "outputs": [],
   "source": [
    "def compute_accuracy(y_pred, y_target):\n",
    "    y_target = y_target.cpu()\n",
    "    y_pred_indices = (torch.sigmoid(y_pred)>0.5).cpu().long()#.max(dim=1)[1]\n",
    "    n_correct = torch.eq(y_pred_indices, y_target).sum().item()\n",
    "    return n_correct / len(y_pred_indices) * 100"
   ]
  },
  {
   "cell_type": "code",
   "execution_count": 71,
   "id": "8d998557",
   "metadata": {
    "ExecuteTime": {
     "end_time": "2022-05-14T09:05:08.237765Z",
     "start_time": "2022-05-14T09:03:08.271739Z"
    }
   },
   "outputs": [],
   "source": [
    "for epoch_index in range(args.num_epochs):\n",
    "    train_state['epoch_index'] = epoch_index\n",
    "    # Iterate over training dataset\n",
    "    # setup: batch generator, set loss and acc to 0, set train mode on\n",
    "    dataset.set_split('train')\n",
    "    batch_generator = generate_batches(dataset, batch_size=args.batch_size, device=args.device)\n",
    "    running_loss = 0.0\n",
    "    running_acc = 0.0\n",
    "    classifier.train()\n",
    "    for batch_index, batch_dict in enumerate(batch_generator):\n",
    "        # the training routine is 5 steps:\n",
    "        # step 1. zero the gradients\n",
    "        optimizer.zero_grad()\n",
    "        # step 2. compute the output\n",
    "        y_pred = classifier(x_in=batch_dict['x_data'].float())\n",
    "        # step 3. compute the loss\n",
    "        loss = loss_func(y_pred, batch_dict['y_target'].float())\n",
    "        loss_batch = loss.item()\n",
    "        running_loss += (loss_batch-running_loss) / (batch_index + 1)\n",
    "        # step 4. use loss to produce gradients\n",
    "        loss.backward()\n",
    "        # step 5. use optimizer to take gradient step\n",
    "        optimizer.step()\n",
    "        # compute the accuracy\n",
    "        acc_batch = compute_accuracy(y_pred, batch_dict['y_target'])\n",
    "        running_acc += (acc_batch - running_acc) / (batch_index + 1)\n",
    "\n",
    "    train_state['train_loss'].append(running_loss)\n",
    "    train_state['train_acc'].append(running_acc)\n",
    "\n",
    "    # Iterate over val dataset\n",
    "    # setup: batch generator, set loss and acc to 0, set eval mode on\n",
    "    dataset.set_split('val')\n",
    "    batch_generator = generate_batches(dataset, batch_size=args.batch_size, device=args.device)\n",
    "    running_loss = 0.\n",
    "    running_acc = 0.\n",
    "    classifier.eval()\n",
    "\n",
    "    for batch_index, batch_dict in enumerate(batch_generator):\n",
    "        # step 1. compute the output\n",
    "        y_pred = classifier(x_in=batch_dict['x_data'].float())\n",
    "        # step 2. compute the loss\n",
    "        loss = loss_func(y_pred, batch_dict['y_target'].float())\n",
    "        loss_batch = loss.item()\n",
    "        running_loss += (loss_batch - running_loss) / (batch_index + 1)\n",
    "        # step 3. compute the accuracy\n",
    "        acc_batch = compute_accuracy(y_pred, batch_dict['y_target'])\n",
    "        running_acc += (acc_batch - running_acc) / (batch_index + 1)\n",
    "    train_state['val_loss'].append(running_loss)\n",
    "    train_state['val_acc'].append(running_acc)"
   ]
  },
  {
   "cell_type": "code",
   "execution_count": 72,
   "id": "a566646f",
   "metadata": {
    "ExecuteTime": {
     "end_time": "2022-05-14T09:05:08.411093Z",
     "start_time": "2022-05-14T09:05:08.283788Z"
    }
   },
   "outputs": [],
   "source": [
    "dataset.set_split('test')\n",
    "batch_generator = generate_batches(dataset,batch_size=args.batch_size,device=args.device)\n",
    "running_loss = 0.\n",
    "running_acc = 0.\n",
    "classifier.eval()\n",
    "for batch_index, batch_dict in enumerate(batch_generator):\n",
    "    # compute the output\n",
    "    y_pred = classifier(x_in=batch_dict['x_data'].float())\n",
    "    # compute the loss\n",
    "    loss = loss_func(y_pred, batch_dict['y_target'].float())\n",
    "    loss_batch = loss.item()\n",
    "    running_loss += (loss_batch - running_loss) / (batch_index + 1)\n",
    "    # compute the accuracy\n",
    "    acc_batch = compute_accuracy(y_pred, batch_dict['y_target'])\n",
    "    running_acc += (acc_batch - running_acc) / (batch_index + 1)\n",
    "train_state['test_loss'] = running_loss\n",
    "train_state['test_acc'] = running_acc"
   ]
  },
  {
   "cell_type": "code",
   "execution_count": 73,
   "id": "fef610f2",
   "metadata": {
    "ExecuteTime": {
     "end_time": "2022-05-14T09:05:08.457693Z",
     "start_time": "2022-05-14T09:05:08.456038Z"
    }
   },
   "outputs": [
    {
     "name": "stdout",
     "output_type": "stream",
     "text": [
      "Test loss: 0.691\n",
      "Test Accuracy: 52.52\n"
     ]
    }
   ],
   "source": [
    "print(\"Test loss: {:.3f}\".format(train_state['test_loss']))\n",
    "print(\"Test Accuracy: {:.2f}\".format(train_state['test_acc']))"
   ]
  },
  {
   "cell_type": "markdown",
   "id": "b42d5ef7",
   "metadata": {},
   "source": [
    "# Binary Classification"
   ]
  },
  {
   "cell_type": "markdown",
   "id": "15a67d9a",
   "metadata": {},
   "source": [
    "## Data Loading"
   ]
  },
  {
   "cell_type": "code",
   "execution_count": 2,
   "id": "5a1c7f03",
   "metadata": {},
   "outputs": [],
   "source": [
    "train, test, val = load_data('task_1')"
   ]
  },
  {
   "cell_type": "markdown",
   "id": "e6ab171c",
   "metadata": {},
   "source": [
    "## Models"
   ]
  },
  {
   "cell_type": "markdown",
   "id": "5a9fbce4",
   "metadata": {},
   "source": [
    "### Feed Forward Neural Network"
   ]
  },
  {
   "cell_type": "code",
   "execution_count": 3,
   "id": "a855e21a",
   "metadata": {},
   "outputs": [
    {
     "data": {
      "text/html": [
       "<div>\n",
       "<style scoped>\n",
       "    .dataframe tbody tr th:only-of-type {\n",
       "        vertical-align: middle;\n",
       "    }\n",
       "\n",
       "    .dataframe tbody tr th {\n",
       "        vertical-align: top;\n",
       "    }\n",
       "\n",
       "    .dataframe thead th {\n",
       "        text-align: right;\n",
       "    }\n",
       "</style>\n",
       "<table border=\"1\" class=\"dataframe\">\n",
       "  <thead>\n",
       "    <tr style=\"text-align: right;\">\n",
       "      <th></th>\n",
       "      <th>Unnamed: 0</th>\n",
       "      <th>job_description</th>\n",
       "      <th>is_fulltime</th>\n",
       "      <th>tfidf10</th>\n",
       "    </tr>\n",
       "  </thead>\n",
       "  <tbody>\n",
       "    <tr>\n",
       "      <th>0</th>\n",
       "      <td>13999</td>\n",
       "      <td>['due', 'to', 'continued', 'growth', 'our', 'c...</td>\n",
       "      <td>False</td>\n",
       "      <td>['myob' 'becoming' 'adobe' 'numeracy' 'mackay'...</td>\n",
       "    </tr>\n",
       "    <tr>\n",
       "      <th>1</th>\n",
       "      <td>11062</td>\n",
       "      <td>['seeking', 'an', 'administrator', 'in', 'herv...</td>\n",
       "      <td>False</td>\n",
       "      <td>['administration' 'adaptability' 'areas' 'deme...</td>\n",
       "    </tr>\n",
       "    <tr>\n",
       "      <th>2</th>\n",
       "      <td>793</td>\n",
       "      <td>['qualified', 'panel', 'beater', 'or', 'experi...</td>\n",
       "      <td>True</td>\n",
       "      <td>['air' 'allocated' 'panel' 'dismantler' 'mon' ...</td>\n",
       "    </tr>\n",
       "    <tr>\n",
       "      <th>3</th>\n",
       "      <td>16510</td>\n",
       "      <td>['exciting', 'opportunity', 'for', 'an', 'expe...</td>\n",
       "      <td>False</td>\n",
       "      <td>['migration' 'to' 'planning' 'with' 'workplace...</td>\n",
       "    </tr>\n",
       "    <tr>\n",
       "      <th>4</th>\n",
       "      <td>769</td>\n",
       "      <td>['about', 'mercedes', 'benz', 'adelaide', 'mer...</td>\n",
       "      <td>True</td>\n",
       "      <td>['and' 'of' 'cmv' 'art' 'automotive' 'dealersh...</td>\n",
       "    </tr>\n",
       "    <tr>\n",
       "      <th>...</th>\n",
       "      <td>...</td>\n",
       "      <td>...</td>\n",
       "      <td>...</td>\n",
       "      <td>...</td>\n",
       "    </tr>\n",
       "    <tr>\n",
       "      <th>12406</th>\n",
       "      <td>11811</td>\n",
       "      <td>['are', 'you', 'an', 'experienced', 'specialis...</td>\n",
       "      <td>False</td>\n",
       "      <td>['reservoir' 'gynaecologist' 'obstetrician' 'a...</td>\n",
       "    </tr>\n",
       "    <tr>\n",
       "      <th>12407</th>\n",
       "      <td>1115</td>\n",
       "      <td>['flick', 'anticimex', 'is', 'one', 'of', 'aus...</td>\n",
       "      <td>True</td>\n",
       "      <td>['australia' 'although' 'hygiene' 'the' 'crede...</td>\n",
       "    </tr>\n",
       "    <tr>\n",
       "      <th>12408</th>\n",
       "      <td>10492</td>\n",
       "      <td>['restaurant', 'in', 'armadale', 'is', 'seekin...</td>\n",
       "      <td>False</td>\n",
       "      <td>['should' 'least' 'casual' 'at' 'rights' 'cafe...</td>\n",
       "    </tr>\n",
       "    <tr>\n",
       "      <th>12409</th>\n",
       "      <td>1298</td>\n",
       "      <td>['our', 'company', 'is', 'market', 'leader', '...</td>\n",
       "      <td>True</td>\n",
       "      <td>['press' 'in' 'trade' 'drills' 'wire' 'toolmak...</td>\n",
       "    </tr>\n",
       "    <tr>\n",
       "      <th>12410</th>\n",
       "      <td>14071</td>\n",
       "      <td>['month', 'contract', 'for', 'business', 'anal...</td>\n",
       "      <td>False</td>\n",
       "      <td>['employers' 'hays' 'you' 'analysis' 'business...</td>\n",
       "    </tr>\n",
       "  </tbody>\n",
       "</table>\n",
       "<p>12411 rows × 4 columns</p>\n",
       "</div>"
      ],
      "text/plain": [
       "       Unnamed: 0                                    job_description  \\\n",
       "0           13999  ['due', 'to', 'continued', 'growth', 'our', 'c...   \n",
       "1           11062  ['seeking', 'an', 'administrator', 'in', 'herv...   \n",
       "2             793  ['qualified', 'panel', 'beater', 'or', 'experi...   \n",
       "3           16510  ['exciting', 'opportunity', 'for', 'an', 'expe...   \n",
       "4             769  ['about', 'mercedes', 'benz', 'adelaide', 'mer...   \n",
       "...           ...                                                ...   \n",
       "12406       11811  ['are', 'you', 'an', 'experienced', 'specialis...   \n",
       "12407        1115  ['flick', 'anticimex', 'is', 'one', 'of', 'aus...   \n",
       "12408       10492  ['restaurant', 'in', 'armadale', 'is', 'seekin...   \n",
       "12409        1298  ['our', 'company', 'is', 'market', 'leader', '...   \n",
       "12410       14071  ['month', 'contract', 'for', 'business', 'anal...   \n",
       "\n",
       "       is_fulltime                                            tfidf10  \n",
       "0            False  ['myob' 'becoming' 'adobe' 'numeracy' 'mackay'...  \n",
       "1            False  ['administration' 'adaptability' 'areas' 'deme...  \n",
       "2             True  ['air' 'allocated' 'panel' 'dismantler' 'mon' ...  \n",
       "3            False  ['migration' 'to' 'planning' 'with' 'workplace...  \n",
       "4             True  ['and' 'of' 'cmv' 'art' 'automotive' 'dealersh...  \n",
       "...            ...                                                ...  \n",
       "12406        False  ['reservoir' 'gynaecologist' 'obstetrician' 'a...  \n",
       "12407         True  ['australia' 'although' 'hygiene' 'the' 'crede...  \n",
       "12408        False  ['should' 'least' 'casual' 'at' 'rights' 'cafe...  \n",
       "12409         True  ['press' 'in' 'trade' 'drills' 'wire' 'toolmak...  \n",
       "12410        False  ['employers' 'hays' 'you' 'analysis' 'business...  \n",
       "\n",
       "[12411 rows x 4 columns]"
      ]
     },
     "execution_count": 3,
     "metadata": {},
     "output_type": "execute_result"
    }
   ],
   "source": [
    "train"
   ]
  },
  {
   "cell_type": "markdown",
   "id": "a0f4a628",
   "metadata": {},
   "source": [
    "### CNN Conv1D Model"
   ]
  },
  {
   "cell_type": "code",
   "execution_count": null,
   "id": "d54c2453",
   "metadata": {},
   "outputs": [],
   "source": []
  },
  {
   "cell_type": "markdown",
   "id": "50154c18",
   "metadata": {},
   "source": [
    "### CNN Conv1D (full job description)"
   ]
  },
  {
   "cell_type": "code",
   "execution_count": null,
   "id": "8eae8f3f",
   "metadata": {},
   "outputs": [],
   "source": []
  },
  {
   "cell_type": "markdown",
   "id": "f67763d9",
   "metadata": {},
   "source": [
    "## Comparison / Discussion"
   ]
  },
  {
   "cell_type": "code",
   "execution_count": null,
   "id": "a5e8591b",
   "metadata": {},
   "outputs": [],
   "source": []
  },
  {
   "cell_type": "markdown",
   "id": "a3a96d4d",
   "metadata": {},
   "source": [
    "# Multi-class Classification"
   ]
  },
  {
   "cell_type": "markdown",
   "id": "b039d7e8",
   "metadata": {},
   "source": [
    "## Models"
   ]
  },
  {
   "cell_type": "markdown",
   "id": "74b8595e",
   "metadata": {},
   "source": [
    "### Vanilla RNN"
   ]
  },
  {
   "cell_type": "code",
   "execution_count": null,
   "id": "9a764e01",
   "metadata": {},
   "outputs": [],
   "source": []
  },
  {
   "cell_type": "markdown",
   "id": "3b703fcc",
   "metadata": {},
   "source": [
    "### LSTM"
   ]
  },
  {
   "cell_type": "code",
   "execution_count": null,
   "id": "b7a180c8",
   "metadata": {},
   "outputs": [],
   "source": []
  },
  {
   "cell_type": "markdown",
   "id": "921c8816",
   "metadata": {},
   "source": [
    "## Comparison / Discussion"
   ]
  },
  {
   "cell_type": "code",
   "execution_count": null,
   "id": "cad2640b",
   "metadata": {},
   "outputs": [],
   "source": []
  }
 ],
 "metadata": {
  "kernelspec": {
   "display_name": "Python 3 (ipykernel)",
   "language": "python",
   "name": "python3"
  },
  "language_info": {
   "codemirror_mode": {
    "name": "ipython",
    "version": 3
   },
   "file_extension": ".py",
   "mimetype": "text/x-python",
   "name": "python",
   "nbconvert_exporter": "python",
   "pygments_lexer": "ipython3",
   "version": "3.9.12"
  },
  "latex_envs": {
   "LaTeX_envs_menu_present": true,
   "autoclose": false,
   "autocomplete": true,
   "bibliofile": "biblio.bib",
   "cite_by": "apalike",
   "current_citInitial": 1,
   "eqLabelWithNumbers": true,
   "eqNumInitial": 1,
   "hotkeys": {
    "equation": "Ctrl-E",
    "itemize": "Ctrl-I"
   },
   "labels_anchors": false,
   "latex_user_defs": false,
   "report_style_numbering": false,
   "user_envs_cfg": false
  },
  "varInspector": {
   "cols": {
    "lenName": 16,
    "lenType": 16,
    "lenVar": 40
   },
   "kernels_config": {
    "python": {
     "delete_cmd_postfix": "",
     "delete_cmd_prefix": "del ",
     "library": "var_list.py",
     "varRefreshCmd": "print(var_dic_list())"
    },
    "r": {
     "delete_cmd_postfix": ") ",
     "delete_cmd_prefix": "rm(",
     "library": "var_list.r",
     "varRefreshCmd": "cat(var_dic_list()) "
    }
   },
   "types_to_exclude": [
    "module",
    "function",
    "builtin_function_or_method",
    "instance",
    "_Feature"
   ],
   "window_display": false
  }
 },
 "nbformat": 4,
 "nbformat_minor": 5
}
