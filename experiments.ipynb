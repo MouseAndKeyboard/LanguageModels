{
 "cells": [
  {
   "cell_type": "code",
   "execution_count": 1,
   "id": "0864dc69",
   "metadata": {},
   "outputs": [],
   "source": [
    "import pandas as pd\n",
    "\n",
    "def load_data(name):\n",
    "    train = pd.read_csv(f'./data/{name}-train.csv')\n",
    "    test = pd.read_csv(f'./data/{name}-test.csv')\n",
    "    val = pd.read_csv(f'./data/{name}-val.csv')\n",
    "    return train, test, val"
   ]
  },
  {
   "cell_type": "markdown",
   "id": "b42d5ef7",
   "metadata": {},
   "source": [
    "# Binary Classification"
   ]
  },
  {
   "cell_type": "markdown",
   "id": "15a67d9a",
   "metadata": {},
   "source": [
    "## Data Loading"
   ]
  },
  {
   "cell_type": "code",
   "execution_count": 2,
   "id": "5a1c7f03",
   "metadata": {},
   "outputs": [],
   "source": [
    "train, test, val = load_data('task_1')"
   ]
  },
  {
   "cell_type": "markdown",
   "id": "e6ab171c",
   "metadata": {},
   "source": [
    "## Models"
   ]
  },
  {
   "cell_type": "markdown",
   "id": "5a9fbce4",
   "metadata": {},
   "source": [
    "### Feed Forward Neural Network"
   ]
  },
  {
   "cell_type": "code",
   "execution_count": 3,
   "id": "a855e21a",
   "metadata": {},
   "outputs": [
    {
     "data": {
      "text/html": [
       "<div>\n",
       "<style scoped>\n",
       "    .dataframe tbody tr th:only-of-type {\n",
       "        vertical-align: middle;\n",
       "    }\n",
       "\n",
       "    .dataframe tbody tr th {\n",
       "        vertical-align: top;\n",
       "    }\n",
       "\n",
       "    .dataframe thead th {\n",
       "        text-align: right;\n",
       "    }\n",
       "</style>\n",
       "<table border=\"1\" class=\"dataframe\">\n",
       "  <thead>\n",
       "    <tr style=\"text-align: right;\">\n",
       "      <th></th>\n",
       "      <th>Unnamed: 0</th>\n",
       "      <th>job_description</th>\n",
       "      <th>is_fulltime</th>\n",
       "      <th>tfidf10</th>\n",
       "    </tr>\n",
       "  </thead>\n",
       "  <tbody>\n",
       "    <tr>\n",
       "      <th>0</th>\n",
       "      <td>13999</td>\n",
       "      <td>['due', 'to', 'continued', 'growth', 'our', 'c...</td>\n",
       "      <td>False</td>\n",
       "      <td>['myob' 'becoming' 'adobe' 'numeracy' 'mackay'...</td>\n",
       "    </tr>\n",
       "    <tr>\n",
       "      <th>1</th>\n",
       "      <td>11062</td>\n",
       "      <td>['seeking', 'an', 'administrator', 'in', 'herv...</td>\n",
       "      <td>False</td>\n",
       "      <td>['administration' 'adaptability' 'areas' 'deme...</td>\n",
       "    </tr>\n",
       "    <tr>\n",
       "      <th>2</th>\n",
       "      <td>793</td>\n",
       "      <td>['qualified', 'panel', 'beater', 'or', 'experi...</td>\n",
       "      <td>True</td>\n",
       "      <td>['air' 'allocated' 'panel' 'dismantler' 'mon' ...</td>\n",
       "    </tr>\n",
       "    <tr>\n",
       "      <th>3</th>\n",
       "      <td>16510</td>\n",
       "      <td>['exciting', 'opportunity', 'for', 'an', 'expe...</td>\n",
       "      <td>False</td>\n",
       "      <td>['migration' 'to' 'planning' 'with' 'workplace...</td>\n",
       "    </tr>\n",
       "    <tr>\n",
       "      <th>4</th>\n",
       "      <td>769</td>\n",
       "      <td>['about', 'mercedes', 'benz', 'adelaide', 'mer...</td>\n",
       "      <td>True</td>\n",
       "      <td>['and' 'of' 'cmv' 'art' 'automotive' 'dealersh...</td>\n",
       "    </tr>\n",
       "    <tr>\n",
       "      <th>...</th>\n",
       "      <td>...</td>\n",
       "      <td>...</td>\n",
       "      <td>...</td>\n",
       "      <td>...</td>\n",
       "    </tr>\n",
       "    <tr>\n",
       "      <th>12406</th>\n",
       "      <td>11811</td>\n",
       "      <td>['are', 'you', 'an', 'experienced', 'specialis...</td>\n",
       "      <td>False</td>\n",
       "      <td>['reservoir' 'gynaecologist' 'obstetrician' 'a...</td>\n",
       "    </tr>\n",
       "    <tr>\n",
       "      <th>12407</th>\n",
       "      <td>1115</td>\n",
       "      <td>['flick', 'anticimex', 'is', 'one', 'of', 'aus...</td>\n",
       "      <td>True</td>\n",
       "      <td>['australia' 'although' 'hygiene' 'the' 'crede...</td>\n",
       "    </tr>\n",
       "    <tr>\n",
       "      <th>12408</th>\n",
       "      <td>10492</td>\n",
       "      <td>['restaurant', 'in', 'armadale', 'is', 'seekin...</td>\n",
       "      <td>False</td>\n",
       "      <td>['should' 'least' 'casual' 'at' 'rights' 'cafe...</td>\n",
       "    </tr>\n",
       "    <tr>\n",
       "      <th>12409</th>\n",
       "      <td>1298</td>\n",
       "      <td>['our', 'company', 'is', 'market', 'leader', '...</td>\n",
       "      <td>True</td>\n",
       "      <td>['press' 'in' 'trade' 'drills' 'wire' 'toolmak...</td>\n",
       "    </tr>\n",
       "    <tr>\n",
       "      <th>12410</th>\n",
       "      <td>14071</td>\n",
       "      <td>['month', 'contract', 'for', 'business', 'anal...</td>\n",
       "      <td>False</td>\n",
       "      <td>['employers' 'hays' 'you' 'analysis' 'business...</td>\n",
       "    </tr>\n",
       "  </tbody>\n",
       "</table>\n",
       "<p>12411 rows × 4 columns</p>\n",
       "</div>"
      ],
      "text/plain": [
       "       Unnamed: 0                                    job_description  \\\n",
       "0           13999  ['due', 'to', 'continued', 'growth', 'our', 'c...   \n",
       "1           11062  ['seeking', 'an', 'administrator', 'in', 'herv...   \n",
       "2             793  ['qualified', 'panel', 'beater', 'or', 'experi...   \n",
       "3           16510  ['exciting', 'opportunity', 'for', 'an', 'expe...   \n",
       "4             769  ['about', 'mercedes', 'benz', 'adelaide', 'mer...   \n",
       "...           ...                                                ...   \n",
       "12406       11811  ['are', 'you', 'an', 'experienced', 'specialis...   \n",
       "12407        1115  ['flick', 'anticimex', 'is', 'one', 'of', 'aus...   \n",
       "12408       10492  ['restaurant', 'in', 'armadale', 'is', 'seekin...   \n",
       "12409        1298  ['our', 'company', 'is', 'market', 'leader', '...   \n",
       "12410       14071  ['month', 'contract', 'for', 'business', 'anal...   \n",
       "\n",
       "       is_fulltime                                            tfidf10  \n",
       "0            False  ['myob' 'becoming' 'adobe' 'numeracy' 'mackay'...  \n",
       "1            False  ['administration' 'adaptability' 'areas' 'deme...  \n",
       "2             True  ['air' 'allocated' 'panel' 'dismantler' 'mon' ...  \n",
       "3            False  ['migration' 'to' 'planning' 'with' 'workplace...  \n",
       "4             True  ['and' 'of' 'cmv' 'art' 'automotive' 'dealersh...  \n",
       "...            ...                                                ...  \n",
       "12406        False  ['reservoir' 'gynaecologist' 'obstetrician' 'a...  \n",
       "12407         True  ['australia' 'although' 'hygiene' 'the' 'crede...  \n",
       "12408        False  ['should' 'least' 'casual' 'at' 'rights' 'cafe...  \n",
       "12409         True  ['press' 'in' 'trade' 'drills' 'wire' 'toolmak...  \n",
       "12410        False  ['employers' 'hays' 'you' 'analysis' 'business...  \n",
       "\n",
       "[12411 rows x 4 columns]"
      ]
     },
     "execution_count": 3,
     "metadata": {},
     "output_type": "execute_result"
    }
   ],
   "source": [
    "train"
   ]
  },
  {
   "cell_type": "markdown",
   "id": "a0f4a628",
   "metadata": {},
   "source": [
    "### CNN Conv1D Model"
   ]
  },
  {
   "cell_type": "code",
   "execution_count": null,
   "id": "d54c2453",
   "metadata": {},
   "outputs": [],
   "source": []
  },
  {
   "cell_type": "markdown",
   "id": "50154c18",
   "metadata": {},
   "source": [
    "### CNN Conv1D (full job description)"
   ]
  },
  {
   "cell_type": "code",
   "execution_count": null,
   "id": "8eae8f3f",
   "metadata": {},
   "outputs": [],
   "source": []
  },
  {
   "cell_type": "markdown",
   "id": "f67763d9",
   "metadata": {},
   "source": [
    "## Comparison / Discussion"
   ]
  },
  {
   "cell_type": "code",
   "execution_count": null,
   "id": "a5e8591b",
   "metadata": {},
   "outputs": [],
   "source": []
  },
  {
   "cell_type": "markdown",
   "id": "a3a96d4d",
   "metadata": {},
   "source": [
    "# Multi-class Classification"
   ]
  },
  {
   "cell_type": "markdown",
   "id": "b039d7e8",
   "metadata": {},
   "source": [
    "## Models"
   ]
  },
  {
   "cell_type": "markdown",
   "id": "74b8595e",
   "metadata": {},
   "source": [
    "### Vanilla RNN"
   ]
  },
  {
   "cell_type": "code",
   "execution_count": null,
   "id": "9a764e01",
   "metadata": {},
   "outputs": [],
   "source": []
  },
  {
   "cell_type": "markdown",
   "id": "3b703fcc",
   "metadata": {},
   "source": [
    "### LSTM"
   ]
  },
  {
   "cell_type": "code",
   "execution_count": null,
   "id": "b7a180c8",
   "metadata": {},
   "outputs": [],
   "source": []
  },
  {
   "cell_type": "markdown",
   "id": "921c8816",
   "metadata": {},
   "source": [
    "## Comparison / Discussion"
   ]
  },
  {
   "cell_type": "code",
   "execution_count": null,
   "id": "cad2640b",
   "metadata": {},
   "outputs": [],
   "source": []
  }
 ],
 "metadata": {
  "kernelspec": {
   "display_name": "Python 3 (ipykernel)",
   "language": "python",
   "name": "python3"
  },
  "language_info": {
   "codemirror_mode": {
    "name": "ipython",
    "version": 3
   },
   "file_extension": ".py",
   "mimetype": "text/x-python",
   "name": "python",
   "nbconvert_exporter": "python",
   "pygments_lexer": "ipython3",
   "version": "3.8.10"
  }
 },
 "nbformat": 4,
 "nbformat_minor": 5
}
